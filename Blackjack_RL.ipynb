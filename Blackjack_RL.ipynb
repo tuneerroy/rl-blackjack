{
  "nbformat": 4,
  "nbformat_minor": 0,
  "metadata": {
    "colab": {
      "provenance": [],
      "toc_visible": true
    },
    "kernelspec": {
      "name": "python3",
      "display_name": "Python 3"
    },
    "language_info": {
      "name": "python"
    }
  },
  "cells": [
    {
      "cell_type": "code",
      "execution_count": 1,
      "metadata": {
        "id": "Yb9LUm3MW_2J"
      },
      "outputs": [],
      "source": [
        "import pandas as pd\n",
        "import numpy as np\n",
        "import matplotlib.pyplot as plt\n"
      ]
    },
    {
      "cell_type": "code",
      "source": [
        "pd.read_csv(\"blackjack-rl.csv\").head()"
      ],
      "metadata": {
        "colab": {
          "base_uri": "https://localhost:8080/",
          "height": 204
        },
        "id": "LZqIeyGQDTZp",
        "outputId": "3160c353-9ff8-47bd-c024-8d43e66d1535"
      },
      "execution_count": 6,
      "outputs": [
        {
          "output_type": "execute_result",
          "data": {
            "text/plain": [
              "   Episode  Dealer  Current Hand  Num Hands  Hand  Has Ace  Can Split  \\\n",
              "0        0       8             0          1    15        0          0   \n",
              "1        1       2             0          1    15        0          0   \n",
              "2        2       2             0          1    13        0          0   \n",
              "3        3      10             0          1    17        0          0   \n",
              "4        4       6             0          1    15        0          0   \n",
              "\n",
              "   Has Hit  Bet Size  Insurance Action  Reward  Episode Net Reward  \n",
              "0        0         1        0.0  STAND    -1.0                -1.0  \n",
              "1        0         1        0.0  STAND    -1.0                -1.0  \n",
              "2        0         1        0.0  STAND     1.0                 1.0  \n",
              "3        0         1        0.0    HIT    -1.0                -1.0  \n",
              "4        0         1        0.0    HIT     0.0                 NaN  "
            ],
            "text/html": [
              "\n",
              "  <div id=\"df-b84aff24-e25a-4483-8e6b-a0477a24ae76\" class=\"colab-df-container\">\n",
              "    <div>\n",
              "<style scoped>\n",
              "    .dataframe tbody tr th:only-of-type {\n",
              "        vertical-align: middle;\n",
              "    }\n",
              "\n",
              "    .dataframe tbody tr th {\n",
              "        vertical-align: top;\n",
              "    }\n",
              "\n",
              "    .dataframe thead th {\n",
              "        text-align: right;\n",
              "    }\n",
              "</style>\n",
              "<table border=\"1\" class=\"dataframe\">\n",
              "  <thead>\n",
              "    <tr style=\"text-align: right;\">\n",
              "      <th></th>\n",
              "      <th>Episode</th>\n",
              "      <th>Dealer</th>\n",
              "      <th>Current Hand</th>\n",
              "      <th>Num Hands</th>\n",
              "      <th>Hand</th>\n",
              "      <th>Has Ace</th>\n",
              "      <th>Can Split</th>\n",
              "      <th>Has Hit</th>\n",
              "      <th>Bet Size</th>\n",
              "      <th>Insurance</th>\n",
              "      <th>Action</th>\n",
              "      <th>Reward</th>\n",
              "      <th>Episode Net Reward</th>\n",
              "    </tr>\n",
              "  </thead>\n",
              "  <tbody>\n",
              "    <tr>\n",
              "      <th>0</th>\n",
              "      <td>0</td>\n",
              "      <td>8</td>\n",
              "      <td>0</td>\n",
              "      <td>1</td>\n",
              "      <td>15</td>\n",
              "      <td>0</td>\n",
              "      <td>0</td>\n",
              "      <td>0</td>\n",
              "      <td>1</td>\n",
              "      <td>0.0</td>\n",
              "      <td>STAND</td>\n",
              "      <td>-1.0</td>\n",
              "      <td>-1.0</td>\n",
              "    </tr>\n",
              "    <tr>\n",
              "      <th>1</th>\n",
              "      <td>1</td>\n",
              "      <td>2</td>\n",
              "      <td>0</td>\n",
              "      <td>1</td>\n",
              "      <td>15</td>\n",
              "      <td>0</td>\n",
              "      <td>0</td>\n",
              "      <td>0</td>\n",
              "      <td>1</td>\n",
              "      <td>0.0</td>\n",
              "      <td>STAND</td>\n",
              "      <td>-1.0</td>\n",
              "      <td>-1.0</td>\n",
              "    </tr>\n",
              "    <tr>\n",
              "      <th>2</th>\n",
              "      <td>2</td>\n",
              "      <td>2</td>\n",
              "      <td>0</td>\n",
              "      <td>1</td>\n",
              "      <td>13</td>\n",
              "      <td>0</td>\n",
              "      <td>0</td>\n",
              "      <td>0</td>\n",
              "      <td>1</td>\n",
              "      <td>0.0</td>\n",
              "      <td>STAND</td>\n",
              "      <td>1.0</td>\n",
              "      <td>1.0</td>\n",
              "    </tr>\n",
              "    <tr>\n",
              "      <th>3</th>\n",
              "      <td>3</td>\n",
              "      <td>10</td>\n",
              "      <td>0</td>\n",
              "      <td>1</td>\n",
              "      <td>17</td>\n",
              "      <td>0</td>\n",
              "      <td>0</td>\n",
              "      <td>0</td>\n",
              "      <td>1</td>\n",
              "      <td>0.0</td>\n",
              "      <td>HIT</td>\n",
              "      <td>-1.0</td>\n",
              "      <td>-1.0</td>\n",
              "    </tr>\n",
              "    <tr>\n",
              "      <th>4</th>\n",
              "      <td>4</td>\n",
              "      <td>6</td>\n",
              "      <td>0</td>\n",
              "      <td>1</td>\n",
              "      <td>15</td>\n",
              "      <td>0</td>\n",
              "      <td>0</td>\n",
              "      <td>0</td>\n",
              "      <td>1</td>\n",
              "      <td>0.0</td>\n",
              "      <td>HIT</td>\n",
              "      <td>0.0</td>\n",
              "      <td>NaN</td>\n",
              "    </tr>\n",
              "  </tbody>\n",
              "</table>\n",
              "</div>\n",
              "    <div class=\"colab-df-buttons\">\n",
              "\n",
              "  <div class=\"colab-df-container\">\n",
              "    <button class=\"colab-df-convert\" onclick=\"convertToInteractive('df-b84aff24-e25a-4483-8e6b-a0477a24ae76')\"\n",
              "            title=\"Convert this dataframe to an interactive table.\"\n",
              "            style=\"display:none;\">\n",
              "\n",
              "  <svg xmlns=\"http://www.w3.org/2000/svg\" height=\"24px\" viewBox=\"0 -960 960 960\">\n",
              "    <path d=\"M120-120v-720h720v720H120Zm60-500h600v-160H180v160Zm220 220h160v-160H400v160Zm0 220h160v-160H400v160ZM180-400h160v-160H180v160Zm440 0h160v-160H620v160ZM180-180h160v-160H180v160Zm440 0h160v-160H620v160Z\"/>\n",
              "  </svg>\n",
              "    </button>\n",
              "\n",
              "  <style>\n",
              "    .colab-df-container {\n",
              "      display:flex;\n",
              "      gap: 12px;\n",
              "    }\n",
              "\n",
              "    .colab-df-convert {\n",
              "      background-color: #E8F0FE;\n",
              "      border: none;\n",
              "      border-radius: 50%;\n",
              "      cursor: pointer;\n",
              "      display: none;\n",
              "      fill: #1967D2;\n",
              "      height: 32px;\n",
              "      padding: 0 0 0 0;\n",
              "      width: 32px;\n",
              "    }\n",
              "\n",
              "    .colab-df-convert:hover {\n",
              "      background-color: #E2EBFA;\n",
              "      box-shadow: 0px 1px 2px rgba(60, 64, 67, 0.3), 0px 1px 3px 1px rgba(60, 64, 67, 0.15);\n",
              "      fill: #174EA6;\n",
              "    }\n",
              "\n",
              "    .colab-df-buttons div {\n",
              "      margin-bottom: 4px;\n",
              "    }\n",
              "\n",
              "    [theme=dark] .colab-df-convert {\n",
              "      background-color: #3B4455;\n",
              "      fill: #D2E3FC;\n",
              "    }\n",
              "\n",
              "    [theme=dark] .colab-df-convert:hover {\n",
              "      background-color: #434B5C;\n",
              "      box-shadow: 0px 1px 3px 1px rgba(0, 0, 0, 0.15);\n",
              "      filter: drop-shadow(0px 1px 2px rgba(0, 0, 0, 0.3));\n",
              "      fill: #FFFFFF;\n",
              "    }\n",
              "  </style>\n",
              "\n",
              "    <script>\n",
              "      const buttonEl =\n",
              "        document.querySelector('#df-b84aff24-e25a-4483-8e6b-a0477a24ae76 button.colab-df-convert');\n",
              "      buttonEl.style.display =\n",
              "        google.colab.kernel.accessAllowed ? 'block' : 'none';\n",
              "\n",
              "      async function convertToInteractive(key) {\n",
              "        const element = document.querySelector('#df-b84aff24-e25a-4483-8e6b-a0477a24ae76');\n",
              "        const dataTable =\n",
              "          await google.colab.kernel.invokeFunction('convertToInteractive',\n",
              "                                                    [key], {});\n",
              "        if (!dataTable) return;\n",
              "\n",
              "        const docLinkHtml = 'Like what you see? Visit the ' +\n",
              "          '<a target=\"_blank\" href=https://colab.research.google.com/notebooks/data_table.ipynb>data table notebook</a>'\n",
              "          + ' to learn more about interactive tables.';\n",
              "        element.innerHTML = '';\n",
              "        dataTable['output_type'] = 'display_data';\n",
              "        await google.colab.output.renderOutput(dataTable, element);\n",
              "        const docLink = document.createElement('div');\n",
              "        docLink.innerHTML = docLinkHtml;\n",
              "        element.appendChild(docLink);\n",
              "      }\n",
              "    </script>\n",
              "  </div>\n",
              "\n",
              "\n",
              "<div id=\"df-9d0b6f65-7eee-43c2-8aff-c558e303c1eb\">\n",
              "  <button class=\"colab-df-quickchart\" onclick=\"quickchart('df-9d0b6f65-7eee-43c2-8aff-c558e303c1eb')\"\n",
              "            title=\"Suggest charts\"\n",
              "            style=\"display:none;\">\n",
              "\n",
              "<svg xmlns=\"http://www.w3.org/2000/svg\" height=\"24px\"viewBox=\"0 0 24 24\"\n",
              "     width=\"24px\">\n",
              "    <g>\n",
              "        <path d=\"M19 3H5c-1.1 0-2 .9-2 2v14c0 1.1.9 2 2 2h14c1.1 0 2-.9 2-2V5c0-1.1-.9-2-2-2zM9 17H7v-7h2v7zm4 0h-2V7h2v10zm4 0h-2v-4h2v4z\"/>\n",
              "    </g>\n",
              "</svg>\n",
              "  </button>\n",
              "\n",
              "<style>\n",
              "  .colab-df-quickchart {\n",
              "      --bg-color: #E8F0FE;\n",
              "      --fill-color: #1967D2;\n",
              "      --hover-bg-color: #E2EBFA;\n",
              "      --hover-fill-color: #174EA6;\n",
              "      --disabled-fill-color: #AAA;\n",
              "      --disabled-bg-color: #DDD;\n",
              "  }\n",
              "\n",
              "  [theme=dark] .colab-df-quickchart {\n",
              "      --bg-color: #3B4455;\n",
              "      --fill-color: #D2E3FC;\n",
              "      --hover-bg-color: #434B5C;\n",
              "      --hover-fill-color: #FFFFFF;\n",
              "      --disabled-bg-color: #3B4455;\n",
              "      --disabled-fill-color: #666;\n",
              "  }\n",
              "\n",
              "  .colab-df-quickchart {\n",
              "    background-color: var(--bg-color);\n",
              "    border: none;\n",
              "    border-radius: 50%;\n",
              "    cursor: pointer;\n",
              "    display: none;\n",
              "    fill: var(--fill-color);\n",
              "    height: 32px;\n",
              "    padding: 0;\n",
              "    width: 32px;\n",
              "  }\n",
              "\n",
              "  .colab-df-quickchart:hover {\n",
              "    background-color: var(--hover-bg-color);\n",
              "    box-shadow: 0 1px 2px rgba(60, 64, 67, 0.3), 0 1px 3px 1px rgba(60, 64, 67, 0.15);\n",
              "    fill: var(--button-hover-fill-color);\n",
              "  }\n",
              "\n",
              "  .colab-df-quickchart-complete:disabled,\n",
              "  .colab-df-quickchart-complete:disabled:hover {\n",
              "    background-color: var(--disabled-bg-color);\n",
              "    fill: var(--disabled-fill-color);\n",
              "    box-shadow: none;\n",
              "  }\n",
              "\n",
              "  .colab-df-spinner {\n",
              "    border: 2px solid var(--fill-color);\n",
              "    border-color: transparent;\n",
              "    border-bottom-color: var(--fill-color);\n",
              "    animation:\n",
              "      spin 1s steps(1) infinite;\n",
              "  }\n",
              "\n",
              "  @keyframes spin {\n",
              "    0% {\n",
              "      border-color: transparent;\n",
              "      border-bottom-color: var(--fill-color);\n",
              "      border-left-color: var(--fill-color);\n",
              "    }\n",
              "    20% {\n",
              "      border-color: transparent;\n",
              "      border-left-color: var(--fill-color);\n",
              "      border-top-color: var(--fill-color);\n",
              "    }\n",
              "    30% {\n",
              "      border-color: transparent;\n",
              "      border-left-color: var(--fill-color);\n",
              "      border-top-color: var(--fill-color);\n",
              "      border-right-color: var(--fill-color);\n",
              "    }\n",
              "    40% {\n",
              "      border-color: transparent;\n",
              "      border-right-color: var(--fill-color);\n",
              "      border-top-color: var(--fill-color);\n",
              "    }\n",
              "    60% {\n",
              "      border-color: transparent;\n",
              "      border-right-color: var(--fill-color);\n",
              "    }\n",
              "    80% {\n",
              "      border-color: transparent;\n",
              "      border-right-color: var(--fill-color);\n",
              "      border-bottom-color: var(--fill-color);\n",
              "    }\n",
              "    90% {\n",
              "      border-color: transparent;\n",
              "      border-bottom-color: var(--fill-color);\n",
              "    }\n",
              "  }\n",
              "</style>\n",
              "\n",
              "  <script>\n",
              "    async function quickchart(key) {\n",
              "      const quickchartButtonEl =\n",
              "        document.querySelector('#' + key + ' button');\n",
              "      quickchartButtonEl.disabled = true;  // To prevent multiple clicks.\n",
              "      quickchartButtonEl.classList.add('colab-df-spinner');\n",
              "      try {\n",
              "        const charts = await google.colab.kernel.invokeFunction(\n",
              "            'suggestCharts', [key], {});\n",
              "      } catch (error) {\n",
              "        console.error('Error during call to suggestCharts:', error);\n",
              "      }\n",
              "      quickchartButtonEl.classList.remove('colab-df-spinner');\n",
              "      quickchartButtonEl.classList.add('colab-df-quickchart-complete');\n",
              "    }\n",
              "    (() => {\n",
              "      let quickchartButtonEl =\n",
              "        document.querySelector('#df-9d0b6f65-7eee-43c2-8aff-c558e303c1eb button');\n",
              "      quickchartButtonEl.style.display =\n",
              "        google.colab.kernel.accessAllowed ? 'block' : 'none';\n",
              "    })();\n",
              "  </script>\n",
              "</div>\n",
              "    </div>\n",
              "  </div>\n"
            ]
          },
          "metadata": {},
          "execution_count": 6
        }
      ]
    },
    {
      "cell_type": "code",
      "source": [
        "DATA_FILE = \"blackjack-rl-eval.csv\"\n",
        "names = [\"Episode\", \"Dealer\", \"Current Hand\", \"Num Hands\", \"Hand\", \"Has Ace\", \"Can Split\", \"Has Hit\", \"Bet Size\", \"Insurance\", \"Action\", \"Reward\", \"Episode Net Reward\"]\n",
        "\n",
        "raw_df = pd.read_csv(DATA_FILE, names = names, header=None)"
      ],
      "metadata": {
        "id": "fhYybsQ-X1J5"
      },
      "execution_count": 7,
      "outputs": []
    },
    {
      "cell_type": "code",
      "source": [
        "raw_df.head()"
      ],
      "metadata": {
        "colab": {
          "base_uri": "https://localhost:8080/",
          "height": 204
        },
        "id": "h6MNILGQXgaZ",
        "outputId": "90404c38-afff-427b-a0cb-6281b7dffd66"
      },
      "execution_count": 8,
      "outputs": [
        {
          "output_type": "execute_result",
          "data": {
            "text/plain": [
              "      Episode  Dealer  Current Hand  Num Hands  Hand  Has Ace  Can Split  \\\n",
              "0  8099721739       4             0          1    18        0          0   \n",
              "1  8099721740       3             0          1    15        0          0   \n",
              "2  8099721741       8             0          1    15        0          0   \n",
              "3  8099721742       5             0          1    11        0          0   \n",
              "4  8099721742       5             0          1    20        0          0   \n",
              "\n",
              "   Has Hit  Bet Size  Insurance Action  Reward  Episode Net Reward  \n",
              "0        1         1        0.0  STAND    -1.0                -1.0  \n",
              "1        0         1        0.0  STAND    -1.0                -1.0  \n",
              "2        0         1        0.0    HIT    -1.0                -1.0  \n",
              "3        0         1        0.0    HIT     0.0                 NaN  \n",
              "4        1         1        0.0  STAND     1.0                 1.0  "
            ],
            "text/html": [
              "\n",
              "  <div id=\"df-c4bd7067-db32-44c8-86a0-18c4047c62dc\" class=\"colab-df-container\">\n",
              "    <div>\n",
              "<style scoped>\n",
              "    .dataframe tbody tr th:only-of-type {\n",
              "        vertical-align: middle;\n",
              "    }\n",
              "\n",
              "    .dataframe tbody tr th {\n",
              "        vertical-align: top;\n",
              "    }\n",
              "\n",
              "    .dataframe thead th {\n",
              "        text-align: right;\n",
              "    }\n",
              "</style>\n",
              "<table border=\"1\" class=\"dataframe\">\n",
              "  <thead>\n",
              "    <tr style=\"text-align: right;\">\n",
              "      <th></th>\n",
              "      <th>Episode</th>\n",
              "      <th>Dealer</th>\n",
              "      <th>Current Hand</th>\n",
              "      <th>Num Hands</th>\n",
              "      <th>Hand</th>\n",
              "      <th>Has Ace</th>\n",
              "      <th>Can Split</th>\n",
              "      <th>Has Hit</th>\n",
              "      <th>Bet Size</th>\n",
              "      <th>Insurance</th>\n",
              "      <th>Action</th>\n",
              "      <th>Reward</th>\n",
              "      <th>Episode Net Reward</th>\n",
              "    </tr>\n",
              "  </thead>\n",
              "  <tbody>\n",
              "    <tr>\n",
              "      <th>0</th>\n",
              "      <td>8099721739</td>\n",
              "      <td>4</td>\n",
              "      <td>0</td>\n",
              "      <td>1</td>\n",
              "      <td>18</td>\n",
              "      <td>0</td>\n",
              "      <td>0</td>\n",
              "      <td>1</td>\n",
              "      <td>1</td>\n",
              "      <td>0.0</td>\n",
              "      <td>STAND</td>\n",
              "      <td>-1.0</td>\n",
              "      <td>-1.0</td>\n",
              "    </tr>\n",
              "    <tr>\n",
              "      <th>1</th>\n",
              "      <td>8099721740</td>\n",
              "      <td>3</td>\n",
              "      <td>0</td>\n",
              "      <td>1</td>\n",
              "      <td>15</td>\n",
              "      <td>0</td>\n",
              "      <td>0</td>\n",
              "      <td>0</td>\n",
              "      <td>1</td>\n",
              "      <td>0.0</td>\n",
              "      <td>STAND</td>\n",
              "      <td>-1.0</td>\n",
              "      <td>-1.0</td>\n",
              "    </tr>\n",
              "    <tr>\n",
              "      <th>2</th>\n",
              "      <td>8099721741</td>\n",
              "      <td>8</td>\n",
              "      <td>0</td>\n",
              "      <td>1</td>\n",
              "      <td>15</td>\n",
              "      <td>0</td>\n",
              "      <td>0</td>\n",
              "      <td>0</td>\n",
              "      <td>1</td>\n",
              "      <td>0.0</td>\n",
              "      <td>HIT</td>\n",
              "      <td>-1.0</td>\n",
              "      <td>-1.0</td>\n",
              "    </tr>\n",
              "    <tr>\n",
              "      <th>3</th>\n",
              "      <td>8099721742</td>\n",
              "      <td>5</td>\n",
              "      <td>0</td>\n",
              "      <td>1</td>\n",
              "      <td>11</td>\n",
              "      <td>0</td>\n",
              "      <td>0</td>\n",
              "      <td>0</td>\n",
              "      <td>1</td>\n",
              "      <td>0.0</td>\n",
              "      <td>HIT</td>\n",
              "      <td>0.0</td>\n",
              "      <td>NaN</td>\n",
              "    </tr>\n",
              "    <tr>\n",
              "      <th>4</th>\n",
              "      <td>8099721742</td>\n",
              "      <td>5</td>\n",
              "      <td>0</td>\n",
              "      <td>1</td>\n",
              "      <td>20</td>\n",
              "      <td>0</td>\n",
              "      <td>0</td>\n",
              "      <td>1</td>\n",
              "      <td>1</td>\n",
              "      <td>0.0</td>\n",
              "      <td>STAND</td>\n",
              "      <td>1.0</td>\n",
              "      <td>1.0</td>\n",
              "    </tr>\n",
              "  </tbody>\n",
              "</table>\n",
              "</div>\n",
              "    <div class=\"colab-df-buttons\">\n",
              "\n",
              "  <div class=\"colab-df-container\">\n",
              "    <button class=\"colab-df-convert\" onclick=\"convertToInteractive('df-c4bd7067-db32-44c8-86a0-18c4047c62dc')\"\n",
              "            title=\"Convert this dataframe to an interactive table.\"\n",
              "            style=\"display:none;\">\n",
              "\n",
              "  <svg xmlns=\"http://www.w3.org/2000/svg\" height=\"24px\" viewBox=\"0 -960 960 960\">\n",
              "    <path d=\"M120-120v-720h720v720H120Zm60-500h600v-160H180v160Zm220 220h160v-160H400v160Zm0 220h160v-160H400v160ZM180-400h160v-160H180v160Zm440 0h160v-160H620v160ZM180-180h160v-160H180v160Zm440 0h160v-160H620v160Z\"/>\n",
              "  </svg>\n",
              "    </button>\n",
              "\n",
              "  <style>\n",
              "    .colab-df-container {\n",
              "      display:flex;\n",
              "      gap: 12px;\n",
              "    }\n",
              "\n",
              "    .colab-df-convert {\n",
              "      background-color: #E8F0FE;\n",
              "      border: none;\n",
              "      border-radius: 50%;\n",
              "      cursor: pointer;\n",
              "      display: none;\n",
              "      fill: #1967D2;\n",
              "      height: 32px;\n",
              "      padding: 0 0 0 0;\n",
              "      width: 32px;\n",
              "    }\n",
              "\n",
              "    .colab-df-convert:hover {\n",
              "      background-color: #E2EBFA;\n",
              "      box-shadow: 0px 1px 2px rgba(60, 64, 67, 0.3), 0px 1px 3px 1px rgba(60, 64, 67, 0.15);\n",
              "      fill: #174EA6;\n",
              "    }\n",
              "\n",
              "    .colab-df-buttons div {\n",
              "      margin-bottom: 4px;\n",
              "    }\n",
              "\n",
              "    [theme=dark] .colab-df-convert {\n",
              "      background-color: #3B4455;\n",
              "      fill: #D2E3FC;\n",
              "    }\n",
              "\n",
              "    [theme=dark] .colab-df-convert:hover {\n",
              "      background-color: #434B5C;\n",
              "      box-shadow: 0px 1px 3px 1px rgba(0, 0, 0, 0.15);\n",
              "      filter: drop-shadow(0px 1px 2px rgba(0, 0, 0, 0.3));\n",
              "      fill: #FFFFFF;\n",
              "    }\n",
              "  </style>\n",
              "\n",
              "    <script>\n",
              "      const buttonEl =\n",
              "        document.querySelector('#df-c4bd7067-db32-44c8-86a0-18c4047c62dc button.colab-df-convert');\n",
              "      buttonEl.style.display =\n",
              "        google.colab.kernel.accessAllowed ? 'block' : 'none';\n",
              "\n",
              "      async function convertToInteractive(key) {\n",
              "        const element = document.querySelector('#df-c4bd7067-db32-44c8-86a0-18c4047c62dc');\n",
              "        const dataTable =\n",
              "          await google.colab.kernel.invokeFunction('convertToInteractive',\n",
              "                                                    [key], {});\n",
              "        if (!dataTable) return;\n",
              "\n",
              "        const docLinkHtml = 'Like what you see? Visit the ' +\n",
              "          '<a target=\"_blank\" href=https://colab.research.google.com/notebooks/data_table.ipynb>data table notebook</a>'\n",
              "          + ' to learn more about interactive tables.';\n",
              "        element.innerHTML = '';\n",
              "        dataTable['output_type'] = 'display_data';\n",
              "        await google.colab.output.renderOutput(dataTable, element);\n",
              "        const docLink = document.createElement('div');\n",
              "        docLink.innerHTML = docLinkHtml;\n",
              "        element.appendChild(docLink);\n",
              "      }\n",
              "    </script>\n",
              "  </div>\n",
              "\n",
              "\n",
              "<div id=\"df-fe0dc687-203a-4309-ade0-73c3c73798bc\">\n",
              "  <button class=\"colab-df-quickchart\" onclick=\"quickchart('df-fe0dc687-203a-4309-ade0-73c3c73798bc')\"\n",
              "            title=\"Suggest charts\"\n",
              "            style=\"display:none;\">\n",
              "\n",
              "<svg xmlns=\"http://www.w3.org/2000/svg\" height=\"24px\"viewBox=\"0 0 24 24\"\n",
              "     width=\"24px\">\n",
              "    <g>\n",
              "        <path d=\"M19 3H5c-1.1 0-2 .9-2 2v14c0 1.1.9 2 2 2h14c1.1 0 2-.9 2-2V5c0-1.1-.9-2-2-2zM9 17H7v-7h2v7zm4 0h-2V7h2v10zm4 0h-2v-4h2v4z\"/>\n",
              "    </g>\n",
              "</svg>\n",
              "  </button>\n",
              "\n",
              "<style>\n",
              "  .colab-df-quickchart {\n",
              "      --bg-color: #E8F0FE;\n",
              "      --fill-color: #1967D2;\n",
              "      --hover-bg-color: #E2EBFA;\n",
              "      --hover-fill-color: #174EA6;\n",
              "      --disabled-fill-color: #AAA;\n",
              "      --disabled-bg-color: #DDD;\n",
              "  }\n",
              "\n",
              "  [theme=dark] .colab-df-quickchart {\n",
              "      --bg-color: #3B4455;\n",
              "      --fill-color: #D2E3FC;\n",
              "      --hover-bg-color: #434B5C;\n",
              "      --hover-fill-color: #FFFFFF;\n",
              "      --disabled-bg-color: #3B4455;\n",
              "      --disabled-fill-color: #666;\n",
              "  }\n",
              "\n",
              "  .colab-df-quickchart {\n",
              "    background-color: var(--bg-color);\n",
              "    border: none;\n",
              "    border-radius: 50%;\n",
              "    cursor: pointer;\n",
              "    display: none;\n",
              "    fill: var(--fill-color);\n",
              "    height: 32px;\n",
              "    padding: 0;\n",
              "    width: 32px;\n",
              "  }\n",
              "\n",
              "  .colab-df-quickchart:hover {\n",
              "    background-color: var(--hover-bg-color);\n",
              "    box-shadow: 0 1px 2px rgba(60, 64, 67, 0.3), 0 1px 3px 1px rgba(60, 64, 67, 0.15);\n",
              "    fill: var(--button-hover-fill-color);\n",
              "  }\n",
              "\n",
              "  .colab-df-quickchart-complete:disabled,\n",
              "  .colab-df-quickchart-complete:disabled:hover {\n",
              "    background-color: var(--disabled-bg-color);\n",
              "    fill: var(--disabled-fill-color);\n",
              "    box-shadow: none;\n",
              "  }\n",
              "\n",
              "  .colab-df-spinner {\n",
              "    border: 2px solid var(--fill-color);\n",
              "    border-color: transparent;\n",
              "    border-bottom-color: var(--fill-color);\n",
              "    animation:\n",
              "      spin 1s steps(1) infinite;\n",
              "  }\n",
              "\n",
              "  @keyframes spin {\n",
              "    0% {\n",
              "      border-color: transparent;\n",
              "      border-bottom-color: var(--fill-color);\n",
              "      border-left-color: var(--fill-color);\n",
              "    }\n",
              "    20% {\n",
              "      border-color: transparent;\n",
              "      border-left-color: var(--fill-color);\n",
              "      border-top-color: var(--fill-color);\n",
              "    }\n",
              "    30% {\n",
              "      border-color: transparent;\n",
              "      border-left-color: var(--fill-color);\n",
              "      border-top-color: var(--fill-color);\n",
              "      border-right-color: var(--fill-color);\n",
              "    }\n",
              "    40% {\n",
              "      border-color: transparent;\n",
              "      border-right-color: var(--fill-color);\n",
              "      border-top-color: var(--fill-color);\n",
              "    }\n",
              "    60% {\n",
              "      border-color: transparent;\n",
              "      border-right-color: var(--fill-color);\n",
              "    }\n",
              "    80% {\n",
              "      border-color: transparent;\n",
              "      border-right-color: var(--fill-color);\n",
              "      border-bottom-color: var(--fill-color);\n",
              "    }\n",
              "    90% {\n",
              "      border-color: transparent;\n",
              "      border-bottom-color: var(--fill-color);\n",
              "    }\n",
              "  }\n",
              "</style>\n",
              "\n",
              "  <script>\n",
              "    async function quickchart(key) {\n",
              "      const quickchartButtonEl =\n",
              "        document.querySelector('#' + key + ' button');\n",
              "      quickchartButtonEl.disabled = true;  // To prevent multiple clicks.\n",
              "      quickchartButtonEl.classList.add('colab-df-spinner');\n",
              "      try {\n",
              "        const charts = await google.colab.kernel.invokeFunction(\n",
              "            'suggestCharts', [key], {});\n",
              "      } catch (error) {\n",
              "        console.error('Error during call to suggestCharts:', error);\n",
              "      }\n",
              "      quickchartButtonEl.classList.remove('colab-df-spinner');\n",
              "      quickchartButtonEl.classList.add('colab-df-quickchart-complete');\n",
              "    }\n",
              "    (() => {\n",
              "      let quickchartButtonEl =\n",
              "        document.querySelector('#df-fe0dc687-203a-4309-ade0-73c3c73798bc button');\n",
              "      quickchartButtonEl.style.display =\n",
              "        google.colab.kernel.accessAllowed ? 'block' : 'none';\n",
              "    })();\n",
              "  </script>\n",
              "</div>\n",
              "    </div>\n",
              "  </div>\n"
            ]
          },
          "metadata": {},
          "execution_count": 8
        }
      ]
    },
    {
      "cell_type": "code",
      "source": [
        "raw_df.shape"
      ],
      "metadata": {
        "colab": {
          "base_uri": "https://localhost:8080/"
        },
        "id": "xQWI4JVPXj-X",
        "outputId": "017d6631-fa33-4f89-fc7c-6ed53e6a289f"
      },
      "execution_count": 9,
      "outputs": [
        {
          "output_type": "execute_result",
          "data": {
            "text/plain": [
              "(500000, 13)"
            ]
          },
          "metadata": {},
          "execution_count": 9
        }
      ]
    },
    {
      "cell_type": "code",
      "source": [
        "raw_df['Action'].unique()"
      ],
      "metadata": {
        "colab": {
          "base_uri": "https://localhost:8080/"
        },
        "id": "8q6IHnMwmuib",
        "outputId": "108d61ff-4784-4ff1-b95c-fd17d555601b"
      },
      "execution_count": 10,
      "outputs": [
        {
          "output_type": "execute_result",
          "data": {
            "text/plain": [
              "array(['STAND', 'HIT', 'INSURANCE_HALF', 'INSURANCE_FULL', 'SPLIT',\n",
              "       'DOUBLE_DOWN'], dtype=object)"
            ]
          },
          "metadata": {},
          "execution_count": 10
        }
      ]
    },
    {
      "cell_type": "code",
      "source": [
        "def plot_rolling_rewards(df, window, title):\n",
        "  plot_df = df[[\"Episode Net Reward\"]].dropna().reset_index().rolling(window, step = window).mean()\n",
        "  plt.plot(plot_df[\"Episode Net Reward\"])\n",
        "  plt.xlabel(\"Game\")\n",
        "  plt.ylabel(\"Profit\")\n",
        "  plt.title(title)"
      ],
      "metadata": {
        "id": "nLUh3hfAfyKS"
      },
      "execution_count": 11,
      "outputs": []
    },
    {
      "cell_type": "code",
      "source": [
        "def plot_proportion_hands(df, hands_df, title):\n",
        "  plot_df = df / hands_df\n",
        "  plot_df.dropna().plot(kind='bar')\n",
        "  plt.xlabel(\"Hand\")\n",
        "  plt.ylabel(\"Proportion of hands\")\n",
        "  plt.title(title)"
      ],
      "metadata": {
        "id": "uCWRSe6NuJ-c"
      },
      "execution_count": 12,
      "outputs": []
    },
    {
      "cell_type": "markdown",
      "source": [
        "## Training results"
      ],
      "metadata": {
        "id": "X1kGCkLEamuV"
      }
    },
    {
      "cell_type": "code",
      "source": [
        "raw_df[[\"Episode Net Reward\"]].dropna().mean()"
      ],
      "metadata": {
        "colab": {
          "base_uri": "https://localhost:8080/"
        },
        "id": "xdIdTdnla8u3",
        "outputId": "fe406654-c614-45ea-eabe-df245d7aef89"
      },
      "execution_count": 13,
      "outputs": [
        {
          "output_type": "execute_result",
          "data": {
            "text/plain": [
              "Episode Net Reward   -0.027967\n",
              "dtype: float64"
            ]
          },
          "metadata": {},
          "execution_count": 13
        }
      ]
    },
    {
      "cell_type": "code",
      "source": [
        "raw_df[[\"Episode Net Reward\"]].dropna().tail(10000).mean()"
      ],
      "metadata": {
        "colab": {
          "base_uri": "https://localhost:8080/"
        },
        "id": "A-Cfh0ABfZYR",
        "outputId": "32eed8ab-0403-48e1-d213-40601f1e98fc"
      },
      "execution_count": 14,
      "outputs": [
        {
          "output_type": "execute_result",
          "data": {
            "text/plain": [
              "Episode Net Reward   -0.023575\n",
              "dtype: float64"
            ]
          },
          "metadata": {},
          "execution_count": 14
        }
      ]
    },
    {
      "cell_type": "code",
      "source": [
        "raw_df[\"Episode Net Reward\"].dropna().tail(10000).std()"
      ],
      "metadata": {
        "colab": {
          "base_uri": "https://localhost:8080/"
        },
        "id": "nXeYo9ttGW89",
        "outputId": "26d232c8-7e2e-4e90-efd2-3f7a69ae8c25"
      },
      "execution_count": 70,
      "outputs": [
        {
          "output_type": "execute_result",
          "data": {
            "text/plain": [
              "1.0124366509427722"
            ]
          },
          "metadata": {},
          "execution_count": 70
        }
      ]
    },
    {
      "cell_type": "code",
      "source": [
        "plot_rolling_rewards(raw_df, 5000, \"Average profit over sliding window of 5000 games\")"
      ],
      "metadata": {
        "colab": {
          "base_uri": "https://localhost:8080/",
          "height": 472
        },
        "id": "4vD6T8HZgJdd",
        "outputId": "5d4efce4-4d34-4b8c-fa8f-15082616ad5e"
      },
      "execution_count": 17,
      "outputs": [
        {
          "output_type": "display_data",
          "data": {
            "text/plain": [
              "<Figure size 640x480 with 1 Axes>"
            ],
            "image/png": "[encoded data removed]"
          },
          "metadata": {}
        }
      ]
    },
    {
      "cell_type": "markdown",
      "source": [
        "## Decisions investigation"
      ],
      "metadata": {
        "id": "MLBwlNB8avIL"
      }
    },
    {
      "cell_type": "code",
      "source": [
        "# Create new columns for the max hand including ace\n",
        "raw_df['Max Hand'] = np.where(raw_df['Hand'] + raw_df['Has Ace'] * 10 <= 21, raw_df['Hand'] + raw_df['Has Ace'] * 10, raw_df['Hand'])"
      ],
      "metadata": {
        "id": "6YDv9T0TjbTP"
      },
      "execution_count": 18,
      "outputs": []
    },
    {
      "cell_type": "code",
      "source": [
        "# Create new dataframe for proportion of each hand\n",
        "hands_df = raw_df['Hand'].value_counts()\n",
        "max_hands_df = raw_df['Max Hand'].value_counts()"
      ],
      "metadata": {
        "id": "poS1X-xKtqGJ"
      },
      "execution_count": 19,
      "outputs": []
    },
    {
      "cell_type": "markdown",
      "source": [
        "### Hit"
      ],
      "metadata": {
        "id": "S9ofEJtWa07t"
      }
    },
    {
      "cell_type": "code",
      "source": [
        "hit_df = raw_df[raw_df[\"Action\"] == \"HIT\"]"
      ],
      "metadata": {
        "id": "Z1gYm4RWZ1Jz"
      },
      "execution_count": 20,
      "outputs": []
    },
    {
      "cell_type": "code",
      "source": [
        "hit_df['Hand'].mean()"
      ],
      "metadata": {
        "colab": {
          "base_uri": "https://localhost:8080/"
        },
        "id": "6_LmFU78mRb6",
        "outputId": "3977e20b-726c-4c62-a1d3-bc517cf29329"
      },
      "execution_count": 25,
      "outputs": [
        {
          "output_type": "execute_result",
          "data": {
            "text/plain": [
              "11.647512538375635"
            ]
          },
          "metadata": {},
          "execution_count": 25
        }
      ]
    },
    {
      "cell_type": "code",
      "source": [
        "hit_df['Max Hand'].value_counts()"
      ],
      "metadata": {
        "colab": {
          "base_uri": "https://localhost:8080/"
        },
        "id": "F3oHBSm0rjlB",
        "outputId": "5a4bfe1d-d10b-4651-f1da-63b2239d9a27"
      },
      "execution_count": 26,
      "outputs": [
        {
          "output_type": "execute_result",
          "data": {
            "text/plain": [
              "13    36071\n",
              "12    32522\n",
              "14    30939\n",
              "15    29137\n",
              "16    26551\n",
              "11    16851\n",
              "17    16116\n",
              "10    13646\n",
              "9     11647\n",
              "8      8729\n",
              "7      7147\n",
              "18     6082\n",
              "19     5067\n",
              "6      4386\n",
              "5      3581\n",
              "20      747\n",
              "4       596\n",
              "21       18\n",
              "Name: Max Hand, dtype: int64"
            ]
          },
          "metadata": {},
          "execution_count": 26
        }
      ]
    },
    {
      "cell_type": "code",
      "source": [
        "hit_df['Max Hand'].mean()"
      ],
      "metadata": {
        "colab": {
          "base_uri": "https://localhost:8080/"
        },
        "id": "wsqahnY-gbaP",
        "outputId": "0de15360-325d-4f69-a237-9f0155061743"
      },
      "execution_count": 27,
      "outputs": [
        {
          "output_type": "execute_result",
          "data": {
            "text/plain": [
              "12.978081358347376"
            ]
          },
          "metadata": {},
          "execution_count": 27
        }
      ]
    },
    {
      "cell_type": "code",
      "source": [
        "hit_df['Dealer'].mean()"
      ],
      "metadata": {
        "colab": {
          "base_uri": "https://localhost:8080/"
        },
        "id": "5aqzG2REg3A-",
        "outputId": "9fc03555-f806-4fed-ee6f-091b68e896a9"
      },
      "execution_count": 28,
      "outputs": [
        {
          "output_type": "execute_result",
          "data": {
            "text/plain": [
              "7.109861387406788"
            ]
          },
          "metadata": {},
          "execution_count": 28
        }
      ]
    },
    {
      "cell_type": "code",
      "source": [
        "smaller_hand_df = raw_df[raw_df['Hand'] <= raw_df['Dealer']]"
      ],
      "metadata": {
        "id": "6GRaSt_CiJ3r"
      },
      "execution_count": 29,
      "outputs": []
    },
    {
      "cell_type": "code",
      "source": [
        "smaller_hand_df[smaller_hand_df['Action'] == \"HIT\"].shape[0] / smaller_hand_df.shape[0]"
      ],
      "metadata": {
        "colab": {
          "base_uri": "https://localhost:8080/"
        },
        "id": "vzyOa2CThHlR",
        "outputId": "4b030e8a-5254-4bad-80ed-2972c59a9df1"
      },
      "execution_count": 30,
      "outputs": [
        {
          "output_type": "execute_result",
          "data": {
            "text/plain": [
              "0.9011074972209642"
            ]
          },
          "metadata": {},
          "execution_count": 30
        }
      ]
    },
    {
      "cell_type": "code",
      "source": [
        "larger_hand_df = raw_df[raw_df['Max Hand'] > raw_df['Dealer']]"
      ],
      "metadata": {
        "id": "jtz0HCWqiSsg"
      },
      "execution_count": 31,
      "outputs": []
    },
    {
      "cell_type": "code",
      "source": [
        "larger_hand_df[larger_hand_df['Action'] == \"HIT\"].shape[0] / larger_hand_df.shape[0]"
      ],
      "metadata": {
        "colab": {
          "base_uri": "https://localhost:8080/"
        },
        "id": "mku5Fu3DisN1",
        "outputId": "76da0f39-d44f-4d84-82f9-ad6aacb77e72"
      },
      "execution_count": 32,
      "outputs": [
        {
          "output_type": "execute_result",
          "data": {
            "text/plain": [
              "0.4762362804685958"
            ]
          },
          "metadata": {},
          "execution_count": 32
        }
      ]
    },
    {
      "cell_type": "code",
      "source": [
        "plot_proportion_hands(hit_df['Max Hand'].value_counts(), max_hands_df, \"Hit action proportion\")"
      ],
      "metadata": {
        "colab": {
          "base_uri": "https://localhost:8080/",
          "height": 475
        },
        "id": "Deouio0fuha4",
        "outputId": "380c10f0-25a3-4809-e98a-cc61941d31c0"
      },
      "execution_count": 34,
      "outputs": [
        {
          "output_type": "display_data",
          "data": {
            "text/plain": [
              "<Figure size 640x480 with 1 Axes>"
            ],
            "image/png": "[encoded data removed]"
          },
          "metadata": {}
        }
      ]
    },
    {
      "cell_type": "markdown",
      "source": [
        "### Stand"
      ],
      "metadata": {
        "id": "dnYC5dA2gk40"
      }
    },
    {
      "cell_type": "code",
      "source": [
        "stand_df = raw_df[raw_df['Action'] == \"STAND\"]"
      ],
      "metadata": {
        "id": "GauvUClIgjZa"
      },
      "execution_count": 35,
      "outputs": []
    },
    {
      "cell_type": "code",
      "source": [
        "plot_rolling_rewards(stand_df, 5000, \"Average profit of stand action\")"
      ],
      "metadata": {
        "colab": {
          "base_uri": "https://localhost:8080/",
          "height": 472
        },
        "id": "doL4hXO7grTs",
        "outputId": "f1f66afe-1125-4c84-ac09-96e3a3d55362"
      },
      "execution_count": 38,
      "outputs": [
        {
          "output_type": "display_data",
          "data": {
            "text/plain": [
              "<Figure size 640x480 with 1 Axes>"
            ],
            "image/png": "[encoded data removed]"
          },
          "metadata": {}
        }
      ]
    },
    {
      "cell_type": "code",
      "source": [
        "stand_df[\"Episode Net Reward\"].mean()"
      ],
      "metadata": {
        "colab": {
          "base_uri": "https://localhost:8080/"
        },
        "id": "ufFlCfCLEmUT",
        "outputId": "b37be1c8-93f9-4bf8-e5af-a0dba6d81f5a"
      },
      "execution_count": 39,
      "outputs": [
        {
          "output_type": "execute_result",
          "data": {
            "text/plain": [
              "0.2969234598154459"
            ]
          },
          "metadata": {},
          "execution_count": 39
        }
      ]
    },
    {
      "cell_type": "code",
      "source": [
        "stand_df['Dealer'].mean()"
      ],
      "metadata": {
        "colab": {
          "base_uri": "https://localhost:8080/"
        },
        "id": "4gcrO-u_gwOc",
        "outputId": "48ebcf2f-d384-4ced-ad83-8c4d540ecf96"
      },
      "execution_count": 40,
      "outputs": [
        {
          "output_type": "execute_result",
          "data": {
            "text/plain": [
              "6.188183335779278"
            ]
          },
          "metadata": {},
          "execution_count": 40
        }
      ]
    },
    {
      "cell_type": "code",
      "source": [
        "stand_df['Hand'].mean()"
      ],
      "metadata": {
        "colab": {
          "base_uri": "https://localhost:8080/"
        },
        "id": "QpP3L2BcjFyP",
        "outputId": "9f25695b-33d2-4b2e-9d56-525f21a7c30a"
      },
      "execution_count": 41,
      "outputs": [
        {
          "output_type": "execute_result",
          "data": {
            "text/plain": [
              "17.216094621367773"
            ]
          },
          "metadata": {},
          "execution_count": 41
        }
      ]
    },
    {
      "cell_type": "code",
      "source": [
        "stand_df['Max Hand'].mean()"
      ],
      "metadata": {
        "colab": {
          "base_uri": "https://localhost:8080/"
        },
        "id": "fCBmvIFDmZyj",
        "outputId": "95160b16-9d0c-40e6-e097-65e12add7b55"
      },
      "execution_count": 42,
      "outputs": [
        {
          "output_type": "execute_result",
          "data": {
            "text/plain": [
              "18.424589998532433"
            ]
          },
          "metadata": {},
          "execution_count": 42
        }
      ]
    },
    {
      "cell_type": "code",
      "source": [
        "plot_proportion_hands(stand_df['Max Hand'].value_counts(), max_hands_df, \"Stand action proportion\")"
      ],
      "metadata": {
        "colab": {
          "base_uri": "https://localhost:8080/",
          "height": 475
        },
        "id": "fSNIk9Q_usul",
        "outputId": "fded5a28-3990-468a-bd46-c552022634b9"
      },
      "execution_count": 44,
      "outputs": [
        {
          "output_type": "display_data",
          "data": {
            "text/plain": [
              "<Figure size 640x480 with 1 Axes>"
            ],
            "image/png": "[encoded data removed]"
          },
          "metadata": {}
        }
      ]
    },
    {
      "cell_type": "markdown",
      "source": [
        "### Double Down"
      ],
      "metadata": {
        "id": "Sq6kzCb7mhDL"
      }
    },
    {
      "cell_type": "code",
      "source": [
        "double_df = raw_df[raw_df['Action'] == \"DOUBLE_DOWN\"]"
      ],
      "metadata": {
        "id": "PO6FiR-amgbl"
      },
      "execution_count": 45,
      "outputs": []
    },
    {
      "cell_type": "code",
      "source": [
        "double_df.shape"
      ],
      "metadata": {
        "colab": {
          "base_uri": "https://localhost:8080/"
        },
        "id": "TTJ4OPowmpwP",
        "outputId": "ca8aafaa-390e-4fbe-c81d-5e697bda5f67"
      },
      "execution_count": 46,
      "outputs": [
        {
          "output_type": "execute_result",
          "data": {
            "text/plain": [
              "(369, 14)"
            ]
          },
          "metadata": {},
          "execution_count": 46
        }
      ]
    },
    {
      "cell_type": "code",
      "source": [
        "plot_rolling_rewards(double_df, 1, \"Double Down 50\")"
      ],
      "metadata": {
        "colab": {
          "base_uri": "https://localhost:8080/",
          "height": 472
        },
        "id": "Bg9R0mM8mqxL",
        "outputId": "2bb274ed-85c1-429e-f24d-9514201ee3c6"
      },
      "execution_count": 50,
      "outputs": [
        {
          "output_type": "display_data",
          "data": {
            "text/plain": [
              "<Figure size 640x480 with 1 Axes>"
            ],
            "image/png": "[encoded data removed]"
          },
          "metadata": {}
        }
      ]
    },
    {
      "cell_type": "code",
      "source": [
        "double_df['Episode Net Reward'].mean()"
      ],
      "metadata": {
        "colab": {
          "base_uri": "https://localhost:8080/"
        },
        "id": "BxG4TVn9m8fR",
        "outputId": "bc661eab-8d94-4df0-da3c-6336ded44948"
      },
      "execution_count": 51,
      "outputs": [
        {
          "output_type": "execute_result",
          "data": {
            "text/plain": [
              "1.0"
            ]
          },
          "metadata": {},
          "execution_count": 51
        }
      ]
    },
    {
      "cell_type": "code",
      "source": [
        "double_df['Hand'].mean()"
      ],
      "metadata": {
        "colab": {
          "base_uri": "https://localhost:8080/"
        },
        "id": "dRz74ThMoE9c",
        "outputId": "e2e2f1dc-f69c-4dc3-a2fd-23b4af87ab99"
      },
      "execution_count": 52,
      "outputs": [
        {
          "output_type": "execute_result",
          "data": {
            "text/plain": [
              "10.268292682926829"
            ]
          },
          "metadata": {},
          "execution_count": 52
        }
      ]
    },
    {
      "cell_type": "code",
      "source": [
        "double_df['Hand'].value_counts()"
      ],
      "metadata": {
        "colab": {
          "base_uri": "https://localhost:8080/"
        },
        "id": "8S-lbHbtra5u",
        "outputId": "4ba8c93e-3322-41e6-eb7d-5934973864b5"
      },
      "execution_count": 53,
      "outputs": [
        {
          "output_type": "execute_result",
          "data": {
            "text/plain": [
              "11    171\n",
              "10    126\n",
              "9      72\n",
              "Name: Hand, dtype: int64"
            ]
          },
          "metadata": {},
          "execution_count": 53
        }
      ]
    },
    {
      "cell_type": "code",
      "source": [
        "plot_proportion_hands(double_df['Hand'].value_counts(), hands_df, \"Proportion of hands doubled down\")"
      ],
      "metadata": {
        "colab": {
          "base_uri": "https://localhost:8080/",
          "height": 475
        },
        "id": "Osj1GJPRu3eb",
        "outputId": "0e42bc87-d88f-4ef4-a0a4-b9e2c041f323"
      },
      "execution_count": 54,
      "outputs": [
        {
          "output_type": "display_data",
          "data": {
            "text/plain": [
              "<Figure size 640x480 with 1 Axes>"
            ],
            "image/png": "[encoded data removed]"
          },
          "metadata": {}
        }
      ]
    },
    {
      "cell_type": "code",
      "source": [
        "double_df['Max Hand'].mean()"
      ],
      "metadata": {
        "colab": {
          "base_uri": "https://localhost:8080/"
        },
        "id": "gkbfBhR2qYr9",
        "outputId": "8aced56c-29c5-4203-86b4-1d876ad8564e"
      },
      "execution_count": 55,
      "outputs": [
        {
          "output_type": "execute_result",
          "data": {
            "text/plain": [
              "11.433604336043361"
            ]
          },
          "metadata": {},
          "execution_count": 55
        }
      ]
    },
    {
      "cell_type": "code",
      "source": [
        "double_df['Dealer'].mean()"
      ],
      "metadata": {
        "colab": {
          "base_uri": "https://localhost:8080/"
        },
        "id": "62jd-BN0oKWa",
        "outputId": "17f752ae-0054-4db3-dd29-9c7e6c74e429"
      },
      "execution_count": 56,
      "outputs": [
        {
          "output_type": "execute_result",
          "data": {
            "text/plain": [
              "4.897018970189702"
            ]
          },
          "metadata": {},
          "execution_count": 56
        }
      ]
    },
    {
      "cell_type": "markdown",
      "source": [
        "### Split"
      ],
      "metadata": {
        "id": "c5pLdjzhqi0e"
      }
    },
    {
      "cell_type": "code",
      "source": [
        "split_df = raw_df[raw_df['Action'] == \"SPLIT\"]"
      ],
      "metadata": {
        "id": "-MmIVabEqWdx"
      },
      "execution_count": 57,
      "outputs": []
    },
    {
      "cell_type": "code",
      "source": [
        "split_df.shape"
      ],
      "metadata": {
        "colab": {
          "base_uri": "https://localhost:8080/"
        },
        "id": "SrWK1unXqm8F",
        "outputId": "786b2096-96ac-44ec-f837-aecdc652d916"
      },
      "execution_count": 58,
      "outputs": [
        {
          "output_type": "execute_result",
          "data": {
            "text/plain": [
              "(10393, 14)"
            ]
          },
          "metadata": {},
          "execution_count": 58
        }
      ]
    },
    {
      "cell_type": "code",
      "source": [
        "split_df['Hand'].mean()"
      ],
      "metadata": {
        "colab": {
          "base_uri": "https://localhost:8080/"
        },
        "id": "6gHwjTELqwie",
        "outputId": "09d0ee90-2c4c-4de6-e8b1-2ef169e5fca3"
      },
      "execution_count": 59,
      "outputs": [
        {
          "output_type": "execute_result",
          "data": {
            "text/plain": [
              "13.66458193014529"
            ]
          },
          "metadata": {},
          "execution_count": 59
        }
      ]
    },
    {
      "cell_type": "code",
      "source": [
        "split_df['Hand'].value_counts().plot(kind='bar')"
      ],
      "metadata": {
        "colab": {
          "base_uri": "https://localhost:8080/",
          "height": 451
        },
        "id": "pQ9lK-_UrDQg",
        "outputId": "1db8f708-8ff9-43d0-91a8-b3992e338b08"
      },
      "execution_count": 60,
      "outputs": [
        {
          "output_type": "execute_result",
          "data": {
            "text/plain": [
              "<Axes: >"
            ]
          },
          "metadata": {},
          "execution_count": 60
        },
        {
          "output_type": "display_data",
          "data": {
            "text/plain": [
              "<Figure size 640x480 with 1 Axes>"
            ],
            "image/png": "[encoded data removed]"
          },
          "metadata": {}
        }
      ]
    },
    {
      "cell_type": "code",
      "source": [
        "plot_proportion_hands(split_df['Hand'].value_counts(), hands_df, \"Proportion hands split\")"
      ],
      "metadata": {
        "colab": {
          "base_uri": "https://localhost:8080/",
          "height": 475
        },
        "id": "ckDyhwb5vDSv",
        "outputId": "69c0c277-fb10-4763-99e9-47f4d808768e"
      },
      "execution_count": 61,
      "outputs": [
        {
          "output_type": "display_data",
          "data": {
            "text/plain": [
              "<Figure size 640x480 with 1 Axes>"
            ],
            "image/png": "[encoded data removed]"
          },
          "metadata": {}
        }
      ]
    },
    {
      "cell_type": "markdown",
      "source": [
        "### Insurance"
      ],
      "metadata": {
        "id": "so5ePmrusTeg"
      }
    },
    {
      "cell_type": "code",
      "source": [
        "insurance_df = raw_df[(raw_df['Action'] == \"INSURANCE_HALF\") | (raw_df['Action'] == \"INSURANCE_FULL\")]"
      ],
      "metadata": {
        "id": "cllSt5mnrNdi"
      },
      "execution_count": 62,
      "outputs": []
    },
    {
      "cell_type": "code",
      "source": [
        "insurance_df['Dealer'].count() / raw_df[raw_df['Dealer'] == 1].shape[0]"
      ],
      "metadata": {
        "colab": {
          "base_uri": "https://localhost:8080/"
        },
        "id": "C7kW5SeJsj4G",
        "outputId": "e8bfb321-c15a-4bb8-a9b3-017c9b261d25"
      },
      "execution_count": 63,
      "outputs": [
        {
          "output_type": "execute_result",
          "data": {
            "text/plain": [
              "0.3699911647003794"
            ]
          },
          "metadata": {},
          "execution_count": 63
        }
      ]
    },
    {
      "cell_type": "code",
      "source": [
        "insurance_df['Max Hand'].mean()"
      ],
      "metadata": {
        "colab": {
          "base_uri": "https://localhost:8080/"
        },
        "id": "FdkTgm3gs7A4",
        "outputId": "6d8a64cb-bce6-462a-d549-62364c020d6c"
      },
      "execution_count": 64,
      "outputs": [
        {
          "output_type": "execute_result",
          "data": {
            "text/plain": [
              "14.562110783349722"
            ]
          },
          "metadata": {},
          "execution_count": 64
        }
      ]
    },
    {
      "cell_type": "code",
      "source": [
        "plot_proportion_hands(insurance_df['Max Hand'].value_counts(), raw_df[raw_df['Dealer'] == 1]['Max Hand'].value_counts(), \"Proportion of Hands where insurance used (Dealer has Ace)\")"
      ],
      "metadata": {
        "colab": {
          "base_uri": "https://localhost:8080/",
          "height": 475
        },
        "id": "_dwzPjEctXeA",
        "outputId": "d3d78d66-390b-477c-d670-dec0e72a843a"
      },
      "execution_count": 69,
      "outputs": [
        {
          "output_type": "display_data",
          "data": {
            "text/plain": [
              "<Figure size 640x480 with 1 Axes>"
            ],
            "image/png": "[encoded data removed]"
          },
          "metadata": {}
        }
      ]
    },
    {
      "cell_type": "markdown",
      "source": [
        "## By hand value"
      ],
      "metadata": {
        "id": "8VYrTzz4xspz"
      }
    },
    {
      "cell_type": "markdown",
      "source": [
        "### Hand of 10"
      ],
      "metadata": {
        "id": "4DvznfHPG2pt"
      }
    },
    {
      "cell_type": "code",
      "source": [
        "hand_10_df = raw_df[raw_df[\"Max Hand\"] == 10].tail(10000)"
      ],
      "metadata": {
        "id": "bIB1DB26xukH"
      },
      "execution_count": 85,
      "outputs": []
    },
    {
      "cell_type": "code",
      "source": [
        "hand_10_df['Action'].value_counts().plot(kind='bar')"
      ],
      "metadata": {
        "colab": {
          "base_uri": "https://localhost:8080/",
          "height": 556
        },
        "id": "O55GT2fvxzZd",
        "outputId": "460de2c9-f87f-41ad-d456-59c4f5209905"
      },
      "execution_count": 86,
      "outputs": [
        {
          "output_type": "execute_result",
          "data": {
            "text/plain": [
              "<Axes: >"
            ]
          },
          "metadata": {},
          "execution_count": 86
        },
        {
          "output_type": "display_data",
          "data": {
            "text/plain": [
              "<Figure size 640x480 with 1 Axes>"
            ],
            "image/png": "[encoded data removed]"
          },
          "metadata": {}
        }
      ]
    },
    {
      "cell_type": "code",
      "source": [
        "hand_10_df[hand_10_df['Action'] == \"STAND\"]\n",
        "# Seems to be standing on 10 when it has a lot of hands (split twice or more)"
      ],
      "metadata": {
        "colab": {
          "base_uri": "https://localhost:8080/",
          "height": 359
        },
        "id": "m5bgvXl5G99x",
        "outputId": "64bd3c2d-6b8b-411f-c72b-be94526a98b9"
      },
      "execution_count": 88,
      "outputs": [
        {
          "output_type": "execute_result",
          "data": {
            "text/plain": [
              "           Episode  Dealer  Current Hand  Num Hands  Hand  Has Ace  Can Split  \\\n",
              "159902  8099810916       5             1          3    10        0          0   \n",
              "200239  8099833250       4             1          2    10        0          0   \n",
              "224658  8099846884      10             0          3    10        0          0   \n",
              "228002  8099848752       3             1          3    10        0          0   \n",
              "228531  8099849045       4             1          2    10        0          0   \n",
              "288171  8099882335       5             1          3    10        0          0   \n",
              "386608  8099936978       2             1          2    10        0          0   \n",
              "389708  8099938680       6             0          3    10        0          0   \n",
              "389937  8099938805       4             2          3    10        0          0   \n",
              "448008  8099971056       2             0          3    10        0          0   \n",
              "\n",
              "        Has Hit  Bet Size  Insurance Action  Reward  Episode Net Reward  \\\n",
              "159902        1         1        0.0  STAND     0.0                 NaN   \n",
              "200239        0         1        0.0  STAND     3.0                 3.0   \n",
              "224658        0         1        0.0  STAND     0.0                 NaN   \n",
              "228002        0         1        0.0  STAND     0.0                 NaN   \n",
              "228531        0         1        0.0  STAND     1.0                 1.0   \n",
              "288171        0         1        0.0  STAND     0.0                 NaN   \n",
              "386608        0         1        0.0  STAND     3.0                 3.0   \n",
              "389708        0         1        0.0  STAND     0.0                 NaN   \n",
              "389937        1         1        0.0  STAND    -4.0                -4.0   \n",
              "448008        0         1        0.0  STAND     0.0                 NaN   \n",
              "\n",
              "        Max Hand  \n",
              "159902        10  \n",
              "200239        10  \n",
              "224658        10  \n",
              "228002        10  \n",
              "228531        10  \n",
              "288171        10  \n",
              "386608        10  \n",
              "389708        10  \n",
              "389937        10  \n",
              "448008        10  "
            ],
            "text/html": [
              "\n",
              "  <div id=\"df-38741319-2e86-4e21-8591-25e2c05f09ba\" class=\"colab-df-container\">\n",
              "    <div>\n",
              "<style scoped>\n",
              "    .dataframe tbody tr th:only-of-type {\n",
              "        vertical-align: middle;\n",
              "    }\n",
              "\n",
              "    .dataframe tbody tr th {\n",
              "        vertical-align: top;\n",
              "    }\n",
              "\n",
              "    .dataframe thead th {\n",
              "        text-align: right;\n",
              "    }\n",
              "</style>\n",
              "<table border=\"1\" class=\"dataframe\">\n",
              "  <thead>\n",
              "    <tr style=\"text-align: right;\">\n",
              "      <th></th>\n",
              "      <th>Episode</th>\n",
              "      <th>Dealer</th>\n",
              "      <th>Current Hand</th>\n",
              "      <th>Num Hands</th>\n",
              "      <th>Hand</th>\n",
              "      <th>Has Ace</th>\n",
              "      <th>Can Split</th>\n",
              "      <th>Has Hit</th>\n",
              "      <th>Bet Size</th>\n",
              "      <th>Insurance</th>\n",
              "      <th>Action</th>\n",
              "      <th>Reward</th>\n",
              "      <th>Episode Net Reward</th>\n",
              "      <th>Max Hand</th>\n",
              "    </tr>\n",
              "  </thead>\n",
              "  <tbody>\n",
              "    <tr>\n",
              "      <th>159902</th>\n",
              "      <td>8099810916</td>\n",
              "      <td>5</td>\n",
              "      <td>1</td>\n",
              "      <td>3</td>\n",
              "      <td>10</td>\n",
              "      <td>0</td>\n",
              "      <td>0</td>\n",
              "      <td>1</td>\n",
              "      <td>1</td>\n",
              "      <td>0.0</td>\n",
              "      <td>STAND</td>\n",
              "      <td>0.0</td>\n",
              "      <td>NaN</td>\n",
              "      <td>10</td>\n",
              "    </tr>\n",
              "    <tr>\n",
              "      <th>200239</th>\n",
              "      <td>8099833250</td>\n",
              "      <td>4</td>\n",
              "      <td>1</td>\n",
              "      <td>2</td>\n",
              "      <td>10</td>\n",
              "      <td>0</td>\n",
              "      <td>0</td>\n",
              "      <td>0</td>\n",
              "      <td>1</td>\n",
              "      <td>0.0</td>\n",
              "      <td>STAND</td>\n",
              "      <td>3.0</td>\n",
              "      <td>3.0</td>\n",
              "      <td>10</td>\n",
              "    </tr>\n",
              "    <tr>\n",
              "      <th>224658</th>\n",
              "      <td>8099846884</td>\n",
              "      <td>10</td>\n",
              "      <td>0</td>\n",
              "      <td>3</td>\n",
              "      <td>10</td>\n",
              "      <td>0</td>\n",
              "      <td>0</td>\n",
              "      <td>0</td>\n",
              "      <td>1</td>\n",
              "      <td>0.0</td>\n",
              "      <td>STAND</td>\n",
              "      <td>0.0</td>\n",
              "      <td>NaN</td>\n",
              "      <td>10</td>\n",
              "    </tr>\n",
              "    <tr>\n",
              "      <th>228002</th>\n",
              "      <td>8099848752</td>\n",
              "      <td>3</td>\n",
              "      <td>1</td>\n",
              "      <td>3</td>\n",
              "      <td>10</td>\n",
              "      <td>0</td>\n",
              "      <td>0</td>\n",
              "      <td>0</td>\n",
              "      <td>1</td>\n",
              "      <td>0.0</td>\n",
              "      <td>STAND</td>\n",
              "      <td>0.0</td>\n",
              "      <td>NaN</td>\n",
              "      <td>10</td>\n",
              "    </tr>\n",
              "    <tr>\n",
              "      <th>228531</th>\n",
              "      <td>8099849045</td>\n",
              "      <td>4</td>\n",
              "      <td>1</td>\n",
              "      <td>2</td>\n",
              "      <td>10</td>\n",
              "      <td>0</td>\n",
              "      <td>0</td>\n",
              "      <td>0</td>\n",
              "      <td>1</td>\n",
              "      <td>0.0</td>\n",
              "      <td>STAND</td>\n",
              "      <td>1.0</td>\n",
              "      <td>1.0</td>\n",
              "      <td>10</td>\n",
              "    </tr>\n",
              "    <tr>\n",
              "      <th>288171</th>\n",
              "      <td>8099882335</td>\n",
              "      <td>5</td>\n",
              "      <td>1</td>\n",
              "      <td>3</td>\n",
              "      <td>10</td>\n",
              "      <td>0</td>\n",
              "      <td>0</td>\n",
              "      <td>0</td>\n",
              "      <td>1</td>\n",
              "      <td>0.0</td>\n",
              "      <td>STAND</td>\n",
              "      <td>0.0</td>\n",
              "      <td>NaN</td>\n",
              "      <td>10</td>\n",
              "    </tr>\n",
              "    <tr>\n",
              "      <th>386608</th>\n",
              "      <td>8099936978</td>\n",
              "      <td>2</td>\n",
              "      <td>1</td>\n",
              "      <td>2</td>\n",
              "      <td>10</td>\n",
              "      <td>0</td>\n",
              "      <td>0</td>\n",
              "      <td>0</td>\n",
              "      <td>1</td>\n",
              "      <td>0.0</td>\n",
              "      <td>STAND</td>\n",
              "      <td>3.0</td>\n",
              "      <td>3.0</td>\n",
              "      <td>10</td>\n",
              "    </tr>\n",
              "    <tr>\n",
              "      <th>389708</th>\n",
              "      <td>8099938680</td>\n",
              "      <td>6</td>\n",
              "      <td>0</td>\n",
              "      <td>3</td>\n",
              "      <td>10</td>\n",
              "      <td>0</td>\n",
              "      <td>0</td>\n",
              "      <td>0</td>\n",
              "      <td>1</td>\n",
              "      <td>0.0</td>\n",
              "      <td>STAND</td>\n",
              "      <td>0.0</td>\n",
              "      <td>NaN</td>\n",
              "      <td>10</td>\n",
              "    </tr>\n",
              "    <tr>\n",
              "      <th>389937</th>\n",
              "      <td>8099938805</td>\n",
              "      <td>4</td>\n",
              "      <td>2</td>\n",
              "      <td>3</td>\n",
              "      <td>10</td>\n",
              "      <td>0</td>\n",
              "      <td>0</td>\n",
              "      <td>1</td>\n",
              "      <td>1</td>\n",
              "      <td>0.0</td>\n",
              "      <td>STAND</td>\n",
              "      <td>-4.0</td>\n",
              "      <td>-4.0</td>\n",
              "      <td>10</td>\n",
              "    </tr>\n",
              "    <tr>\n",
              "      <th>448008</th>\n",
              "      <td>8099971056</td>\n",
              "      <td>2</td>\n",
              "      <td>0</td>\n",
              "      <td>3</td>\n",
              "      <td>10</td>\n",
              "      <td>0</td>\n",
              "      <td>0</td>\n",
              "      <td>0</td>\n",
              "      <td>1</td>\n",
              "      <td>0.0</td>\n",
              "      <td>STAND</td>\n",
              "      <td>0.0</td>\n",
              "      <td>NaN</td>\n",
              "      <td>10</td>\n",
              "    </tr>\n",
              "  </tbody>\n",
              "</table>\n",
              "</div>\n",
              "    <div class=\"colab-df-buttons\">\n",
              "\n",
              "  <div class=\"colab-df-container\">\n",
              "    <button class=\"colab-df-convert\" onclick=\"convertToInteractive('df-38741319-2e86-4e21-8591-25e2c05f09ba')\"\n",
              "            title=\"Convert this dataframe to an interactive table.\"\n",
              "            style=\"display:none;\">\n",
              "\n",
              "  <svg xmlns=\"http://www.w3.org/2000/svg\" height=\"24px\" viewBox=\"0 -960 960 960\">\n",
              "    <path d=\"M120-120v-720h720v720H120Zm60-500h600v-160H180v160Zm220 220h160v-160H400v160Zm0 220h160v-160H400v160ZM180-400h160v-160H180v160Zm440 0h160v-160H620v160ZM180-180h160v-160H180v160Zm440 0h160v-160H620v160Z\"/>\n",
              "  </svg>\n",
              "    </button>\n",
              "\n",
              "  <style>\n",
              "    .colab-df-container {\n",
              "      display:flex;\n",
              "      gap: 12px;\n",
              "    }\n",
              "\n",
              "    .colab-df-convert {\n",
              "      background-color: #E8F0FE;\n",
              "      border: none;\n",
              "      border-radius: 50%;\n",
              "      cursor: pointer;\n",
              "      display: none;\n",
              "      fill: #1967D2;\n",
              "      height: 32px;\n",
              "      padding: 0 0 0 0;\n",
              "      width: 32px;\n",
              "    }\n",
              "\n",
              "    .colab-df-convert:hover {\n",
              "      background-color: #E2EBFA;\n",
              "      box-shadow: 0px 1px 2px rgba(60, 64, 67, 0.3), 0px 1px 3px 1px rgba(60, 64, 67, 0.15);\n",
              "      fill: #174EA6;\n",
              "    }\n",
              "\n",
              "    .colab-df-buttons div {\n",
              "      margin-bottom: 4px;\n",
              "    }\n",
              "\n",
              "    [theme=dark] .colab-df-convert {\n",
              "      background-color: #3B4455;\n",
              "      fill: #D2E3FC;\n",
              "    }\n",
              "\n",
              "    [theme=dark] .colab-df-convert:hover {\n",
              "      background-color: #434B5C;\n",
              "      box-shadow: 0px 1px 3px 1px rgba(0, 0, 0, 0.15);\n",
              "      filter: drop-shadow(0px 1px 2px rgba(0, 0, 0, 0.3));\n",
              "      fill: #FFFFFF;\n",
              "    }\n",
              "  </style>\n",
              "\n",
              "    <script>\n",
              "      const buttonEl =\n",
              "        document.querySelector('#df-38741319-2e86-4e21-8591-25e2c05f09ba button.colab-df-convert');\n",
              "      buttonEl.style.display =\n",
              "        google.colab.kernel.accessAllowed ? 'block' : 'none';\n",
              "\n",
              "      async function convertToInteractive(key) {\n",
              "        const element = document.querySelector('#df-38741319-2e86-4e21-8591-25e2c05f09ba');\n",
              "        const dataTable =\n",
              "          await google.colab.kernel.invokeFunction('convertToInteractive',\n",
              "                                                    [key], {});\n",
              "        if (!dataTable) return;\n",
              "\n",
              "        const docLinkHtml = 'Like what you see? Visit the ' +\n",
              "          '<a target=\"_blank\" href=https://colab.research.google.com/notebooks/data_table.ipynb>data table notebook</a>'\n",
              "          + ' to learn more about interactive tables.';\n",
              "        element.innerHTML = '';\n",
              "        dataTable['output_type'] = 'display_data';\n",
              "        await google.colab.output.renderOutput(dataTable, element);\n",
              "        const docLink = document.createElement('div');\n",
              "        docLink.innerHTML = docLinkHtml;\n",
              "        element.appendChild(docLink);\n",
              "      }\n",
              "    </script>\n",
              "  </div>\n",
              "\n",
              "\n",
              "<div id=\"df-33dd4d1c-5846-4d21-964f-d6d3af1695cd\">\n",
              "  <button class=\"colab-df-quickchart\" onclick=\"quickchart('df-33dd4d1c-5846-4d21-964f-d6d3af1695cd')\"\n",
              "            title=\"Suggest charts\"\n",
              "            style=\"display:none;\">\n",
              "\n",
              "<svg xmlns=\"http://www.w3.org/2000/svg\" height=\"24px\"viewBox=\"0 0 24 24\"\n",
              "     width=\"24px\">\n",
              "    <g>\n",
              "        <path d=\"M19 3H5c-1.1 0-2 .9-2 2v14c0 1.1.9 2 2 2h14c1.1 0 2-.9 2-2V5c0-1.1-.9-2-2-2zM9 17H7v-7h2v7zm4 0h-2V7h2v10zm4 0h-2v-4h2v4z\"/>\n",
              "    </g>\n",
              "</svg>\n",
              "  </button>\n",
              "\n",
              "<style>\n",
              "  .colab-df-quickchart {\n",
              "      --bg-color: #E8F0FE;\n",
              "      --fill-color: #1967D2;\n",
              "      --hover-bg-color: #E2EBFA;\n",
              "      --hover-fill-color: #174EA6;\n",
              "      --disabled-fill-color: #AAA;\n",
              "      --disabled-bg-color: #DDD;\n",
              "  }\n",
              "\n",
              "  [theme=dark] .colab-df-quickchart {\n",
              "      --bg-color: #3B4455;\n",
              "      --fill-color: #D2E3FC;\n",
              "      --hover-bg-color: #434B5C;\n",
              "      --hover-fill-color: #FFFFFF;\n",
              "      --disabled-bg-color: #3B4455;\n",
              "      --disabled-fill-color: #666;\n",
              "  }\n",
              "\n",
              "  .colab-df-quickchart {\n",
              "    background-color: var(--bg-color);\n",
              "    border: none;\n",
              "    border-radius: 50%;\n",
              "    cursor: pointer;\n",
              "    display: none;\n",
              "    fill: var(--fill-color);\n",
              "    height: 32px;\n",
              "    padding: 0;\n",
              "    width: 32px;\n",
              "  }\n",
              "\n",
              "  .colab-df-quickchart:hover {\n",
              "    background-color: var(--hover-bg-color);\n",
              "    box-shadow: 0 1px 2px rgba(60, 64, 67, 0.3), 0 1px 3px 1px rgba(60, 64, 67, 0.15);\n",
              "    fill: var(--button-hover-fill-color);\n",
              "  }\n",
              "\n",
              "  .colab-df-quickchart-complete:disabled,\n",
              "  .colab-df-quickchart-complete:disabled:hover {\n",
              "    background-color: var(--disabled-bg-color);\n",
              "    fill: var(--disabled-fill-color);\n",
              "    box-shadow: none;\n",
              "  }\n",
              "\n",
              "  .colab-df-spinner {\n",
              "    border: 2px solid var(--fill-color);\n",
              "    border-color: transparent;\n",
              "    border-bottom-color: var(--fill-color);\n",
              "    animation:\n",
              "      spin 1s steps(1) infinite;\n",
              "  }\n",
              "\n",
              "  @keyframes spin {\n",
              "    0% {\n",
              "      border-color: transparent;\n",
              "      border-bottom-color: var(--fill-color);\n",
              "      border-left-color: var(--fill-color);\n",
              "    }\n",
              "    20% {\n",
              "      border-color: transparent;\n",
              "      border-left-color: var(--fill-color);\n",
              "      border-top-color: var(--fill-color);\n",
              "    }\n",
              "    30% {\n",
              "      border-color: transparent;\n",
              "      border-left-color: var(--fill-color);\n",
              "      border-top-color: var(--fill-color);\n",
              "      border-right-color: var(--fill-color);\n",
              "    }\n",
              "    40% {\n",
              "      border-color: transparent;\n",
              "      border-right-color: var(--fill-color);\n",
              "      border-top-color: var(--fill-color);\n",
              "    }\n",
              "    60% {\n",
              "      border-color: transparent;\n",
              "      border-right-color: var(--fill-color);\n",
              "    }\n",
              "    80% {\n",
              "      border-color: transparent;\n",
              "      border-right-color: var(--fill-color);\n",
              "      border-bottom-color: var(--fill-color);\n",
              "    }\n",
              "    90% {\n",
              "      border-color: transparent;\n",
              "      border-bottom-color: var(--fill-color);\n",
              "    }\n",
              "  }\n",
              "</style>\n",
              "\n",
              "  <script>\n",
              "    async function quickchart(key) {\n",
              "      const quickchartButtonEl =\n",
              "        document.querySelector('#' + key + ' button');\n",
              "      quickchartButtonEl.disabled = true;  // To prevent multiple clicks.\n",
              "      quickchartButtonEl.classList.add('colab-df-spinner');\n",
              "      try {\n",
              "        const charts = await google.colab.kernel.invokeFunction(\n",
              "            'suggestCharts', [key], {});\n",
              "      } catch (error) {\n",
              "        console.error('Error during call to suggestCharts:', error);\n",
              "      }\n",
              "      quickchartButtonEl.classList.remove('colab-df-spinner');\n",
              "      quickchartButtonEl.classList.add('colab-df-quickchart-complete');\n",
              "    }\n",
              "    (() => {\n",
              "      let quickchartButtonEl =\n",
              "        document.querySelector('#df-33dd4d1c-5846-4d21-964f-d6d3af1695cd button');\n",
              "      quickchartButtonEl.style.display =\n",
              "        google.colab.kernel.accessAllowed ? 'block' : 'none';\n",
              "    })();\n",
              "  </script>\n",
              "</div>\n",
              "    </div>\n",
              "  </div>\n"
            ]
          },
          "metadata": {},
          "execution_count": 88
        }
      ]
    },
    {
      "cell_type": "markdown",
      "source": [
        "### Hand of 20"
      ],
      "metadata": {
        "id": "IoPTDWG1G_Fk"
      }
    },
    {
      "cell_type": "code",
      "source": [
        "hand_20_df = raw_df[raw_df[\"Max Hand\"] == 20].tail(5000)"
      ],
      "metadata": {
        "id": "bfdG1N-mx1x5"
      },
      "execution_count": 92,
      "outputs": []
    },
    {
      "cell_type": "code",
      "source": [
        "hand_20_df['Action'].value_counts().plot(kind='bar')"
      ],
      "metadata": {
        "colab": {
          "base_uri": "https://localhost:8080/",
          "height": 556
        },
        "id": "rMM0vHrfzpgq",
        "outputId": "27fac30c-d804-4496-e6b6-d2cbed4c8142"
      },
      "execution_count": 93,
      "outputs": [
        {
          "output_type": "execute_result",
          "data": {
            "text/plain": [
              "<Axes: >"
            ]
          },
          "metadata": {},
          "execution_count": 93
        },
        {
          "output_type": "display_data",
          "data": {
            "text/plain": [
              "<Figure size 640x480 with 1 Axes>"
            ],
            "image/png": "[encoded data removed]"
          },
          "metadata": {}
        }
      ]
    },
    {
      "cell_type": "code",
      "source": [
        "hand_20_df[hand_20_df['Action'] == \"STAND\"]['Episode Net Reward'].mean()"
      ],
      "metadata": {
        "colab": {
          "base_uri": "https://localhost:8080/"
        },
        "id": "Sv6XzJYDztPO",
        "outputId": "11624474-7871-4e17-a8c0-f99a98309816"
      },
      "execution_count": 91,
      "outputs": [
        {
          "output_type": "execute_result",
          "data": {
            "text/plain": [
              "0.5938037865748709"
            ]
          },
          "metadata": {},
          "execution_count": 91
        }
      ]
    },
    {
      "cell_type": "code",
      "source": [
        "hand_20_df[hand_20_df['Action'] == \"HIT\"]"
      ],
      "metadata": {
        "colab": {
          "base_uri": "https://localhost:8080/",
          "height": 419
        },
        "id": "Sad5LJjh2dnd",
        "outputId": "f6650ecc-dbc3-4f02-d6cc-c8814c7bda2f"
      },
      "execution_count": 94,
      "outputs": [
        {
          "output_type": "execute_result",
          "data": {
            "text/plain": [
              "           Episode  Dealer  Current Hand  Num Hands  Hand  Has Ace  Can Split  \\\n",
              "453966  8099974416       1             0          1    10        1          0   \n",
              "456277  8099975666       1             0          1    10        1          0   \n",
              "456386  8099975727       1             0          1    10        1          0   \n",
              "457866  8099976580       2             1          3    10        1          0   \n",
              "458067  8099976690       1             0          1    10        1          0   \n",
              "...            ...     ...           ...        ...   ...      ...        ...   \n",
              "496189  8099997908       1             0          1    10        1          0   \n",
              "497255  8099998492       1             0          1    10        1          0   \n",
              "498746  8099999304       6             0          1    10        1          0   \n",
              "498808  8099999339       1             0          1    10        1          0   \n",
              "499927  8099999960       1             0          1    10        1          0   \n",
              "\n",
              "        Has Hit  Bet Size  Insurance Action  Reward  Episode Net Reward  \\\n",
              "453966        1         1       0.25    HIT     0.0                 NaN   \n",
              "456277        0         1       0.25    HIT     0.0                 NaN   \n",
              "456386        0         1       0.25    HIT     0.0                 NaN   \n",
              "457866        0         1       0.00    HIT     0.0                 NaN   \n",
              "458067        0         1       0.25    HIT     0.0                 NaN   \n",
              "...         ...       ...        ...    ...     ...                 ...   \n",
              "496189        0         1       0.25    HIT     0.0                 NaN   \n",
              "497255        0         1       0.25    HIT     0.0                 NaN   \n",
              "498746        0         1       0.00    HIT     0.0                 NaN   \n",
              "498808        0         1       0.25    HIT     0.0                 NaN   \n",
              "499927        0         1       0.25    HIT     0.0                 NaN   \n",
              "\n",
              "        Max Hand  \n",
              "453966        20  \n",
              "456277        20  \n",
              "456386        20  \n",
              "457866        20  \n",
              "458067        20  \n",
              "...          ...  \n",
              "496189        20  \n",
              "497255        20  \n",
              "498746        20  \n",
              "498808        20  \n",
              "499927        20  \n",
              "\n",
              "[68 rows x 14 columns]"
            ],
            "text/html": [
              "\n",
              "  <div id=\"df-020e7b51-b4a5-4e30-8494-8767fed994a7\" class=\"colab-df-container\">\n",
              "    <div>\n",
              "<style scoped>\n",
              "    .dataframe tbody tr th:only-of-type {\n",
              "        vertical-align: middle;\n",
              "    }\n",
              "\n",
              "    .dataframe tbody tr th {\n",
              "        vertical-align: top;\n",
              "    }\n",
              "\n",
              "    .dataframe thead th {\n",
              "        text-align: right;\n",
              "    }\n",
              "</style>\n",
              "<table border=\"1\" class=\"dataframe\">\n",
              "  <thead>\n",
              "    <tr style=\"text-align: right;\">\n",
              "      <th></th>\n",
              "      <th>Episode</th>\n",
              "      <th>Dealer</th>\n",
              "      <th>Current Hand</th>\n",
              "      <th>Num Hands</th>\n",
              "      <th>Hand</th>\n",
              "      <th>Has Ace</th>\n",
              "      <th>Can Split</th>\n",
              "      <th>Has Hit</th>\n",
              "      <th>Bet Size</th>\n",
              "      <th>Insurance</th>\n",
              "      <th>Action</th>\n",
              "      <th>Reward</th>\n",
              "      <th>Episode Net Reward</th>\n",
              "      <th>Max Hand</th>\n",
              "    </tr>\n",
              "  </thead>\n",
              "  <tbody>\n",
              "    <tr>\n",
              "      <th>453966</th>\n",
              "      <td>8099974416</td>\n",
              "      <td>1</td>\n",
              "      <td>0</td>\n",
              "      <td>1</td>\n",
              "      <td>10</td>\n",
              "      <td>1</td>\n",
              "      <td>0</td>\n",
              "      <td>1</td>\n",
              "      <td>1</td>\n",
              "      <td>0.25</td>\n",
              "      <td>HIT</td>\n",
              "      <td>0.0</td>\n",
              "      <td>NaN</td>\n",
              "      <td>20</td>\n",
              "    </tr>\n",
              "    <tr>\n",
              "      <th>456277</th>\n",
              "      <td>8099975666</td>\n",
              "      <td>1</td>\n",
              "      <td>0</td>\n",
              "      <td>1</td>\n",
              "      <td>10</td>\n",
              "      <td>1</td>\n",
              "      <td>0</td>\n",
              "      <td>0</td>\n",
              "      <td>1</td>\n",
              "      <td>0.25</td>\n",
              "      <td>HIT</td>\n",
              "      <td>0.0</td>\n",
              "      <td>NaN</td>\n",
              "      <td>20</td>\n",
              "    </tr>\n",
              "    <tr>\n",
              "      <th>456386</th>\n",
              "      <td>8099975727</td>\n",
              "      <td>1</td>\n",
              "      <td>0</td>\n",
              "      <td>1</td>\n",
              "      <td>10</td>\n",
              "      <td>1</td>\n",
              "      <td>0</td>\n",
              "      <td>0</td>\n",
              "      <td>1</td>\n",
              "      <td>0.25</td>\n",
              "      <td>HIT</td>\n",
              "      <td>0.0</td>\n",
              "      <td>NaN</td>\n",
              "      <td>20</td>\n",
              "    </tr>\n",
              "    <tr>\n",
              "      <th>457866</th>\n",
              "      <td>8099976580</td>\n",
              "      <td>2</td>\n",
              "      <td>1</td>\n",
              "      <td>3</td>\n",
              "      <td>10</td>\n",
              "      <td>1</td>\n",
              "      <td>0</td>\n",
              "      <td>0</td>\n",
              "      <td>1</td>\n",
              "      <td>0.00</td>\n",
              "      <td>HIT</td>\n",
              "      <td>0.0</td>\n",
              "      <td>NaN</td>\n",
              "      <td>20</td>\n",
              "    </tr>\n",
              "    <tr>\n",
              "      <th>458067</th>\n",
              "      <td>8099976690</td>\n",
              "      <td>1</td>\n",
              "      <td>0</td>\n",
              "      <td>1</td>\n",
              "      <td>10</td>\n",
              "      <td>1</td>\n",
              "      <td>0</td>\n",
              "      <td>0</td>\n",
              "      <td>1</td>\n",
              "      <td>0.25</td>\n",
              "      <td>HIT</td>\n",
              "      <td>0.0</td>\n",
              "      <td>NaN</td>\n",
              "      <td>20</td>\n",
              "    </tr>\n",
              "    <tr>\n",
              "      <th>...</th>\n",
              "      <td>...</td>\n",
              "      <td>...</td>\n",
              "      <td>...</td>\n",
              "      <td>...</td>\n",
              "      <td>...</td>\n",
              "      <td>...</td>\n",
              "      <td>...</td>\n",
              "      <td>...</td>\n",
              "      <td>...</td>\n",
              "      <td>...</td>\n",
              "      <td>...</td>\n",
              "      <td>...</td>\n",
              "      <td>...</td>\n",
              "      <td>...</td>\n",
              "    </tr>\n",
              "    <tr>\n",
              "      <th>496189</th>\n",
              "      <td>8099997908</td>\n",
              "      <td>1</td>\n",
              "      <td>0</td>\n",
              "      <td>1</td>\n",
              "      <td>10</td>\n",
              "      <td>1</td>\n",
              "      <td>0</td>\n",
              "      <td>0</td>\n",
              "      <td>1</td>\n",
              "      <td>0.25</td>\n",
              "      <td>HIT</td>\n",
              "      <td>0.0</td>\n",
              "      <td>NaN</td>\n",
              "      <td>20</td>\n",
              "    </tr>\n",
              "    <tr>\n",
              "      <th>497255</th>\n",
              "      <td>8099998492</td>\n",
              "      <td>1</td>\n",
              "      <td>0</td>\n",
              "      <td>1</td>\n",
              "      <td>10</td>\n",
              "      <td>1</td>\n",
              "      <td>0</td>\n",
              "      <td>0</td>\n",
              "      <td>1</td>\n",
              "      <td>0.25</td>\n",
              "      <td>HIT</td>\n",
              "      <td>0.0</td>\n",
              "      <td>NaN</td>\n",
              "      <td>20</td>\n",
              "    </tr>\n",
              "    <tr>\n",
              "      <th>498746</th>\n",
              "      <td>8099999304</td>\n",
              "      <td>6</td>\n",
              "      <td>0</td>\n",
              "      <td>1</td>\n",
              "      <td>10</td>\n",
              "      <td>1</td>\n",
              "      <td>0</td>\n",
              "      <td>0</td>\n",
              "      <td>1</td>\n",
              "      <td>0.00</td>\n",
              "      <td>HIT</td>\n",
              "      <td>0.0</td>\n",
              "      <td>NaN</td>\n",
              "      <td>20</td>\n",
              "    </tr>\n",
              "    <tr>\n",
              "      <th>498808</th>\n",
              "      <td>8099999339</td>\n",
              "      <td>1</td>\n",
              "      <td>0</td>\n",
              "      <td>1</td>\n",
              "      <td>10</td>\n",
              "      <td>1</td>\n",
              "      <td>0</td>\n",
              "      <td>0</td>\n",
              "      <td>1</td>\n",
              "      <td>0.25</td>\n",
              "      <td>HIT</td>\n",
              "      <td>0.0</td>\n",
              "      <td>NaN</td>\n",
              "      <td>20</td>\n",
              "    </tr>\n",
              "    <tr>\n",
              "      <th>499927</th>\n",
              "      <td>8099999960</td>\n",
              "      <td>1</td>\n",
              "      <td>0</td>\n",
              "      <td>1</td>\n",
              "      <td>10</td>\n",
              "      <td>1</td>\n",
              "      <td>0</td>\n",
              "      <td>0</td>\n",
              "      <td>1</td>\n",
              "      <td>0.25</td>\n",
              "      <td>HIT</td>\n",
              "      <td>0.0</td>\n",
              "      <td>NaN</td>\n",
              "      <td>20</td>\n",
              "    </tr>\n",
              "  </tbody>\n",
              "</table>\n",
              "<p>68 rows × 14 columns</p>\n",
              "</div>\n",
              "    <div class=\"colab-df-buttons\">\n",
              "\n",
              "  <div class=\"colab-df-container\">\n",
              "    <button class=\"colab-df-convert\" onclick=\"convertToInteractive('df-020e7b51-b4a5-4e30-8494-8767fed994a7')\"\n",
              "            title=\"Convert this dataframe to an interactive table.\"\n",
              "            style=\"display:none;\">\n",
              "\n",
              "  <svg xmlns=\"http://www.w3.org/2000/svg\" height=\"24px\" viewBox=\"0 -960 960 960\">\n",
              "    <path d=\"M120-120v-720h720v720H120Zm60-500h600v-160H180v160Zm220 220h160v-160H400v160Zm0 220h160v-160H400v160ZM180-400h160v-160H180v160Zm440 0h160v-160H620v160ZM180-180h160v-160H180v160Zm440 0h160v-160H620v160Z\"/>\n",
              "  </svg>\n",
              "    </button>\n",
              "\n",
              "  <style>\n",
              "    .colab-df-container {\n",
              "      display:flex;\n",
              "      gap: 12px;\n",
              "    }\n",
              "\n",
              "    .colab-df-convert {\n",
              "      background-color: #E8F0FE;\n",
              "      border: none;\n",
              "      border-radius: 50%;\n",
              "      cursor: pointer;\n",
              "      display: none;\n",
              "      fill: #1967D2;\n",
              "      height: 32px;\n",
              "      padding: 0 0 0 0;\n",
              "      width: 32px;\n",
              "    }\n",
              "\n",
              "    .colab-df-convert:hover {\n",
              "      background-color: #E2EBFA;\n",
              "      box-shadow: 0px 1px 2px rgba(60, 64, 67, 0.3), 0px 1px 3px 1px rgba(60, 64, 67, 0.15);\n",
              "      fill: #174EA6;\n",
              "    }\n",
              "\n",
              "    .colab-df-buttons div {\n",
              "      margin-bottom: 4px;\n",
              "    }\n",
              "\n",
              "    [theme=dark] .colab-df-convert {\n",
              "      background-color: #3B4455;\n",
              "      fill: #D2E3FC;\n",
              "    }\n",
              "\n",
              "    [theme=dark] .colab-df-convert:hover {\n",
              "      background-color: #434B5C;\n",
              "      box-shadow: 0px 1px 3px 1px rgba(0, 0, 0, 0.15);\n",
              "      filter: drop-shadow(0px 1px 2px rgba(0, 0, 0, 0.3));\n",
              "      fill: #FFFFFF;\n",
              "    }\n",
              "  </style>\n",
              "\n",
              "    <script>\n",
              "      const buttonEl =\n",
              "        document.querySelector('#df-020e7b51-b4a5-4e30-8494-8767fed994a7 button.colab-df-convert');\n",
              "      buttonEl.style.display =\n",
              "        google.colab.kernel.accessAllowed ? 'block' : 'none';\n",
              "\n",
              "      async function convertToInteractive(key) {\n",
              "        const element = document.querySelector('#df-020e7b51-b4a5-4e30-8494-8767fed994a7');\n",
              "        const dataTable =\n",
              "          await google.colab.kernel.invokeFunction('convertToInteractive',\n",
              "                                                    [key], {});\n",
              "        if (!dataTable) return;\n",
              "\n",
              "        const docLinkHtml = 'Like what you see? Visit the ' +\n",
              "          '<a target=\"_blank\" href=https://colab.research.google.com/notebooks/data_table.ipynb>data table notebook</a>'\n",
              "          + ' to learn more about interactive tables.';\n",
              "        element.innerHTML = '';\n",
              "        dataTable['output_type'] = 'display_data';\n",
              "        await google.colab.output.renderOutput(dataTable, element);\n",
              "        const docLink = document.createElement('div');\n",
              "        docLink.innerHTML = docLinkHtml;\n",
              "        element.appendChild(docLink);\n",
              "      }\n",
              "    </script>\n",
              "  </div>\n",
              "\n",
              "\n",
              "<div id=\"df-1ccf44ec-2f5b-4f21-afa9-e44c6b7033a6\">\n",
              "  <button class=\"colab-df-quickchart\" onclick=\"quickchart('df-1ccf44ec-2f5b-4f21-afa9-e44c6b7033a6')\"\n",
              "            title=\"Suggest charts\"\n",
              "            style=\"display:none;\">\n",
              "\n",
              "<svg xmlns=\"http://www.w3.org/2000/svg\" height=\"24px\"viewBox=\"0 0 24 24\"\n",
              "     width=\"24px\">\n",
              "    <g>\n",
              "        <path d=\"M19 3H5c-1.1 0-2 .9-2 2v14c0 1.1.9 2 2 2h14c1.1 0 2-.9 2-2V5c0-1.1-.9-2-2-2zM9 17H7v-7h2v7zm4 0h-2V7h2v10zm4 0h-2v-4h2v4z\"/>\n",
              "    </g>\n",
              "</svg>\n",
              "  </button>\n",
              "\n",
              "<style>\n",
              "  .colab-df-quickchart {\n",
              "      --bg-color: #E8F0FE;\n",
              "      --fill-color: #1967D2;\n",
              "      --hover-bg-color: #E2EBFA;\n",
              "      --hover-fill-color: #174EA6;\n",
              "      --disabled-fill-color: #AAA;\n",
              "      --disabled-bg-color: #DDD;\n",
              "  }\n",
              "\n",
              "  [theme=dark] .colab-df-quickchart {\n",
              "      --bg-color: #3B4455;\n",
              "      --fill-color: #D2E3FC;\n",
              "      --hover-bg-color: #434B5C;\n",
              "      --hover-fill-color: #FFFFFF;\n",
              "      --disabled-bg-color: #3B4455;\n",
              "      --disabled-fill-color: #666;\n",
              "  }\n",
              "\n",
              "  .colab-df-quickchart {\n",
              "    background-color: var(--bg-color);\n",
              "    border: none;\n",
              "    border-radius: 50%;\n",
              "    cursor: pointer;\n",
              "    display: none;\n",
              "    fill: var(--fill-color);\n",
              "    height: 32px;\n",
              "    padding: 0;\n",
              "    width: 32px;\n",
              "  }\n",
              "\n",
              "  .colab-df-quickchart:hover {\n",
              "    background-color: var(--hover-bg-color);\n",
              "    box-shadow: 0 1px 2px rgba(60, 64, 67, 0.3), 0 1px 3px 1px rgba(60, 64, 67, 0.15);\n",
              "    fill: var(--button-hover-fill-color);\n",
              "  }\n",
              "\n",
              "  .colab-df-quickchart-complete:disabled,\n",
              "  .colab-df-quickchart-complete:disabled:hover {\n",
              "    background-color: var(--disabled-bg-color);\n",
              "    fill: var(--disabled-fill-color);\n",
              "    box-shadow: none;\n",
              "  }\n",
              "\n",
              "  .colab-df-spinner {\n",
              "    border: 2px solid var(--fill-color);\n",
              "    border-color: transparent;\n",
              "    border-bottom-color: var(--fill-color);\n",
              "    animation:\n",
              "      spin 1s steps(1) infinite;\n",
              "  }\n",
              "\n",
              "  @keyframes spin {\n",
              "    0% {\n",
              "      border-color: transparent;\n",
              "      border-bottom-color: var(--fill-color);\n",
              "      border-left-color: var(--fill-color);\n",
              "    }\n",
              "    20% {\n",
              "      border-color: transparent;\n",
              "      border-left-color: var(--fill-color);\n",
              "      border-top-color: var(--fill-color);\n",
              "    }\n",
              "    30% {\n",
              "      border-color: transparent;\n",
              "      border-left-color: var(--fill-color);\n",
              "      border-top-color: var(--fill-color);\n",
              "      border-right-color: var(--fill-color);\n",
              "    }\n",
              "    40% {\n",
              "      border-color: transparent;\n",
              "      border-right-color: var(--fill-color);\n",
              "      border-top-color: var(--fill-color);\n",
              "    }\n",
              "    60% {\n",
              "      border-color: transparent;\n",
              "      border-right-color: var(--fill-color);\n",
              "    }\n",
              "    80% {\n",
              "      border-color: transparent;\n",
              "      border-right-color: var(--fill-color);\n",
              "      border-bottom-color: var(--fill-color);\n",
              "    }\n",
              "    90% {\n",
              "      border-color: transparent;\n",
              "      border-bottom-color: var(--fill-color);\n",
              "    }\n",
              "  }\n",
              "</style>\n",
              "\n",
              "  <script>\n",
              "    async function quickchart(key) {\n",
              "      const quickchartButtonEl =\n",
              "        document.querySelector('#' + key + ' button');\n",
              "      quickchartButtonEl.disabled = true;  // To prevent multiple clicks.\n",
              "      quickchartButtonEl.classList.add('colab-df-spinner');\n",
              "      try {\n",
              "        const charts = await google.colab.kernel.invokeFunction(\n",
              "            'suggestCharts', [key], {});\n",
              "      } catch (error) {\n",
              "        console.error('Error during call to suggestCharts:', error);\n",
              "      }\n",
              "      quickchartButtonEl.classList.remove('colab-df-spinner');\n",
              "      quickchartButtonEl.classList.add('colab-df-quickchart-complete');\n",
              "    }\n",
              "    (() => {\n",
              "      let quickchartButtonEl =\n",
              "        document.querySelector('#df-1ccf44ec-2f5b-4f21-afa9-e44c6b7033a6 button');\n",
              "      quickchartButtonEl.style.display =\n",
              "        google.colab.kernel.accessAllowed ? 'block' : 'none';\n",
              "    })();\n",
              "  </script>\n",
              "</div>\n",
              "    </div>\n",
              "  </div>\n"
            ]
          },
          "metadata": {},
          "execution_count": 94
        }
      ]
    },
    {
      "cell_type": "markdown",
      "source": [
        "## Basic Strategy Comparison"
      ],
      "metadata": {
        "id": "5e6PBMR0J0Nq"
      }
    },
    {
      "cell_type": "code",
      "source": [
        "# Hard hand evaluation\n",
        "eval_df = raw_df[raw_df['Has Ace'] == 0].tail(10000)\n",
        "hard_action = {}\n",
        "\n",
        "for hero_hand in range(8, 22):\n",
        "  for dealer in range(1, 11):\n",
        "    hard_action[(hero_hand, dealer)] = eval_df[(eval_df[\"Hand\"] == hero_hand) & (eval_df[\"Dealer\"] == dealer)]['Action'].mode().iloc[0]"
      ],
      "metadata": {
        "id": "7PRv53hyJz4E"
      },
      "execution_count": 106,
      "outputs": []
    },
    {
      "cell_type": "code",
      "source": [
        "hard_action"
      ],
      "metadata": {
        "colab": {
          "base_uri": "https://localhost:8080/"
        },
        "id": "B-wzwS61Ks9C",
        "outputId": "5adaeb24-e415-459f-f22b-fb7a00916d04"
      },
      "execution_count": 108,
      "outputs": [
        {
          "output_type": "execute_result",
          "data": {
            "text/plain": [
              "{(8, 1): 'HIT',\n",
              " (8, 2): 'HIT',\n",
              " (8, 3): 'HIT',\n",
              " (8, 4): 'HIT',\n",
              " (8, 5): 'HIT',\n",
              " (8, 6): 'HIT',\n",
              " (8, 7): 'HIT',\n",
              " (8, 8): 'HIT',\n",
              " (8, 9): 'HIT',\n",
              " (8, 10): 'HIT',\n",
              " (9, 1): 'HIT',\n",
              " (9, 2): 'HIT',\n",
              " (9, 3): 'HIT',\n",
              " (9, 4): 'HIT',\n",
              " (9, 5): 'HIT',\n",
              " (9, 6): 'HIT',\n",
              " (9, 7): 'HIT',\n",
              " (9, 8): 'HIT',\n",
              " (9, 9): 'HIT',\n",
              " (9, 10): 'HIT',\n",
              " (10, 1): 'HIT',\n",
              " (10, 2): 'HIT',\n",
              " (10, 3): 'HIT',\n",
              " (10, 4): 'HIT',\n",
              " (10, 5): 'HIT',\n",
              " (10, 6): 'HIT',\n",
              " (10, 7): 'HIT',\n",
              " (10, 8): 'HIT',\n",
              " (10, 9): 'HIT',\n",
              " (10, 10): 'HIT',\n",
              " (11, 1): 'HIT',\n",
              " (11, 2): 'HIT',\n",
              " (11, 3): 'HIT',\n",
              " (11, 4): 'HIT',\n",
              " (11, 5): 'HIT',\n",
              " (11, 6): 'HIT',\n",
              " (11, 7): 'HIT',\n",
              " (11, 8): 'HIT',\n",
              " (11, 9): 'HIT',\n",
              " (11, 10): 'HIT',\n",
              " (12, 1): 'HIT',\n",
              " (12, 2): 'HIT',\n",
              " (12, 3): 'HIT',\n",
              " (12, 4): 'HIT',\n",
              " (12, 5): 'HIT',\n",
              " (12, 6): 'HIT',\n",
              " (12, 7): 'HIT',\n",
              " (12, 8): 'HIT',\n",
              " (12, 9): 'HIT',\n",
              " (12, 10): 'HIT',\n",
              " (13, 1): 'HIT',\n",
              " (13, 2): 'HIT',\n",
              " (13, 3): 'HIT',\n",
              " (13, 4): 'STAND',\n",
              " (13, 5): 'HIT',\n",
              " (13, 6): 'HIT',\n",
              " (13, 7): 'HIT',\n",
              " (13, 8): 'HIT',\n",
              " (13, 9): 'HIT',\n",
              " (13, 10): 'HIT',\n",
              " (14, 1): 'HIT',\n",
              " (14, 2): 'HIT',\n",
              " (14, 3): 'HIT',\n",
              " (14, 4): 'STAND',\n",
              " (14, 5): 'STAND',\n",
              " (14, 6): 'STAND',\n",
              " (14, 7): 'HIT',\n",
              " (14, 8): 'HIT',\n",
              " (14, 9): 'HIT',\n",
              " (14, 10): 'HIT',\n",
              " (15, 1): 'HIT',\n",
              " (15, 2): 'STAND',\n",
              " (15, 3): 'STAND',\n",
              " (15, 4): 'STAND',\n",
              " (15, 5): 'STAND',\n",
              " (15, 6): 'STAND',\n",
              " (15, 7): 'HIT',\n",
              " (15, 8): 'HIT',\n",
              " (15, 9): 'HIT',\n",
              " (15, 10): 'HIT',\n",
              " (16, 1): 'INSURANCE_HALF',\n",
              " (16, 2): 'STAND',\n",
              " (16, 3): 'STAND',\n",
              " (16, 4): 'STAND',\n",
              " (16, 5): 'STAND',\n",
              " (16, 6): 'STAND',\n",
              " (16, 7): 'HIT',\n",
              " (16, 8): 'HIT',\n",
              " (16, 9): 'HIT',\n",
              " (16, 10): 'HIT',\n",
              " (17, 1): 'STAND',\n",
              " (17, 2): 'STAND',\n",
              " (17, 3): 'STAND',\n",
              " (17, 4): 'STAND',\n",
              " (17, 5): 'STAND',\n",
              " (17, 6): 'STAND',\n",
              " (17, 7): 'STAND',\n",
              " (17, 8): 'STAND',\n",
              " (17, 9): 'STAND',\n",
              " (17, 10): 'HIT',\n",
              " (18, 1): 'STAND',\n",
              " (18, 2): 'STAND',\n",
              " (18, 3): 'STAND',\n",
              " (18, 4): 'STAND',\n",
              " (18, 5): 'STAND',\n",
              " (18, 6): 'STAND',\n",
              " (18, 7): 'STAND',\n",
              " (18, 8): 'STAND',\n",
              " (18, 9): 'STAND',\n",
              " (18, 10): 'STAND',\n",
              " (19, 1): 'STAND',\n",
              " (19, 2): 'STAND',\n",
              " (19, 3): 'STAND',\n",
              " (19, 4): 'STAND',\n",
              " (19, 5): 'STAND',\n",
              " (19, 6): 'STAND',\n",
              " (19, 7): 'STAND',\n",
              " (19, 8): 'STAND',\n",
              " (19, 9): 'STAND',\n",
              " (19, 10): 'STAND',\n",
              " (20, 1): 'STAND',\n",
              " (20, 2): 'STAND',\n",
              " (20, 3): 'STAND',\n",
              " (20, 4): 'STAND',\n",
              " (20, 5): 'STAND',\n",
              " (20, 6): 'SPLIT',\n",
              " (20, 7): 'STAND',\n",
              " (20, 8): 'STAND',\n",
              " (20, 9): 'STAND',\n",
              " (20, 10): 'STAND',\n",
              " (21, 1): 'STAND',\n",
              " (21, 2): 'STAND',\n",
              " (21, 3): 'STAND',\n",
              " (21, 4): 'STAND',\n",
              " (21, 5): 'STAND',\n",
              " (21, 6): 'STAND',\n",
              " (21, 7): 'STAND',\n",
              " (21, 8): 'STAND',\n",
              " (21, 9): 'STAND',\n",
              " (21, 10): 'STAND'}"
            ]
          },
          "metadata": {},
          "execution_count": 108
        }
      ]
    },
    {
      "cell_type": "code",
      "source": [
        "# Soft hand evaluation\n",
        "eval_df = raw_df[raw_df['Has Ace'] == 1].tail(10000)\n",
        "soft_action = {}\n",
        "\n",
        "for hero_hand in range(2, 12):\n",
        "  for dealer in range(1, 11):\n",
        "    soft_action[(hero_hand, dealer)] = eval_df[(eval_df[\"Hand\"] == hero_hand) & (eval_df[\"Dealer\"] == dealer)]['Action'].mode().iloc[0]"
      ],
      "metadata": {
        "id": "qCvgP-a2LrSM"
      },
      "execution_count": 109,
      "outputs": []
    },
    {
      "cell_type": "code",
      "source": [
        "soft_action"
      ],
      "metadata": {
        "colab": {
          "base_uri": "https://localhost:8080/"
        },
        "id": "fIzsAnrkMPYz",
        "outputId": "741f0b80-4cdd-49ff-fc82-9400048ee9da"
      },
      "execution_count": 110,
      "outputs": [
        {
          "output_type": "execute_result",
          "data": {
            "text/plain": [
              "{(2, 1): 'SPLIT',\n",
              " (2, 2): 'SPLIT',\n",
              " (2, 3): 'SPLIT',\n",
              " (2, 4): 'SPLIT',\n",
              " (2, 5): 'SPLIT',\n",
              " (2, 6): 'SPLIT',\n",
              " (2, 7): 'SPLIT',\n",
              " (2, 8): 'SPLIT',\n",
              " (2, 9): 'SPLIT',\n",
              " (2, 10): 'SPLIT',\n",
              " (3, 1): 'HIT',\n",
              " (3, 2): 'HIT',\n",
              " (3, 3): 'HIT',\n",
              " (3, 4): 'HIT',\n",
              " (3, 5): 'HIT',\n",
              " (3, 6): 'HIT',\n",
              " (3, 7): 'HIT',\n",
              " (3, 8): 'HIT',\n",
              " (3, 9): 'HIT',\n",
              " (3, 10): 'HIT',\n",
              " (4, 1): 'HIT',\n",
              " (4, 2): 'HIT',\n",
              " (4, 3): 'HIT',\n",
              " (4, 4): 'HIT',\n",
              " (4, 5): 'HIT',\n",
              " (4, 6): 'HIT',\n",
              " (4, 7): 'HIT',\n",
              " (4, 8): 'HIT',\n",
              " (4, 9): 'HIT',\n",
              " (4, 10): 'HIT',\n",
              " (5, 1): 'HIT',\n",
              " (5, 2): 'HIT',\n",
              " (5, 3): 'HIT',\n",
              " (5, 4): 'HIT',\n",
              " (5, 5): 'HIT',\n",
              " (5, 6): 'HIT',\n",
              " (5, 7): 'HIT',\n",
              " (5, 8): 'HIT',\n",
              " (5, 9): 'HIT',\n",
              " (5, 10): 'HIT',\n",
              " (6, 1): 'HIT',\n",
              " (6, 2): 'HIT',\n",
              " (6, 3): 'HIT',\n",
              " (6, 4): 'HIT',\n",
              " (6, 5): 'HIT',\n",
              " (6, 6): 'HIT',\n",
              " (6, 7): 'HIT',\n",
              " (6, 8): 'HIT',\n",
              " (6, 9): 'HIT',\n",
              " (6, 10): 'HIT',\n",
              " (7, 1): 'HIT',\n",
              " (7, 2): 'HIT',\n",
              " (7, 3): 'HIT',\n",
              " (7, 4): 'HIT',\n",
              " (7, 5): 'HIT',\n",
              " (7, 6): 'HIT',\n",
              " (7, 7): 'HIT',\n",
              " (7, 8): 'HIT',\n",
              " (7, 9): 'HIT',\n",
              " (7, 10): 'HIT',\n",
              " (8, 1): 'HIT',\n",
              " (8, 2): 'HIT',\n",
              " (8, 3): 'HIT',\n",
              " (8, 4): 'HIT',\n",
              " (8, 5): 'HIT',\n",
              " (8, 6): 'HIT',\n",
              " (8, 7): 'HIT',\n",
              " (8, 8): 'HIT',\n",
              " (8, 9): 'HIT',\n",
              " (8, 10): 'HIT',\n",
              " (9, 1): 'HIT',\n",
              " (9, 2): 'HIT',\n",
              " (9, 3): 'HIT',\n",
              " (9, 4): 'HIT',\n",
              " (9, 5): 'HIT',\n",
              " (9, 6): 'HIT',\n",
              " (9, 7): 'STAND',\n",
              " (9, 8): 'STAND',\n",
              " (9, 9): 'STAND',\n",
              " (9, 10): 'HIT',\n",
              " (10, 1): 'HIT',\n",
              " (10, 2): 'STAND',\n",
              " (10, 3): 'STAND',\n",
              " (10, 4): 'STAND',\n",
              " (10, 5): 'STAND',\n",
              " (10, 6): 'STAND',\n",
              " (10, 7): 'STAND',\n",
              " (10, 8): 'STAND',\n",
              " (10, 9): 'STAND',\n",
              " (10, 10): 'STAND',\n",
              " (11, 1): 'STAND',\n",
              " (11, 2): 'STAND',\n",
              " (11, 3): 'STAND',\n",
              " (11, 4): 'STAND',\n",
              " (11, 5): 'STAND',\n",
              " (11, 6): 'STAND',\n",
              " (11, 7): 'STAND',\n",
              " (11, 8): 'STAND',\n",
              " (11, 9): 'STAND',\n",
              " (11, 10): 'STAND'}"
            ]
          },
          "metadata": {},
          "execution_count": 110
        }
      ]
    },
    {
      "cell_type": "code",
      "source": [],
      "metadata": {
        "id": "cziLp4oCMQRh"
      },
      "execution_count": null,
      "outputs": []
    }
  ]
}