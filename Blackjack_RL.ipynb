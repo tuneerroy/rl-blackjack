{
  "nbformat": 4,
  "nbformat_minor": 0,
  "metadata": {
    "colab": {
      "provenance": []
    },
    "kernelspec": {
      "name": "python3",
      "display_name": "Python 3"
    },
    "language_info": {
      "name": "python"
    }
  },
  "cells": [
    {
      "cell_type": "code",
      "execution_count": 1,
      "metadata": {
        "id": "Yb9LUm3MW_2J"
      },
      "outputs": [],
      "source": [
        "import pandas as pd\n",
        "import numpy as np\n",
        "import matplotlib.pyplot as plt\n"
      ]
    },
    {
      "cell_type": "code",
      "source": [
        "DATA_FILE = \"final.csv\"\n",
        "names = [\"Episode\", \"Dealer\", \"Current Hand\", \"Num Hands\", \"Hand\", \"Has Ace\", \"Can Split\", \"Has Hit\", \"Bet Size\", \"Insurance\", \"Action\", \"Reward\", \"Episode Net Reward\"]\n",
        "\n",
        "raw_df = pd.read_csv(DATA_FILE)"
      ],
      "metadata": {
        "id": "fhYybsQ-X1J5"
      },
      "execution_count": 152,
      "outputs": []
    },
    {
      "cell_type": "code",
      "source": [
        "raw_df.head()"
      ],
      "metadata": {
        "colab": {
          "base_uri": "https://localhost:8080/",
          "height": 204
        },
        "id": "h6MNILGQXgaZ",
        "outputId": "641fe1fd-9e57-41d6-f478-734f34739c14"
      },
      "execution_count": 153,
      "outputs": [
        {
          "output_type": "execute_result",
          "data": {
            "text/plain": [
              "       Episode  Dealer  Current Hand  Num Hands  Hand  Has Ace  Can Split  \\\n",
              "0  12099500000      10             0          1    13        0          0   \n",
              "1  12099500000      10             0          1    18        0          0   \n",
              "2  12099500001      10             0          1    13        0          0   \n",
              "3  12099500001      10             0          1    19        0          0   \n",
              "4  12099500002       7             0          1    20        0          1   \n",
              "\n",
              "   Has Hit  Bet Size  Insurance Action  Reward  Episode Net Reward  \n",
              "0        0         1        0.0    HIT     0.0                 NaN  \n",
              "1        1         1        0.0  STAND    -1.0                -1.0  \n",
              "2        0         1        0.0    HIT     0.0                 NaN  \n",
              "3        1         1        0.0  STAND     0.0                 0.0  \n",
              "4        0         1        0.0  STAND     1.0                 1.0  "
            ],
            "text/html": [
              "\n",
              "  <div id=\"df-fc4a7e0b-268c-4f9e-9204-a9d36e07de0f\" class=\"colab-df-container\">\n",
              "    <div>\n",
              "<style scoped>\n",
              "    .dataframe tbody tr th:only-of-type {\n",
              "        vertical-align: middle;\n",
              "    }\n",
              "\n",
              "    .dataframe tbody tr th {\n",
              "        vertical-align: top;\n",
              "    }\n",
              "\n",
              "    .dataframe thead th {\n",
              "        text-align: right;\n",
              "    }\n",
              "</style>\n",
              "<table border=\"1\" class=\"dataframe\">\n",
              "  <thead>\n",
              "    <tr style=\"text-align: right;\">\n",
              "      <th></th>\n",
              "      <th>Episode</th>\n",
              "      <th>Dealer</th>\n",
              "      <th>Current Hand</th>\n",
              "      <th>Num Hands</th>\n",
              "      <th>Hand</th>\n",
              "      <th>Has Ace</th>\n",
              "      <th>Can Split</th>\n",
              "      <th>Has Hit</th>\n",
              "      <th>Bet Size</th>\n",
              "      <th>Insurance</th>\n",
              "      <th>Action</th>\n",
              "      <th>Reward</th>\n",
              "      <th>Episode Net Reward</th>\n",
              "    </tr>\n",
              "  </thead>\n",
              "  <tbody>\n",
              "    <tr>\n",
              "      <th>0</th>\n",
              "      <td>12099500000</td>\n",
              "      <td>10</td>\n",
              "      <td>0</td>\n",
              "      <td>1</td>\n",
              "      <td>13</td>\n",
              "      <td>0</td>\n",
              "      <td>0</td>\n",
              "      <td>0</td>\n",
              "      <td>1</td>\n",
              "      <td>0.0</td>\n",
              "      <td>HIT</td>\n",
              "      <td>0.0</td>\n",
              "      <td>NaN</td>\n",
              "    </tr>\n",
              "    <tr>\n",
              "      <th>1</th>\n",
              "      <td>12099500000</td>\n",
              "      <td>10</td>\n",
              "      <td>0</td>\n",
              "      <td>1</td>\n",
              "      <td>18</td>\n",
              "      <td>0</td>\n",
              "      <td>0</td>\n",
              "      <td>1</td>\n",
              "      <td>1</td>\n",
              "      <td>0.0</td>\n",
              "      <td>STAND</td>\n",
              "      <td>-1.0</td>\n",
              "      <td>-1.0</td>\n",
              "    </tr>\n",
              "    <tr>\n",
              "      <th>2</th>\n",
              "      <td>12099500001</td>\n",
              "      <td>10</td>\n",
              "      <td>0</td>\n",
              "      <td>1</td>\n",
              "      <td>13</td>\n",
              "      <td>0</td>\n",
              "      <td>0</td>\n",
              "      <td>0</td>\n",
              "      <td>1</td>\n",
              "      <td>0.0</td>\n",
              "      <td>HIT</td>\n",
              "      <td>0.0</td>\n",
              "      <td>NaN</td>\n",
              "    </tr>\n",
              "    <tr>\n",
              "      <th>3</th>\n",
              "      <td>12099500001</td>\n",
              "      <td>10</td>\n",
              "      <td>0</td>\n",
              "      <td>1</td>\n",
              "      <td>19</td>\n",
              "      <td>0</td>\n",
              "      <td>0</td>\n",
              "      <td>1</td>\n",
              "      <td>1</td>\n",
              "      <td>0.0</td>\n",
              "      <td>STAND</td>\n",
              "      <td>0.0</td>\n",
              "      <td>0.0</td>\n",
              "    </tr>\n",
              "    <tr>\n",
              "      <th>4</th>\n",
              "      <td>12099500002</td>\n",
              "      <td>7</td>\n",
              "      <td>0</td>\n",
              "      <td>1</td>\n",
              "      <td>20</td>\n",
              "      <td>0</td>\n",
              "      <td>1</td>\n",
              "      <td>0</td>\n",
              "      <td>1</td>\n",
              "      <td>0.0</td>\n",
              "      <td>STAND</td>\n",
              "      <td>1.0</td>\n",
              "      <td>1.0</td>\n",
              "    </tr>\n",
              "  </tbody>\n",
              "</table>\n",
              "</div>\n",
              "    <div class=\"colab-df-buttons\">\n",
              "\n",
              "  <div class=\"colab-df-container\">\n",
              "    <button class=\"colab-df-convert\" onclick=\"convertToInteractive('df-fc4a7e0b-268c-4f9e-9204-a9d36e07de0f')\"\n",
              "            title=\"Convert this dataframe to an interactive table.\"\n",
              "            style=\"display:none;\">\n",
              "\n",
              "  <svg xmlns=\"http://www.w3.org/2000/svg\" height=\"24px\" viewBox=\"0 -960 960 960\">\n",
              "    <path d=\"M120-120v-720h720v720H120Zm60-500h600v-160H180v160Zm220 220h160v-160H400v160Zm0 220h160v-160H400v160ZM180-400h160v-160H180v160Zm440 0h160v-160H620v160ZM180-180h160v-160H180v160Zm440 0h160v-160H620v160Z\"/>\n",
              "  </svg>\n",
              "    </button>\n",
              "\n",
              "  <style>\n",
              "    .colab-df-container {\n",
              "      display:flex;\n",
              "      gap: 12px;\n",
              "    }\n",
              "\n",
              "    .colab-df-convert {\n",
              "      background-color: #E8F0FE;\n",
              "      border: none;\n",
              "      border-radius: 50%;\n",
              "      cursor: pointer;\n",
              "      display: none;\n",
              "      fill: #1967D2;\n",
              "      height: 32px;\n",
              "      padding: 0 0 0 0;\n",
              "      width: 32px;\n",
              "    }\n",
              "\n",
              "    .colab-df-convert:hover {\n",
              "      background-color: #E2EBFA;\n",
              "      box-shadow: 0px 1px 2px rgba(60, 64, 67, 0.3), 0px 1px 3px 1px rgba(60, 64, 67, 0.15);\n",
              "      fill: #174EA6;\n",
              "    }\n",
              "\n",
              "    .colab-df-buttons div {\n",
              "      margin-bottom: 4px;\n",
              "    }\n",
              "\n",
              "    [theme=dark] .colab-df-convert {\n",
              "      background-color: #3B4455;\n",
              "      fill: #D2E3FC;\n",
              "    }\n",
              "\n",
              "    [theme=dark] .colab-df-convert:hover {\n",
              "      background-color: #434B5C;\n",
              "      box-shadow: 0px 1px 3px 1px rgba(0, 0, 0, 0.15);\n",
              "      filter: drop-shadow(0px 1px 2px rgba(0, 0, 0, 0.3));\n",
              "      fill: #FFFFFF;\n",
              "    }\n",
              "  </style>\n",
              "\n",
              "    <script>\n",
              "      const buttonEl =\n",
              "        document.querySelector('#df-fc4a7e0b-268c-4f9e-9204-a9d36e07de0f button.colab-df-convert');\n",
              "      buttonEl.style.display =\n",
              "        google.colab.kernel.accessAllowed ? 'block' : 'none';\n",
              "\n",
              "      async function convertToInteractive(key) {\n",
              "        const element = document.querySelector('#df-fc4a7e0b-268c-4f9e-9204-a9d36e07de0f');\n",
              "        const dataTable =\n",
              "          await google.colab.kernel.invokeFunction('convertToInteractive',\n",
              "                                                    [key], {});\n",
              "        if (!dataTable) return;\n",
              "\n",
              "        const docLinkHtml = 'Like what you see? Visit the ' +\n",
              "          '<a target=\"_blank\" href=https://colab.research.google.com/notebooks/data_table.ipynb>data table notebook</a>'\n",
              "          + ' to learn more about interactive tables.';\n",
              "        element.innerHTML = '';\n",
              "        dataTable['output_type'] = 'display_data';\n",
              "        await google.colab.output.renderOutput(dataTable, element);\n",
              "        const docLink = document.createElement('div');\n",
              "        docLink.innerHTML = docLinkHtml;\n",
              "        element.appendChild(docLink);\n",
              "      }\n",
              "    </script>\n",
              "  </div>\n",
              "\n",
              "\n",
              "<div id=\"df-5038c4f8-82dc-415a-a219-5d33cf0302e7\">\n",
              "  <button class=\"colab-df-quickchart\" onclick=\"quickchart('df-5038c4f8-82dc-415a-a219-5d33cf0302e7')\"\n",
              "            title=\"Suggest charts\"\n",
              "            style=\"display:none;\">\n",
              "\n",
              "<svg xmlns=\"http://www.w3.org/2000/svg\" height=\"24px\"viewBox=\"0 0 24 24\"\n",
              "     width=\"24px\">\n",
              "    <g>\n",
              "        <path d=\"M19 3H5c-1.1 0-2 .9-2 2v14c0 1.1.9 2 2 2h14c1.1 0 2-.9 2-2V5c0-1.1-.9-2-2-2zM9 17H7v-7h2v7zm4 0h-2V7h2v10zm4 0h-2v-4h2v4z\"/>\n",
              "    </g>\n",
              "</svg>\n",
              "  </button>\n",
              "\n",
              "<style>\n",
              "  .colab-df-quickchart {\n",
              "      --bg-color: #E8F0FE;\n",
              "      --fill-color: #1967D2;\n",
              "      --hover-bg-color: #E2EBFA;\n",
              "      --hover-fill-color: #174EA6;\n",
              "      --disabled-fill-color: #AAA;\n",
              "      --disabled-bg-color: #DDD;\n",
              "  }\n",
              "\n",
              "  [theme=dark] .colab-df-quickchart {\n",
              "      --bg-color: #3B4455;\n",
              "      --fill-color: #D2E3FC;\n",
              "      --hover-bg-color: #434B5C;\n",
              "      --hover-fill-color: #FFFFFF;\n",
              "      --disabled-bg-color: #3B4455;\n",
              "      --disabled-fill-color: #666;\n",
              "  }\n",
              "\n",
              "  .colab-df-quickchart {\n",
              "    background-color: var(--bg-color);\n",
              "    border: none;\n",
              "    border-radius: 50%;\n",
              "    cursor: pointer;\n",
              "    display: none;\n",
              "    fill: var(--fill-color);\n",
              "    height: 32px;\n",
              "    padding: 0;\n",
              "    width: 32px;\n",
              "  }\n",
              "\n",
              "  .colab-df-quickchart:hover {\n",
              "    background-color: var(--hover-bg-color);\n",
              "    box-shadow: 0 1px 2px rgba(60, 64, 67, 0.3), 0 1px 3px 1px rgba(60, 64, 67, 0.15);\n",
              "    fill: var(--button-hover-fill-color);\n",
              "  }\n",
              "\n",
              "  .colab-df-quickchart-complete:disabled,\n",
              "  .colab-df-quickchart-complete:disabled:hover {\n",
              "    background-color: var(--disabled-bg-color);\n",
              "    fill: var(--disabled-fill-color);\n",
              "    box-shadow: none;\n",
              "  }\n",
              "\n",
              "  .colab-df-spinner {\n",
              "    border: 2px solid var(--fill-color);\n",
              "    border-color: transparent;\n",
              "    border-bottom-color: var(--fill-color);\n",
              "    animation:\n",
              "      spin 1s steps(1) infinite;\n",
              "  }\n",
              "\n",
              "  @keyframes spin {\n",
              "    0% {\n",
              "      border-color: transparent;\n",
              "      border-bottom-color: var(--fill-color);\n",
              "      border-left-color: var(--fill-color);\n",
              "    }\n",
              "    20% {\n",
              "      border-color: transparent;\n",
              "      border-left-color: var(--fill-color);\n",
              "      border-top-color: var(--fill-color);\n",
              "    }\n",
              "    30% {\n",
              "      border-color: transparent;\n",
              "      border-left-color: var(--fill-color);\n",
              "      border-top-color: var(--fill-color);\n",
              "      border-right-color: var(--fill-color);\n",
              "    }\n",
              "    40% {\n",
              "      border-color: transparent;\n",
              "      border-right-color: var(--fill-color);\n",
              "      border-top-color: var(--fill-color);\n",
              "    }\n",
              "    60% {\n",
              "      border-color: transparent;\n",
              "      border-right-color: var(--fill-color);\n",
              "    }\n",
              "    80% {\n",
              "      border-color: transparent;\n",
              "      border-right-color: var(--fill-color);\n",
              "      border-bottom-color: var(--fill-color);\n",
              "    }\n",
              "    90% {\n",
              "      border-color: transparent;\n",
              "      border-bottom-color: var(--fill-color);\n",
              "    }\n",
              "  }\n",
              "</style>\n",
              "\n",
              "  <script>\n",
              "    async function quickchart(key) {\n",
              "      const quickchartButtonEl =\n",
              "        document.querySelector('#' + key + ' button');\n",
              "      quickchartButtonEl.disabled = true;  // To prevent multiple clicks.\n",
              "      quickchartButtonEl.classList.add('colab-df-spinner');\n",
              "      try {\n",
              "        const charts = await google.colab.kernel.invokeFunction(\n",
              "            'suggestCharts', [key], {});\n",
              "      } catch (error) {\n",
              "        console.error('Error during call to suggestCharts:', error);\n",
              "      }\n",
              "      quickchartButtonEl.classList.remove('colab-df-spinner');\n",
              "      quickchartButtonEl.classList.add('colab-df-quickchart-complete');\n",
              "    }\n",
              "    (() => {\n",
              "      let quickchartButtonEl =\n",
              "        document.querySelector('#df-5038c4f8-82dc-415a-a219-5d33cf0302e7 button');\n",
              "      quickchartButtonEl.style.display =\n",
              "        google.colab.kernel.accessAllowed ? 'block' : 'none';\n",
              "    })();\n",
              "  </script>\n",
              "</div>\n",
              "    </div>\n",
              "  </div>\n"
            ]
          },
          "metadata": {},
          "execution_count": 153
        }
      ]
    },
    {
      "cell_type": "code",
      "source": [
        "raw_df.shape"
      ],
      "metadata": {
        "colab": {
          "base_uri": "https://localhost:8080/"
        },
        "id": "xQWI4JVPXj-X",
        "outputId": "a8fd6c58-fe45-480e-fb5b-644ea10977af"
      },
      "execution_count": 154,
      "outputs": [
        {
          "output_type": "execute_result",
          "data": {
            "text/plain": [
              "(888230, 13)"
            ]
          },
          "metadata": {},
          "execution_count": 154
        }
      ]
    },
    {
      "cell_type": "code",
      "source": [
        "raw_df['Action'].unique()"
      ],
      "metadata": {
        "colab": {
          "base_uri": "https://localhost:8080/"
        },
        "id": "8q6IHnMwmuib",
        "outputId": "93dd972b-765c-450c-cad1-127e8d04c32c"
      },
      "execution_count": 155,
      "outputs": [
        {
          "output_type": "execute_result",
          "data": {
            "text/plain": [
              "array(['HIT', 'STAND', 'INSURANCE_HALF', 'SPLIT', 'INSURANCE_FULL',\n",
              "       'DOUBLE_DOWN'], dtype=object)"
            ]
          },
          "metadata": {},
          "execution_count": 155
        }
      ]
    },
    {
      "cell_type": "code",
      "source": [
        "def plot_rolling_rewards(df, window, title):\n",
        "  plot_df = df[[\"Episode Net Reward\"]].dropna().reset_index().rolling(window, step = window).mean()\n",
        "  plt.plot(plot_df[\"Episode Net Reward\"])\n",
        "  plt.xlabel(\"Game\")\n",
        "  plt.ylabel(\"Profit\")\n",
        "  plt.title(title)"
      ],
      "metadata": {
        "id": "nLUh3hfAfyKS"
      },
      "execution_count": 156,
      "outputs": []
    },
    {
      "cell_type": "code",
      "source": [
        "def plot_proportion_hands(df, hands_df, title):\n",
        "  plot_df = df / hands_df\n",
        "  plot_df.dropna().plot(kind='bar')\n",
        "  plt.xlabel(\"Hand\")\n",
        "  plt.ylabel(\"Proportion of hands\")\n",
        "  plt.title(title)"
      ],
      "metadata": {
        "id": "uCWRSe6NuJ-c"
      },
      "execution_count": 157,
      "outputs": []
    },
    {
      "cell_type": "markdown",
      "source": [
        "## Comparing Alphas"
      ],
      "metadata": {
        "id": "4nx3A8uinGS9"
      }
    },
    {
      "cell_type": "code",
      "source": [
        "a1_df = pd.read_csv(\"alpha_1.csv\")\n",
        "a01_df = pd.read_csv(\"alpha_01.csv\")\n",
        "a001_df = pd.read_csv(\"alpha_001.csv\")"
      ],
      "metadata": {
        "id": "owB1Ex1LnFe2"
      },
      "execution_count": 158,
      "outputs": []
    },
    {
      "cell_type": "code",
      "source": [
        "for alpha, df in [(1, a1_df), (0.1, a01_df), (0.01, a001_df)]:\n",
        "  plot_df = df[[\"Episode Net Reward\"]].dropna().reset_index().rolling(10000, step = 10000).mean()\n",
        "  plt.plot(plot_df[\"Episode Net Reward\"], label = str(alpha))\n",
        "plt.xlabel(\"Episode\")\n",
        "plt.ylabel(\"Average Reward\")\n",
        "plt.legend()\n",
        "plt.title(\"Average Reward over Time for different values of alpha\")"
      ],
      "metadata": {
        "colab": {
          "base_uri": "https://localhost:8080/",
          "height": 489
        },
        "id": "azhTzjlbpDEW",
        "outputId": "2d7a306d-e718-4b0b-8877-d6dfb8917a22"
      },
      "execution_count": 159,
      "outputs": [
        {
          "output_type": "execute_result",
          "data": {
            "text/plain": [
              "Text(0.5, 1.0, 'Average Reward over Time for different values of alpha')"
            ]
          },
          "metadata": {},
          "execution_count": 159
        },
        {
          "output_type": "display_data",
          "data": {
            "text/plain": [
              "<Figure size 640x480 with 1 Axes>"
            ],
            "image/png": "[encoded data removed]"
          },
          "metadata": {}
        }
      ]
    },
    {
      "cell_type": "markdown",
      "source": [
        "## Monster Run Rewards"
      ],
      "metadata": {
        "id": "7SG69zs0noXb"
      }
    },
    {
      "cell_type": "code",
      "source": [
        "monster_rewards_df = pd.read_csv(\"monster_run_rewards.csv\")"
      ],
      "metadata": {
        "id": "M7Vc0gd-nluQ"
      },
      "execution_count": 160,
      "outputs": []
    },
    {
      "cell_type": "code",
      "source": [
        "monster_rewards_df.head()"
      ],
      "metadata": {
        "colab": {
          "base_uri": "https://localhost:8080/",
          "height": 204
        },
        "id": "N108chIVn7ck",
        "outputId": "0fb8365d-7593-43c8-d1d1-29756ef09966"
      },
      "execution_count": 161,
      "outputs": [
        {
          "output_type": "execute_result",
          "data": {
            "text/plain": [
              "     episode    reward\n",
              "0  100000000 -0.029352\n",
              "1  200000000 -0.026961\n",
              "2  300000000 -0.024365\n",
              "3  400000000 -0.023044\n",
              "4  500000000 -0.022112"
            ],
            "text/html": [
              "\n",
              "  <div id=\"df-9db462d4-9f5a-4b74-ad47-fa2e995ab28d\" class=\"colab-df-container\">\n",
              "    <div>\n",
              "<style scoped>\n",
              "    .dataframe tbody tr th:only-of-type {\n",
              "        vertical-align: middle;\n",
              "    }\n",
              "\n",
              "    .dataframe tbody tr th {\n",
              "        vertical-align: top;\n",
              "    }\n",
              "\n",
              "    .dataframe thead th {\n",
              "        text-align: right;\n",
              "    }\n",
              "</style>\n",
              "<table border=\"1\" class=\"dataframe\">\n",
              "  <thead>\n",
              "    <tr style=\"text-align: right;\">\n",
              "      <th></th>\n",
              "      <th>episode</th>\n",
              "      <th>reward</th>\n",
              "    </tr>\n",
              "  </thead>\n",
              "  <tbody>\n",
              "    <tr>\n",
              "      <th>0</th>\n",
              "      <td>100000000</td>\n",
              "      <td>-0.029352</td>\n",
              "    </tr>\n",
              "    <tr>\n",
              "      <th>1</th>\n",
              "      <td>200000000</td>\n",
              "      <td>-0.026961</td>\n",
              "    </tr>\n",
              "    <tr>\n",
              "      <th>2</th>\n",
              "      <td>300000000</td>\n",
              "      <td>-0.024365</td>\n",
              "    </tr>\n",
              "    <tr>\n",
              "      <th>3</th>\n",
              "      <td>400000000</td>\n",
              "      <td>-0.023044</td>\n",
              "    </tr>\n",
              "    <tr>\n",
              "      <th>4</th>\n",
              "      <td>500000000</td>\n",
              "      <td>-0.022112</td>\n",
              "    </tr>\n",
              "  </tbody>\n",
              "</table>\n",
              "</div>\n",
              "    <div class=\"colab-df-buttons\">\n",
              "\n",
              "  <div class=\"colab-df-container\">\n",
              "    <button class=\"colab-df-convert\" onclick=\"convertToInteractive('df-9db462d4-9f5a-4b74-ad47-fa2e995ab28d')\"\n",
              "            title=\"Convert this dataframe to an interactive table.\"\n",
              "            style=\"display:none;\">\n",
              "\n",
              "  <svg xmlns=\"http://www.w3.org/2000/svg\" height=\"24px\" viewBox=\"0 -960 960 960\">\n",
              "    <path d=\"M120-120v-720h720v720H120Zm60-500h600v-160H180v160Zm220 220h160v-160H400v160Zm0 220h160v-160H400v160ZM180-400h160v-160H180v160Zm440 0h160v-160H620v160ZM180-180h160v-160H180v160Zm440 0h160v-160H620v160Z\"/>\n",
              "  </svg>\n",
              "    </button>\n",
              "\n",
              "  <style>\n",
              "    .colab-df-container {\n",
              "      display:flex;\n",
              "      gap: 12px;\n",
              "    }\n",
              "\n",
              "    .colab-df-convert {\n",
              "      background-color: #E8F0FE;\n",
              "      border: none;\n",
              "      border-radius: 50%;\n",
              "      cursor: pointer;\n",
              "      display: none;\n",
              "      fill: #1967D2;\n",
              "      height: 32px;\n",
              "      padding: 0 0 0 0;\n",
              "      width: 32px;\n",
              "    }\n",
              "\n",
              "    .colab-df-convert:hover {\n",
              "      background-color: #E2EBFA;\n",
              "      box-shadow: 0px 1px 2px rgba(60, 64, 67, 0.3), 0px 1px 3px 1px rgba(60, 64, 67, 0.15);\n",
              "      fill: #174EA6;\n",
              "    }\n",
              "\n",
              "    .colab-df-buttons div {\n",
              "      margin-bottom: 4px;\n",
              "    }\n",
              "\n",
              "    [theme=dark] .colab-df-convert {\n",
              "      background-color: #3B4455;\n",
              "      fill: #D2E3FC;\n",
              "    }\n",
              "\n",
              "    [theme=dark] .colab-df-convert:hover {\n",
              "      background-color: #434B5C;\n",
              "      box-shadow: 0px 1px 3px 1px rgba(0, 0, 0, 0.15);\n",
              "      filter: drop-shadow(0px 1px 2px rgba(0, 0, 0, 0.3));\n",
              "      fill: #FFFFFF;\n",
              "    }\n",
              "  </style>\n",
              "\n",
              "    <script>\n",
              "      const buttonEl =\n",
              "        document.querySelector('#df-9db462d4-9f5a-4b74-ad47-fa2e995ab28d button.colab-df-convert');\n",
              "      buttonEl.style.display =\n",
              "        google.colab.kernel.accessAllowed ? 'block' : 'none';\n",
              "\n",
              "      async function convertToInteractive(key) {\n",
              "        const element = document.querySelector('#df-9db462d4-9f5a-4b74-ad47-fa2e995ab28d');\n",
              "        const dataTable =\n",
              "          await google.colab.kernel.invokeFunction('convertToInteractive',\n",
              "                                                    [key], {});\n",
              "        if (!dataTable) return;\n",
              "\n",
              "        const docLinkHtml = 'Like what you see? Visit the ' +\n",
              "          '<a target=\"_blank\" href=https://colab.research.google.com/notebooks/data_table.ipynb>data table notebook</a>'\n",
              "          + ' to learn more about interactive tables.';\n",
              "        element.innerHTML = '';\n",
              "        dataTable['output_type'] = 'display_data';\n",
              "        await google.colab.output.renderOutput(dataTable, element);\n",
              "        const docLink = document.createElement('div');\n",
              "        docLink.innerHTML = docLinkHtml;\n",
              "        element.appendChild(docLink);\n",
              "      }\n",
              "    </script>\n",
              "  </div>\n",
              "\n",
              "\n",
              "<div id=\"df-a4e43575-913c-4ae5-a804-81fb0799466c\">\n",
              "  <button class=\"colab-df-quickchart\" onclick=\"quickchart('df-a4e43575-913c-4ae5-a804-81fb0799466c')\"\n",
              "            title=\"Suggest charts\"\n",
              "            style=\"display:none;\">\n",
              "\n",
              "<svg xmlns=\"http://www.w3.org/2000/svg\" height=\"24px\"viewBox=\"0 0 24 24\"\n",
              "     width=\"24px\">\n",
              "    <g>\n",
              "        <path d=\"M19 3H5c-1.1 0-2 .9-2 2v14c0 1.1.9 2 2 2h14c1.1 0 2-.9 2-2V5c0-1.1-.9-2-2-2zM9 17H7v-7h2v7zm4 0h-2V7h2v10zm4 0h-2v-4h2v4z\"/>\n",
              "    </g>\n",
              "</svg>\n",
              "  </button>\n",
              "\n",
              "<style>\n",
              "  .colab-df-quickchart {\n",
              "      --bg-color: #E8F0FE;\n",
              "      --fill-color: #1967D2;\n",
              "      --hover-bg-color: #E2EBFA;\n",
              "      --hover-fill-color: #174EA6;\n",
              "      --disabled-fill-color: #AAA;\n",
              "      --disabled-bg-color: #DDD;\n",
              "  }\n",
              "\n",
              "  [theme=dark] .colab-df-quickchart {\n",
              "      --bg-color: #3B4455;\n",
              "      --fill-color: #D2E3FC;\n",
              "      --hover-bg-color: #434B5C;\n",
              "      --hover-fill-color: #FFFFFF;\n",
              "      --disabled-bg-color: #3B4455;\n",
              "      --disabled-fill-color: #666;\n",
              "  }\n",
              "\n",
              "  .colab-df-quickchart {\n",
              "    background-color: var(--bg-color);\n",
              "    border: none;\n",
              "    border-radius: 50%;\n",
              "    cursor: pointer;\n",
              "    display: none;\n",
              "    fill: var(--fill-color);\n",
              "    height: 32px;\n",
              "    padding: 0;\n",
              "    width: 32px;\n",
              "  }\n",
              "\n",
              "  .colab-df-quickchart:hover {\n",
              "    background-color: var(--hover-bg-color);\n",
              "    box-shadow: 0 1px 2px rgba(60, 64, 67, 0.3), 0 1px 3px 1px rgba(60, 64, 67, 0.15);\n",
              "    fill: var(--button-hover-fill-color);\n",
              "  }\n",
              "\n",
              "  .colab-df-quickchart-complete:disabled,\n",
              "  .colab-df-quickchart-complete:disabled:hover {\n",
              "    background-color: var(--disabled-bg-color);\n",
              "    fill: var(--disabled-fill-color);\n",
              "    box-shadow: none;\n",
              "  }\n",
              "\n",
              "  .colab-df-spinner {\n",
              "    border: 2px solid var(--fill-color);\n",
              "    border-color: transparent;\n",
              "    border-bottom-color: var(--fill-color);\n",
              "    animation:\n",
              "      spin 1s steps(1) infinite;\n",
              "  }\n",
              "\n",
              "  @keyframes spin {\n",
              "    0% {\n",
              "      border-color: transparent;\n",
              "      border-bottom-color: var(--fill-color);\n",
              "      border-left-color: var(--fill-color);\n",
              "    }\n",
              "    20% {\n",
              "      border-color: transparent;\n",
              "      border-left-color: var(--fill-color);\n",
              "      border-top-color: var(--fill-color);\n",
              "    }\n",
              "    30% {\n",
              "      border-color: transparent;\n",
              "      border-left-color: var(--fill-color);\n",
              "      border-top-color: var(--fill-color);\n",
              "      border-right-color: var(--fill-color);\n",
              "    }\n",
              "    40% {\n",
              "      border-color: transparent;\n",
              "      border-right-color: var(--fill-color);\n",
              "      border-top-color: var(--fill-color);\n",
              "    }\n",
              "    60% {\n",
              "      border-color: transparent;\n",
              "      border-right-color: var(--fill-color);\n",
              "    }\n",
              "    80% {\n",
              "      border-color: transparent;\n",
              "      border-right-color: var(--fill-color);\n",
              "      border-bottom-color: var(--fill-color);\n",
              "    }\n",
              "    90% {\n",
              "      border-color: transparent;\n",
              "      border-bottom-color: var(--fill-color);\n",
              "    }\n",
              "  }\n",
              "</style>\n",
              "\n",
              "  <script>\n",
              "    async function quickchart(key) {\n",
              "      const quickchartButtonEl =\n",
              "        document.querySelector('#' + key + ' button');\n",
              "      quickchartButtonEl.disabled = true;  // To prevent multiple clicks.\n",
              "      quickchartButtonEl.classList.add('colab-df-spinner');\n",
              "      try {\n",
              "        const charts = await google.colab.kernel.invokeFunction(\n",
              "            'suggestCharts', [key], {});\n",
              "      } catch (error) {\n",
              "        console.error('Error during call to suggestCharts:', error);\n",
              "      }\n",
              "      quickchartButtonEl.classList.remove('colab-df-spinner');\n",
              "      quickchartButtonEl.classList.add('colab-df-quickchart-complete');\n",
              "    }\n",
              "    (() => {\n",
              "      let quickchartButtonEl =\n",
              "        document.querySelector('#df-a4e43575-913c-4ae5-a804-81fb0799466c button');\n",
              "      quickchartButtonEl.style.display =\n",
              "        google.colab.kernel.accessAllowed ? 'block' : 'none';\n",
              "    })();\n",
              "  </script>\n",
              "</div>\n",
              "    </div>\n",
              "  </div>\n"
            ]
          },
          "metadata": {},
          "execution_count": 161
        }
      ]
    },
    {
      "cell_type": "code",
      "source": [
        "monster_rewards_df.columns"
      ],
      "metadata": {
        "colab": {
          "base_uri": "https://localhost:8080/"
        },
        "id": "LEc-BskQoWoP",
        "outputId": "08bbb36c-f221-4251-d69f-5e95a9db1c07"
      },
      "execution_count": 162,
      "outputs": [
        {
          "output_type": "execute_result",
          "data": {
            "text/plain": [
              "Index(['episode', ' reward'], dtype='object')"
            ]
          },
          "metadata": {},
          "execution_count": 162
        }
      ]
    },
    {
      "cell_type": "code",
      "source": [
        "plt.plot(monster_rewards_df[\" reward\"])\n",
        "plt.xlabel(\"Episode (* 10^8)\")\n",
        "plt.ylabel(\"Average Profit\")\n",
        "plt.title(\"Average Profit over time, alpha = 0.1\")"
      ],
      "metadata": {
        "colab": {
          "base_uri": "https://localhost:8080/",
          "height": 489
        },
        "id": "K5tmpqOVnwAH",
        "outputId": "387142bf-31a1-49f2-c5ce-058f50ab4b06"
      },
      "execution_count": 163,
      "outputs": [
        {
          "output_type": "execute_result",
          "data": {
            "text/plain": [
              "Text(0.5, 1.0, 'Average Profit over time, alpha = 0.1')"
            ]
          },
          "metadata": {},
          "execution_count": 163
        },
        {
          "output_type": "display_data",
          "data": {
            "text/plain": [
              "<Figure size 640x480 with 1 Axes>"
            ],
            "image/png": "[encoded data removed]"
          },
          "metadata": {}
        }
      ]
    },
    {
      "cell_type": "markdown",
      "source": [
        "## Training results"
      ],
      "metadata": {
        "id": "X1kGCkLEamuV"
      }
    },
    {
      "cell_type": "code",
      "source": [
        "raw_df[[\"Episode Net Reward\"]].dropna().mean()"
      ],
      "metadata": {
        "colab": {
          "base_uri": "https://localhost:8080/"
        },
        "id": "xdIdTdnla8u3",
        "outputId": "9155db23-77b5-4eca-e438-c96e01d572ef"
      },
      "execution_count": 164,
      "outputs": [
        {
          "output_type": "execute_result",
          "data": {
            "text/plain": [
              "Episode Net Reward   -0.023849\n",
              "dtype: float64"
            ]
          },
          "metadata": {},
          "execution_count": 164
        }
      ]
    },
    {
      "cell_type": "code",
      "source": [
        "raw_df[[\"Episode Net Reward\"]].dropna().tail(10000).mean()"
      ],
      "metadata": {
        "colab": {
          "base_uri": "https://localhost:8080/"
        },
        "id": "A-Cfh0ABfZYR",
        "outputId": "14bf328f-7870-4a44-a9a1-7923c58e75ac"
      },
      "execution_count": 165,
      "outputs": [
        {
          "output_type": "execute_result",
          "data": {
            "text/plain": [
              "Episode Net Reward   -0.0142\n",
              "dtype: float64"
            ]
          },
          "metadata": {},
          "execution_count": 165
        }
      ]
    },
    {
      "cell_type": "code",
      "source": [
        "raw_df[\"Episode Net Reward\"].dropna().tail(10000).std()"
      ],
      "metadata": {
        "colab": {
          "base_uri": "https://localhost:8080/"
        },
        "id": "nXeYo9ttGW89",
        "outputId": "d6f21b29-7af4-4991-d270-8cb63f6f2fb5"
      },
      "execution_count": 166,
      "outputs": [
        {
          "output_type": "execute_result",
          "data": {
            "text/plain": [
              "1.0061931238386825"
            ]
          },
          "metadata": {},
          "execution_count": 166
        }
      ]
    },
    {
      "cell_type": "code",
      "source": [
        "plot_rolling_rewards(raw_df, 5000, \"Average profit over sliding window of 5000 games\")"
      ],
      "metadata": {
        "colab": {
          "base_uri": "https://localhost:8080/",
          "height": 472
        },
        "id": "4vD6T8HZgJdd",
        "outputId": "6594bac0-a036-48a6-af93-90143679706d"
      },
      "execution_count": 167,
      "outputs": [
        {
          "output_type": "display_data",
          "data": {
            "text/plain": [
              "<Figure size 640x480 with 1 Axes>"
            ],
            "image/png": "[encoded data removed]"
          },
          "metadata": {}
        }
      ]
    },
    {
      "cell_type": "markdown",
      "source": [
        "## Decisions investigation"
      ],
      "metadata": {
        "id": "MLBwlNB8avIL"
      }
    },
    {
      "cell_type": "code",
      "source": [
        "# Create new columns for the max hand including ace\n",
        "raw_df['Max Hand'] = np.where(raw_df['Hand'] + raw_df['Has Ace'] * 10 <= 21, raw_df['Hand'] + raw_df['Has Ace'] * 10, raw_df['Hand'])"
      ],
      "metadata": {
        "id": "6YDv9T0TjbTP"
      },
      "execution_count": 168,
      "outputs": []
    },
    {
      "cell_type": "code",
      "source": [
        "# Create new dataframe for proportion of each hand\n",
        "hands_df = raw_df['Hand'].value_counts()\n",
        "max_hands_df = raw_df['Max Hand'].value_counts()"
      ],
      "metadata": {
        "id": "poS1X-xKtqGJ"
      },
      "execution_count": 169,
      "outputs": []
    },
    {
      "cell_type": "markdown",
      "source": [
        "### Hit"
      ],
      "metadata": {
        "id": "S9ofEJtWa07t"
      }
    },
    {
      "cell_type": "code",
      "source": [
        "hit_df = raw_df[raw_df[\"Action\"] == \"HIT\"]"
      ],
      "metadata": {
        "id": "Z1gYm4RWZ1Jz"
      },
      "execution_count": 170,
      "outputs": []
    },
    {
      "cell_type": "code",
      "source": [
        "hit_df['Hand'].mean()"
      ],
      "metadata": {
        "colab": {
          "base_uri": "https://localhost:8080/"
        },
        "id": "6_LmFU78mRb6",
        "outputId": "fd003f66-5024-421c-fa5f-1f6f77c8e6c2"
      },
      "execution_count": 171,
      "outputs": [
        {
          "output_type": "execute_result",
          "data": {
            "text/plain": [
              "11.5925441568059"
            ]
          },
          "metadata": {},
          "execution_count": 171
        }
      ]
    },
    {
      "cell_type": "code",
      "source": [
        "hit_df['Max Hand'].value_counts()"
      ],
      "metadata": {
        "colab": {
          "base_uri": "https://localhost:8080/"
        },
        "id": "F3oHBSm0rjlB",
        "outputId": "c0ba72bc-2c8d-41ca-ded4-3b1e91d2f839"
      },
      "execution_count": 172,
      "outputs": [
        {
          "output_type": "execute_result",
          "data": {
            "text/plain": [
              "13    68485\n",
              "12    58241\n",
              "14    56595\n",
              "15    50959\n",
              "16    46495\n",
              "11    30574\n",
              "10    24676\n",
              "17    23151\n",
              "9     20767\n",
              "8     15881\n",
              "7     13010\n",
              "18    10872\n",
              "19     8716\n",
              "6      7447\n",
              "5      6517\n",
              "20     1447\n",
              "4       417\n",
              "21       19\n",
              "Name: Max Hand, dtype: int64"
            ]
          },
          "metadata": {},
          "execution_count": 172
        }
      ]
    },
    {
      "cell_type": "code",
      "source": [
        "hit_df['Max Hand'].mean()"
      ],
      "metadata": {
        "colab": {
          "base_uri": "https://localhost:8080/"
        },
        "id": "wsqahnY-gbaP",
        "outputId": "f5eb6ab2-b033-476a-9f3e-abdba82b1aa2"
      },
      "execution_count": 173,
      "outputs": [
        {
          "output_type": "execute_result",
          "data": {
            "text/plain": [
              "12.922504158516574"
            ]
          },
          "metadata": {},
          "execution_count": 173
        }
      ]
    },
    {
      "cell_type": "code",
      "source": [
        "hit_df['Dealer'].mean()"
      ],
      "metadata": {
        "colab": {
          "base_uri": "https://localhost:8080/"
        },
        "id": "5aqzG2REg3A-",
        "outputId": "d17fd0cb-27f4-4705-dec2-ca43a9f03e9e"
      },
      "execution_count": 174,
      "outputs": [
        {
          "output_type": "execute_result",
          "data": {
            "text/plain": [
              "7.028347690250726"
            ]
          },
          "metadata": {},
          "execution_count": 174
        }
      ]
    },
    {
      "cell_type": "code",
      "source": [
        "smaller_hand_df = raw_df[raw_df['Hand'] <= raw_df['Dealer']]"
      ],
      "metadata": {
        "id": "6GRaSt_CiJ3r"
      },
      "execution_count": 175,
      "outputs": []
    },
    {
      "cell_type": "code",
      "source": [
        "smaller_hand_df[smaller_hand_df['Action'] == \"HIT\"].shape[0] / smaller_hand_df.shape[0]"
      ],
      "metadata": {
        "colab": {
          "base_uri": "https://localhost:8080/"
        },
        "id": "vzyOa2CThHlR",
        "outputId": "06ba9620-b7ac-4589-a2b9-44f096dccb50"
      },
      "execution_count": 176,
      "outputs": [
        {
          "output_type": "execute_result",
          "data": {
            "text/plain": [
              "0.8903986030967772"
            ]
          },
          "metadata": {},
          "execution_count": 176
        }
      ]
    },
    {
      "cell_type": "code",
      "source": [
        "larger_hand_df = raw_df[raw_df['Max Hand'] > raw_df['Dealer']]"
      ],
      "metadata": {
        "id": "jtz0HCWqiSsg"
      },
      "execution_count": 177,
      "outputs": []
    },
    {
      "cell_type": "code",
      "source": [
        "larger_hand_df[larger_hand_df['Action'] == \"HIT\"].shape[0] / larger_hand_df.shape[0]"
      ],
      "metadata": {
        "colab": {
          "base_uri": "https://localhost:8080/"
        },
        "id": "mku5Fu3DisN1",
        "outputId": "25b442b6-9d66-4303-9eb1-8bb64e424ed7"
      },
      "execution_count": 178,
      "outputs": [
        {
          "output_type": "execute_result",
          "data": {
            "text/plain": [
              "0.4774749935805122"
            ]
          },
          "metadata": {},
          "execution_count": 178
        }
      ]
    },
    {
      "cell_type": "code",
      "source": [
        "plot_proportion_hands(hit_df['Max Hand'].value_counts(), max_hands_df, \"Hit action proportion\")"
      ],
      "metadata": {
        "colab": {
          "base_uri": "https://localhost:8080/",
          "height": 475
        },
        "id": "Deouio0fuha4",
        "outputId": "7ff246e8-38ef-4b1c-ff3a-b4d47a91864b"
      },
      "execution_count": 179,
      "outputs": [
        {
          "output_type": "display_data",
          "data": {
            "text/plain": [
              "<Figure size 640x480 with 1 Axes>"
            ],
            "image/png": "[encoded data removed]"
          },
          "metadata": {}
        }
      ]
    },
    {
      "cell_type": "markdown",
      "source": [
        "### Stand"
      ],
      "metadata": {
        "id": "dnYC5dA2gk40"
      }
    },
    {
      "cell_type": "code",
      "source": [
        "stand_df = raw_df[raw_df['Action'] == \"STAND\"]"
      ],
      "metadata": {
        "id": "GauvUClIgjZa"
      },
      "execution_count": 180,
      "outputs": []
    },
    {
      "cell_type": "code",
      "source": [
        "plot_rolling_rewards(stand_df, 5000, \"Average profit of stand action (when not bust)\")"
      ],
      "metadata": {
        "colab": {
          "base_uri": "https://localhost:8080/",
          "height": 472
        },
        "id": "doL4hXO7grTs",
        "outputId": "3bea43ed-f8af-492a-ee2a-aebfb7cfff59"
      },
      "execution_count": 181,
      "outputs": [
        {
          "output_type": "display_data",
          "data": {
            "text/plain": [
              "<Figure size 640x480 with 1 Axes>"
            ],
            "image/png": "[encoded data removed]"
          },
          "metadata": {}
        }
      ]
    },
    {
      "cell_type": "code",
      "source": [
        "stand_df[\"Episode Net Reward\"].mean()"
      ],
      "metadata": {
        "colab": {
          "base_uri": "https://localhost:8080/"
        },
        "id": "ufFlCfCLEmUT",
        "outputId": "6f5f5e67-631d-4c7f-d278-34f23c29dc6c"
      },
      "execution_count": 182,
      "outputs": [
        {
          "output_type": "execute_result",
          "data": {
            "text/plain": [
              "0.2908286817697397"
            ]
          },
          "metadata": {},
          "execution_count": 182
        }
      ]
    },
    {
      "cell_type": "code",
      "source": [
        "stand_df['Dealer'].mean()"
      ],
      "metadata": {
        "colab": {
          "base_uri": "https://localhost:8080/"
        },
        "id": "4gcrO-u_gwOc",
        "outputId": "23e8cd4b-bca6-4c1e-d02f-eb28fe42e495"
      },
      "execution_count": 183,
      "outputs": [
        {
          "output_type": "execute_result",
          "data": {
            "text/plain": [
              "6.233977918182398"
            ]
          },
          "metadata": {},
          "execution_count": 183
        }
      ]
    },
    {
      "cell_type": "code",
      "source": [
        "stand_df['Hand'].mean()"
      ],
      "metadata": {
        "colab": {
          "base_uri": "https://localhost:8080/"
        },
        "id": "QpP3L2BcjFyP",
        "outputId": "6b949425-17ca-4b89-8282-decceb7ea16d"
      },
      "execution_count": 184,
      "outputs": [
        {
          "output_type": "execute_result",
          "data": {
            "text/plain": [
              "17.297290190822643"
            ]
          },
          "metadata": {},
          "execution_count": 184
        }
      ]
    },
    {
      "cell_type": "code",
      "source": [
        "stand_df['Max Hand'].mean()"
      ],
      "metadata": {
        "colab": {
          "base_uri": "https://localhost:8080/"
        },
        "id": "fCBmvIFDmZyj",
        "outputId": "cfba77e1-aacd-4c99-ce1f-cc3aaa26ecdf"
      },
      "execution_count": 185,
      "outputs": [
        {
          "output_type": "execute_result",
          "data": {
            "text/plain": [
              "18.487640564171294"
            ]
          },
          "metadata": {},
          "execution_count": 185
        }
      ]
    },
    {
      "cell_type": "code",
      "source": [
        "plot_proportion_hands(stand_df['Max Hand'].value_counts(), max_hands_df, \"Stand action proportion\")"
      ],
      "metadata": {
        "colab": {
          "base_uri": "https://localhost:8080/",
          "height": 475
        },
        "id": "fSNIk9Q_usul",
        "outputId": "f18fb0fc-523d-42c7-f8a6-488730e54d60"
      },
      "execution_count": 186,
      "outputs": [
        {
          "output_type": "display_data",
          "data": {
            "text/plain": [
              "<Figure size 640x480 with 1 Axes>"
            ],
            "image/png": "[encoded data removed]"
          },
          "metadata": {}
        }
      ]
    },
    {
      "cell_type": "markdown",
      "source": [
        "### Double Down"
      ],
      "metadata": {
        "id": "Sq6kzCb7mhDL"
      }
    },
    {
      "cell_type": "code",
      "source": [
        "double_df = raw_df[raw_df['Action'] == \"DOUBLE_DOWN\"]"
      ],
      "metadata": {
        "id": "PO6FiR-amgbl"
      },
      "execution_count": 187,
      "outputs": []
    },
    {
      "cell_type": "code",
      "source": [
        "double_df.shape"
      ],
      "metadata": {
        "colab": {
          "base_uri": "https://localhost:8080/"
        },
        "id": "TTJ4OPowmpwP",
        "outputId": "8fb819a8-f53d-4305-a9ab-962265b8e415"
      },
      "execution_count": 188,
      "outputs": [
        {
          "output_type": "execute_result",
          "data": {
            "text/plain": [
              "(573, 14)"
            ]
          },
          "metadata": {},
          "execution_count": 188
        }
      ]
    },
    {
      "cell_type": "code",
      "source": [
        "plot_rolling_rewards(double_df, 1, \"Double Down Average Reward\")"
      ],
      "metadata": {
        "colab": {
          "base_uri": "https://localhost:8080/",
          "height": 472
        },
        "id": "Bg9R0mM8mqxL",
        "outputId": "de122d77-c5f3-4d56-d616-370ffd6c6829"
      },
      "execution_count": 189,
      "outputs": [
        {
          "output_type": "display_data",
          "data": {
            "text/plain": [
              "<Figure size 640x480 with 1 Axes>"
            ],
            "image/png": "[encoded data removed]"
          },
          "metadata": {}
        }
      ]
    },
    {
      "cell_type": "code",
      "source": [
        "double_df['Episode Net Reward'].mean()"
      ],
      "metadata": {
        "colab": {
          "base_uri": "https://localhost:8080/"
        },
        "id": "BxG4TVn9m8fR",
        "outputId": "51a646e2-d9a3-4b1f-9f18-038417b49ce8"
      },
      "execution_count": 190,
      "outputs": [
        {
          "output_type": "execute_result",
          "data": {
            "text/plain": [
              "0.4696969696969697"
            ]
          },
          "metadata": {},
          "execution_count": 190
        }
      ]
    },
    {
      "cell_type": "code",
      "source": [
        "double_df['Hand'].mean()"
      ],
      "metadata": {
        "colab": {
          "base_uri": "https://localhost:8080/"
        },
        "id": "dRz74ThMoE9c",
        "outputId": "b060f929-15d6-40c2-9b9b-49ede4b878cb"
      },
      "execution_count": 191,
      "outputs": [
        {
          "output_type": "execute_result",
          "data": {
            "text/plain": [
              "10.280977312390926"
            ]
          },
          "metadata": {},
          "execution_count": 191
        }
      ]
    },
    {
      "cell_type": "code",
      "source": [
        "double_df['Hand'].value_counts()"
      ],
      "metadata": {
        "colab": {
          "base_uri": "https://localhost:8080/"
        },
        "id": "8S-lbHbtra5u",
        "outputId": "88e28271-c20f-4f91-babb-d9eb84a4caa7"
      },
      "execution_count": 192,
      "outputs": [
        {
          "output_type": "execute_result",
          "data": {
            "text/plain": [
              "11    278\n",
              "10    178\n",
              "9     117\n",
              "Name: Hand, dtype: int64"
            ]
          },
          "metadata": {},
          "execution_count": 192
        }
      ]
    },
    {
      "cell_type": "code",
      "source": [
        "plot_proportion_hands(double_df['Hand'].value_counts(), hands_df, \"Proportion of hands doubled down\")"
      ],
      "metadata": {
        "colab": {
          "base_uri": "https://localhost:8080/",
          "height": 475
        },
        "id": "Osj1GJPRu3eb",
        "outputId": "279f2622-09ec-4310-b862-ab5d94a23c0b"
      },
      "execution_count": 193,
      "outputs": [
        {
          "output_type": "display_data",
          "data": {
            "text/plain": [
              "<Figure size 640x480 with 1 Axes>"
            ],
            "image/png": "[encoded data removed]"
          },
          "metadata": {}
        }
      ]
    },
    {
      "cell_type": "code",
      "source": [
        "double_df['Max Hand'].mean()"
      ],
      "metadata": {
        "colab": {
          "base_uri": "https://localhost:8080/"
        },
        "id": "gkbfBhR2qYr9",
        "outputId": "a3e37041-0d5f-4094-e7d6-cda27a94f362"
      },
      "execution_count": 194,
      "outputs": [
        {
          "output_type": "execute_result",
          "data": {
            "text/plain": [
              "11.328097731239092"
            ]
          },
          "metadata": {},
          "execution_count": 194
        }
      ]
    },
    {
      "cell_type": "code",
      "source": [
        "double_df['Dealer'].mean()"
      ],
      "metadata": {
        "colab": {
          "base_uri": "https://localhost:8080/"
        },
        "id": "62jd-BN0oKWa",
        "outputId": "7643bc96-d47d-4346-f337-1e3d1e129801"
      },
      "execution_count": 195,
      "outputs": [
        {
          "output_type": "execute_result",
          "data": {
            "text/plain": [
              "4.821989528795812"
            ]
          },
          "metadata": {},
          "execution_count": 195
        }
      ]
    },
    {
      "cell_type": "markdown",
      "source": [
        "### Split"
      ],
      "metadata": {
        "id": "c5pLdjzhqi0e"
      }
    },
    {
      "cell_type": "code",
      "source": [
        "split_df = raw_df[raw_df['Action'] == \"SPLIT\"]"
      ],
      "metadata": {
        "id": "-MmIVabEqWdx"
      },
      "execution_count": 196,
      "outputs": []
    },
    {
      "cell_type": "code",
      "source": [
        "split_df.shape"
      ],
      "metadata": {
        "colab": {
          "base_uri": "https://localhost:8080/"
        },
        "id": "SrWK1unXqm8F",
        "outputId": "d6a7e3e1-b89f-4153-ceda-bab02f32ce80"
      },
      "execution_count": 197,
      "outputs": [
        {
          "output_type": "execute_result",
          "data": {
            "text/plain": [
              "(14555, 14)"
            ]
          },
          "metadata": {},
          "execution_count": 197
        }
      ]
    },
    {
      "cell_type": "code",
      "source": [
        "split_df['Hand'].mean()"
      ],
      "metadata": {
        "colab": {
          "base_uri": "https://localhost:8080/"
        },
        "id": "6gHwjTELqwie",
        "outputId": "f7f94ec5-4e6b-4e3b-893d-858e38b6192b"
      },
      "execution_count": 198,
      "outputs": [
        {
          "output_type": "execute_result",
          "data": {
            "text/plain": [
              "10.863071109584336"
            ]
          },
          "metadata": {},
          "execution_count": 198
        }
      ]
    },
    {
      "cell_type": "code",
      "source": [
        "split_df['Hand'].value_counts().plot(kind='bar')"
      ],
      "metadata": {
        "colab": {
          "base_uri": "https://localhost:8080/",
          "height": 451
        },
        "id": "pQ9lK-_UrDQg",
        "outputId": "2518217e-3c11-4614-e30c-f9114748f0a4"
      },
      "execution_count": 199,
      "outputs": [
        {
          "output_type": "execute_result",
          "data": {
            "text/plain": [
              "<Axes: >"
            ]
          },
          "metadata": {},
          "execution_count": 199
        },
        {
          "output_type": "display_data",
          "data": {
            "text/plain": [
              "<Figure size 640x480 with 1 Axes>"
            ],
            "image/png": "[encoded data removed]"
          },
          "metadata": {}
        }
      ]
    },
    {
      "cell_type": "code",
      "source": [
        "plot_proportion_hands(split_df['Hand'].value_counts(), hands_df, \"Proportion hands split\")"
      ],
      "metadata": {
        "colab": {
          "base_uri": "https://localhost:8080/",
          "height": 475
        },
        "id": "ckDyhwb5vDSv",
        "outputId": "f84ef3e0-f259-48da-f21c-e1d369f03de9"
      },
      "execution_count": 200,
      "outputs": [
        {
          "output_type": "display_data",
          "data": {
            "text/plain": [
              "<Figure size 640x480 with 1 Axes>"
            ],
            "image/png": "[encoded data removed]"
          },
          "metadata": {}
        }
      ]
    },
    {
      "cell_type": "markdown",
      "source": [
        "### Insurance"
      ],
      "metadata": {
        "id": "so5ePmrusTeg"
      }
    },
    {
      "cell_type": "code",
      "source": [
        "insurance_df = raw_df[(raw_df['Action'] == \"INSURANCE_HALF\") | (raw_df['Action'] == \"INSURANCE_FULL\")]"
      ],
      "metadata": {
        "id": "cllSt5mnrNdi"
      },
      "execution_count": 201,
      "outputs": []
    },
    {
      "cell_type": "code",
      "source": [
        "insurance_df['Dealer'].count() / raw_df[raw_df['Dealer'] == 1].shape[0]"
      ],
      "metadata": {
        "colab": {
          "base_uri": "https://localhost:8080/"
        },
        "id": "C7kW5SeJsj4G",
        "outputId": "5c058665-f8d3-44a8-ef57-2dc18d1edb80"
      },
      "execution_count": 202,
      "outputs": [
        {
          "output_type": "execute_result",
          "data": {
            "text/plain": [
              "0.36025435658463184"
            ]
          },
          "metadata": {},
          "execution_count": 202
        }
      ]
    },
    {
      "cell_type": "code",
      "source": [
        "insurance_df['Max Hand'].mean()"
      ],
      "metadata": {
        "colab": {
          "base_uri": "https://localhost:8080/"
        },
        "id": "FdkTgm3gs7A4",
        "outputId": "d773701f-11cf-4b26-915f-c4c674aebdca"
      },
      "execution_count": 203,
      "outputs": [
        {
          "output_type": "execute_result",
          "data": {
            "text/plain": [
              "14.548426215371348"
            ]
          },
          "metadata": {},
          "execution_count": 203
        }
      ]
    },
    {
      "cell_type": "code",
      "source": [
        "plot_proportion_hands(insurance_df['Max Hand'].value_counts(), raw_df[raw_df['Dealer'] == 1]['Max Hand'].value_counts(), \"Proportion of Hands where insurance used (Dealer has Ace)\")"
      ],
      "metadata": {
        "colab": {
          "base_uri": "https://localhost:8080/",
          "height": 475
        },
        "id": "_dwzPjEctXeA",
        "outputId": "aaf105c4-df55-48ee-d38f-37a0ec1a73a0"
      },
      "execution_count": 204,
      "outputs": [
        {
          "output_type": "display_data",
          "data": {
            "text/plain": [
              "<Figure size 640x480 with 1 Axes>"
            ],
            "image/png": "[encoded data removed]"
          },
          "metadata": {}
        }
      ]
    },
    {
      "cell_type": "markdown",
      "source": [
        "## By hand value"
      ],
      "metadata": {
        "id": "8VYrTzz4xspz"
      }
    },
    {
      "cell_type": "markdown",
      "source": [
        "### Hand of 10"
      ],
      "metadata": {
        "id": "4DvznfHPG2pt"
      }
    },
    {
      "cell_type": "code",
      "source": [
        "hand_10_df = raw_df[raw_df[\"Max Hand\"] == 10].tail(10000)"
      ],
      "metadata": {
        "id": "bIB1DB26xukH"
      },
      "execution_count": 205,
      "outputs": []
    },
    {
      "cell_type": "code",
      "source": [
        "hand_10_df['Action'].value_counts().plot(kind='bar')"
      ],
      "metadata": {
        "colab": {
          "base_uri": "https://localhost:8080/",
          "height": 556
        },
        "id": "O55GT2fvxzZd",
        "outputId": "a32e2e9c-94bf-4a48-c647-cefa7fe69b80"
      },
      "execution_count": 206,
      "outputs": [
        {
          "output_type": "execute_result",
          "data": {
            "text/plain": [
              "<Axes: >"
            ]
          },
          "metadata": {},
          "execution_count": 206
        },
        {
          "output_type": "display_data",
          "data": {
            "text/plain": [
              "<Figure size 640x480 with 1 Axes>"
            ],
            "image/png": "[encoded data removed]"
          },
          "metadata": {}
        }
      ]
    },
    {
      "cell_type": "code",
      "source": [
        "hand_10_df[hand_10_df['Action'] == \"STAND\"]\n",
        "# Seems to be standing on 10 when it has a lot of hands (split twice or more)"
      ],
      "metadata": {
        "colab": {
          "base_uri": "https://localhost:8080/",
          "height": 297
        },
        "id": "m5bgvXl5G99x",
        "outputId": "e39ab9a7-9a5c-4487-e4a0-96c771c9b87b"
      },
      "execution_count": 207,
      "outputs": [
        {
          "output_type": "execute_result",
          "data": {
            "text/plain": [
              "            Episode  Dealer  Current Hand  Num Hands  Hand  Has Ace  \\\n",
              "585697  12099829680       5             0          3    10        0   \n",
              "634527  12099857111       6             1          2    10        0   \n",
              "698368  12099893212      10             0          2    10        0   \n",
              "718924  12099904831       9             1          3    10        0   \n",
              "734266  12099913438       2             1          3    10        0   \n",
              "738290  12099915689       6             1          3    10        0   \n",
              "769663  12099933350       5             0          3    10        0   \n",
              "811779  12099956984       1             1          3    10        0   \n",
              "\n",
              "        Can Split  Has Hit  Bet Size  Insurance Action  Reward  \\\n",
              "585697          0        0         1       0.00  STAND     0.0   \n",
              "634527          0        0         1       0.00  STAND     3.0   \n",
              "698368          0        1         1       0.00  STAND     0.0   \n",
              "718924          0        1         1       0.00  STAND     0.0   \n",
              "734266          1        1         1       0.00  STAND     0.0   \n",
              "738290          0        0         1       0.00  STAND     0.0   \n",
              "769663          0        0         1       0.00  STAND     0.0   \n",
              "811779          0        0         1       0.25  STAND     0.0   \n",
              "\n",
              "        Episode Net Reward  Max Hand  \n",
              "585697                 NaN        10  \n",
              "634527                 3.0        10  \n",
              "698368                 NaN        10  \n",
              "718924                 NaN        10  \n",
              "734266                 NaN        10  \n",
              "738290                 NaN        10  \n",
              "769663                 NaN        10  \n",
              "811779                 NaN        10  "
            ],
            "text/html": [
              "\n",
              "  <div id=\"df-18d571eb-ffef-414b-8228-c21a8dfca1b2\" class=\"colab-df-container\">\n",
              "    <div>\n",
              "<style scoped>\n",
              "    .dataframe tbody tr th:only-of-type {\n",
              "        vertical-align: middle;\n",
              "    }\n",
              "\n",
              "    .dataframe tbody tr th {\n",
              "        vertical-align: top;\n",
              "    }\n",
              "\n",
              "    .dataframe thead th {\n",
              "        text-align: right;\n",
              "    }\n",
              "</style>\n",
              "<table border=\"1\" class=\"dataframe\">\n",
              "  <thead>\n",
              "    <tr style=\"text-align: right;\">\n",
              "      <th></th>\n",
              "      <th>Episode</th>\n",
              "      <th>Dealer</th>\n",
              "      <th>Current Hand</th>\n",
              "      <th>Num Hands</th>\n",
              "      <th>Hand</th>\n",
              "      <th>Has Ace</th>\n",
              "      <th>Can Split</th>\n",
              "      <th>Has Hit</th>\n",
              "      <th>Bet Size</th>\n",
              "      <th>Insurance</th>\n",
              "      <th>Action</th>\n",
              "      <th>Reward</th>\n",
              "      <th>Episode Net Reward</th>\n",
              "      <th>Max Hand</th>\n",
              "    </tr>\n",
              "  </thead>\n",
              "  <tbody>\n",
              "    <tr>\n",
              "      <th>585697</th>\n",
              "      <td>12099829680</td>\n",
              "      <td>5</td>\n",
              "      <td>0</td>\n",
              "      <td>3</td>\n",
              "      <td>10</td>\n",
              "      <td>0</td>\n",
              "      <td>0</td>\n",
              "      <td>0</td>\n",
              "      <td>1</td>\n",
              "      <td>0.00</td>\n",
              "      <td>STAND</td>\n",
              "      <td>0.0</td>\n",
              "      <td>NaN</td>\n",
              "      <td>10</td>\n",
              "    </tr>\n",
              "    <tr>\n",
              "      <th>634527</th>\n",
              "      <td>12099857111</td>\n",
              "      <td>6</td>\n",
              "      <td>1</td>\n",
              "      <td>2</td>\n",
              "      <td>10</td>\n",
              "      <td>0</td>\n",
              "      <td>0</td>\n",
              "      <td>0</td>\n",
              "      <td>1</td>\n",
              "      <td>0.00</td>\n",
              "      <td>STAND</td>\n",
              "      <td>3.0</td>\n",
              "      <td>3.0</td>\n",
              "      <td>10</td>\n",
              "    </tr>\n",
              "    <tr>\n",
              "      <th>698368</th>\n",
              "      <td>12099893212</td>\n",
              "      <td>10</td>\n",
              "      <td>0</td>\n",
              "      <td>2</td>\n",
              "      <td>10</td>\n",
              "      <td>0</td>\n",
              "      <td>0</td>\n",
              "      <td>1</td>\n",
              "      <td>1</td>\n",
              "      <td>0.00</td>\n",
              "      <td>STAND</td>\n",
              "      <td>0.0</td>\n",
              "      <td>NaN</td>\n",
              "      <td>10</td>\n",
              "    </tr>\n",
              "    <tr>\n",
              "      <th>718924</th>\n",
              "      <td>12099904831</td>\n",
              "      <td>9</td>\n",
              "      <td>1</td>\n",
              "      <td>3</td>\n",
              "      <td>10</td>\n",
              "      <td>0</td>\n",
              "      <td>0</td>\n",
              "      <td>1</td>\n",
              "      <td>1</td>\n",
              "      <td>0.00</td>\n",
              "      <td>STAND</td>\n",
              "      <td>0.0</td>\n",
              "      <td>NaN</td>\n",
              "      <td>10</td>\n",
              "    </tr>\n",
              "    <tr>\n",
              "      <th>734266</th>\n",
              "      <td>12099913438</td>\n",
              "      <td>2</td>\n",
              "      <td>1</td>\n",
              "      <td>3</td>\n",
              "      <td>10</td>\n",
              "      <td>0</td>\n",
              "      <td>1</td>\n",
              "      <td>1</td>\n",
              "      <td>1</td>\n",
              "      <td>0.00</td>\n",
              "      <td>STAND</td>\n",
              "      <td>0.0</td>\n",
              "      <td>NaN</td>\n",
              "      <td>10</td>\n",
              "    </tr>\n",
              "    <tr>\n",
              "      <th>738290</th>\n",
              "      <td>12099915689</td>\n",
              "      <td>6</td>\n",
              "      <td>1</td>\n",
              "      <td>3</td>\n",
              "      <td>10</td>\n",
              "      <td>0</td>\n",
              "      <td>0</td>\n",
              "      <td>0</td>\n",
              "      <td>1</td>\n",
              "      <td>0.00</td>\n",
              "      <td>STAND</td>\n",
              "      <td>0.0</td>\n",
              "      <td>NaN</td>\n",
              "      <td>10</td>\n",
              "    </tr>\n",
              "    <tr>\n",
              "      <th>769663</th>\n",
              "      <td>12099933350</td>\n",
              "      <td>5</td>\n",
              "      <td>0</td>\n",
              "      <td>3</td>\n",
              "      <td>10</td>\n",
              "      <td>0</td>\n",
              "      <td>0</td>\n",
              "      <td>0</td>\n",
              "      <td>1</td>\n",
              "      <td>0.00</td>\n",
              "      <td>STAND</td>\n",
              "      <td>0.0</td>\n",
              "      <td>NaN</td>\n",
              "      <td>10</td>\n",
              "    </tr>\n",
              "    <tr>\n",
              "      <th>811779</th>\n",
              "      <td>12099956984</td>\n",
              "      <td>1</td>\n",
              "      <td>1</td>\n",
              "      <td>3</td>\n",
              "      <td>10</td>\n",
              "      <td>0</td>\n",
              "      <td>0</td>\n",
              "      <td>0</td>\n",
              "      <td>1</td>\n",
              "      <td>0.25</td>\n",
              "      <td>STAND</td>\n",
              "      <td>0.0</td>\n",
              "      <td>NaN</td>\n",
              "      <td>10</td>\n",
              "    </tr>\n",
              "  </tbody>\n",
              "</table>\n",
              "</div>\n",
              "    <div class=\"colab-df-buttons\">\n",
              "\n",
              "  <div class=\"colab-df-container\">\n",
              "    <button class=\"colab-df-convert\" onclick=\"convertToInteractive('df-18d571eb-ffef-414b-8228-c21a8dfca1b2')\"\n",
              "            title=\"Convert this dataframe to an interactive table.\"\n",
              "            style=\"display:none;\">\n",
              "\n",
              "  <svg xmlns=\"http://www.w3.org/2000/svg\" height=\"24px\" viewBox=\"0 -960 960 960\">\n",
              "    <path d=\"M120-120v-720h720v720H120Zm60-500h600v-160H180v160Zm220 220h160v-160H400v160Zm0 220h160v-160H400v160ZM180-400h160v-160H180v160Zm440 0h160v-160H620v160ZM180-180h160v-160H180v160Zm440 0h160v-160H620v160Z\"/>\n",
              "  </svg>\n",
              "    </button>\n",
              "\n",
              "  <style>\n",
              "    .colab-df-container {\n",
              "      display:flex;\n",
              "      gap: 12px;\n",
              "    }\n",
              "\n",
              "    .colab-df-convert {\n",
              "      background-color: #E8F0FE;\n",
              "      border: none;\n",
              "      border-radius: 50%;\n",
              "      cursor: pointer;\n",
              "      display: none;\n",
              "      fill: #1967D2;\n",
              "      height: 32px;\n",
              "      padding: 0 0 0 0;\n",
              "      width: 32px;\n",
              "    }\n",
              "\n",
              "    .colab-df-convert:hover {\n",
              "      background-color: #E2EBFA;\n",
              "      box-shadow: 0px 1px 2px rgba(60, 64, 67, 0.3), 0px 1px 3px 1px rgba(60, 64, 67, 0.15);\n",
              "      fill: #174EA6;\n",
              "    }\n",
              "\n",
              "    .colab-df-buttons div {\n",
              "      margin-bottom: 4px;\n",
              "    }\n",
              "\n",
              "    [theme=dark] .colab-df-convert {\n",
              "      background-color: #3B4455;\n",
              "      fill: #D2E3FC;\n",
              "    }\n",
              "\n",
              "    [theme=dark] .colab-df-convert:hover {\n",
              "      background-color: #434B5C;\n",
              "      box-shadow: 0px 1px 3px 1px rgba(0, 0, 0, 0.15);\n",
              "      filter: drop-shadow(0px 1px 2px rgba(0, 0, 0, 0.3));\n",
              "      fill: #FFFFFF;\n",
              "    }\n",
              "  </style>\n",
              "\n",
              "    <script>\n",
              "      const buttonEl =\n",
              "        document.querySelector('#df-18d571eb-ffef-414b-8228-c21a8dfca1b2 button.colab-df-convert');\n",
              "      buttonEl.style.display =\n",
              "        google.colab.kernel.accessAllowed ? 'block' : 'none';\n",
              "\n",
              "      async function convertToInteractive(key) {\n",
              "        const element = document.querySelector('#df-18d571eb-ffef-414b-8228-c21a8dfca1b2');\n",
              "        const dataTable =\n",
              "          await google.colab.kernel.invokeFunction('convertToInteractive',\n",
              "                                                    [key], {});\n",
              "        if (!dataTable) return;\n",
              "\n",
              "        const docLinkHtml = 'Like what you see? Visit the ' +\n",
              "          '<a target=\"_blank\" href=https://colab.research.google.com/notebooks/data_table.ipynb>data table notebook</a>'\n",
              "          + ' to learn more about interactive tables.';\n",
              "        element.innerHTML = '';\n",
              "        dataTable['output_type'] = 'display_data';\n",
              "        await google.colab.output.renderOutput(dataTable, element);\n",
              "        const docLink = document.createElement('div');\n",
              "        docLink.innerHTML = docLinkHtml;\n",
              "        element.appendChild(docLink);\n",
              "      }\n",
              "    </script>\n",
              "  </div>\n",
              "\n",
              "\n",
              "<div id=\"df-5892663a-27e9-4871-b4e9-60f6b1ee823b\">\n",
              "  <button class=\"colab-df-quickchart\" onclick=\"quickchart('df-5892663a-27e9-4871-b4e9-60f6b1ee823b')\"\n",
              "            title=\"Suggest charts\"\n",
              "            style=\"display:none;\">\n",
              "\n",
              "<svg xmlns=\"http://www.w3.org/2000/svg\" height=\"24px\"viewBox=\"0 0 24 24\"\n",
              "     width=\"24px\">\n",
              "    <g>\n",
              "        <path d=\"M19 3H5c-1.1 0-2 .9-2 2v14c0 1.1.9 2 2 2h14c1.1 0 2-.9 2-2V5c0-1.1-.9-2-2-2zM9 17H7v-7h2v7zm4 0h-2V7h2v10zm4 0h-2v-4h2v4z\"/>\n",
              "    </g>\n",
              "</svg>\n",
              "  </button>\n",
              "\n",
              "<style>\n",
              "  .colab-df-quickchart {\n",
              "      --bg-color: #E8F0FE;\n",
              "      --fill-color: #1967D2;\n",
              "      --hover-bg-color: #E2EBFA;\n",
              "      --hover-fill-color: #174EA6;\n",
              "      --disabled-fill-color: #AAA;\n",
              "      --disabled-bg-color: #DDD;\n",
              "  }\n",
              "\n",
              "  [theme=dark] .colab-df-quickchart {\n",
              "      --bg-color: #3B4455;\n",
              "      --fill-color: #D2E3FC;\n",
              "      --hover-bg-color: #434B5C;\n",
              "      --hover-fill-color: #FFFFFF;\n",
              "      --disabled-bg-color: #3B4455;\n",
              "      --disabled-fill-color: #666;\n",
              "  }\n",
              "\n",
              "  .colab-df-quickchart {\n",
              "    background-color: var(--bg-color);\n",
              "    border: none;\n",
              "    border-radius: 50%;\n",
              "    cursor: pointer;\n",
              "    display: none;\n",
              "    fill: var(--fill-color);\n",
              "    height: 32px;\n",
              "    padding: 0;\n",
              "    width: 32px;\n",
              "  }\n",
              "\n",
              "  .colab-df-quickchart:hover {\n",
              "    background-color: var(--hover-bg-color);\n",
              "    box-shadow: 0 1px 2px rgba(60, 64, 67, 0.3), 0 1px 3px 1px rgba(60, 64, 67, 0.15);\n",
              "    fill: var(--button-hover-fill-color);\n",
              "  }\n",
              "\n",
              "  .colab-df-quickchart-complete:disabled,\n",
              "  .colab-df-quickchart-complete:disabled:hover {\n",
              "    background-color: var(--disabled-bg-color);\n",
              "    fill: var(--disabled-fill-color);\n",
              "    box-shadow: none;\n",
              "  }\n",
              "\n",
              "  .colab-df-spinner {\n",
              "    border: 2px solid var(--fill-color);\n",
              "    border-color: transparent;\n",
              "    border-bottom-color: var(--fill-color);\n",
              "    animation:\n",
              "      spin 1s steps(1) infinite;\n",
              "  }\n",
              "\n",
              "  @keyframes spin {\n",
              "    0% {\n",
              "      border-color: transparent;\n",
              "      border-bottom-color: var(--fill-color);\n",
              "      border-left-color: var(--fill-color);\n",
              "    }\n",
              "    20% {\n",
              "      border-color: transparent;\n",
              "      border-left-color: var(--fill-color);\n",
              "      border-top-color: var(--fill-color);\n",
              "    }\n",
              "    30% {\n",
              "      border-color: transparent;\n",
              "      border-left-color: var(--fill-color);\n",
              "      border-top-color: var(--fill-color);\n",
              "      border-right-color: var(--fill-color);\n",
              "    }\n",
              "    40% {\n",
              "      border-color: transparent;\n",
              "      border-right-color: var(--fill-color);\n",
              "      border-top-color: var(--fill-color);\n",
              "    }\n",
              "    60% {\n",
              "      border-color: transparent;\n",
              "      border-right-color: var(--fill-color);\n",
              "    }\n",
              "    80% {\n",
              "      border-color: transparent;\n",
              "      border-right-color: var(--fill-color);\n",
              "      border-bottom-color: var(--fill-color);\n",
              "    }\n",
              "    90% {\n",
              "      border-color: transparent;\n",
              "      border-bottom-color: var(--fill-color);\n",
              "    }\n",
              "  }\n",
              "</style>\n",
              "\n",
              "  <script>\n",
              "    async function quickchart(key) {\n",
              "      const quickchartButtonEl =\n",
              "        document.querySelector('#' + key + ' button');\n",
              "      quickchartButtonEl.disabled = true;  // To prevent multiple clicks.\n",
              "      quickchartButtonEl.classList.add('colab-df-spinner');\n",
              "      try {\n",
              "        const charts = await google.colab.kernel.invokeFunction(\n",
              "            'suggestCharts', [key], {});\n",
              "      } catch (error) {\n",
              "        console.error('Error during call to suggestCharts:', error);\n",
              "      }\n",
              "      quickchartButtonEl.classList.remove('colab-df-spinner');\n",
              "      quickchartButtonEl.classList.add('colab-df-quickchart-complete');\n",
              "    }\n",
              "    (() => {\n",
              "      let quickchartButtonEl =\n",
              "        document.querySelector('#df-5892663a-27e9-4871-b4e9-60f6b1ee823b button');\n",
              "      quickchartButtonEl.style.display =\n",
              "        google.colab.kernel.accessAllowed ? 'block' : 'none';\n",
              "    })();\n",
              "  </script>\n",
              "</div>\n",
              "    </div>\n",
              "  </div>\n"
            ]
          },
          "metadata": {},
          "execution_count": 207
        }
      ]
    },
    {
      "cell_type": "markdown",
      "source": [
        "### Hand of 20"
      ],
      "metadata": {
        "id": "IoPTDWG1G_Fk"
      }
    },
    {
      "cell_type": "code",
      "source": [
        "hand_20_df = raw_df[raw_df[\"Max Hand\"] == 20].tail(5000)"
      ],
      "metadata": {
        "id": "bfdG1N-mx1x5"
      },
      "execution_count": 208,
      "outputs": []
    },
    {
      "cell_type": "code",
      "source": [
        "hand_20_df['Action'].value_counts().plot(kind='bar')"
      ],
      "metadata": {
        "colab": {
          "base_uri": "https://localhost:8080/",
          "height": 556
        },
        "id": "rMM0vHrfzpgq",
        "outputId": "173e3d4b-ff93-4bcb-bf0e-01ed8134f19c"
      },
      "execution_count": 209,
      "outputs": [
        {
          "output_type": "execute_result",
          "data": {
            "text/plain": [
              "<Axes: >"
            ]
          },
          "metadata": {},
          "execution_count": 209
        },
        {
          "output_type": "display_data",
          "data": {
            "text/plain": [
              "<Figure size 640x480 with 1 Axes>"
            ],
            "image/png": "[encoded data removed]"
          },
          "metadata": {}
        }
      ]
    },
    {
      "cell_type": "code",
      "source": [
        "hand_20_df[hand_20_df['Action'] == \"STAND\"]['Episode Net Reward'].mean()"
      ],
      "metadata": {
        "colab": {
          "base_uri": "https://localhost:8080/"
        },
        "id": "Sv6XzJYDztPO",
        "outputId": "1140280b-6338-4eaf-f48e-9f7f7b24d612"
      },
      "execution_count": 210,
      "outputs": [
        {
          "output_type": "execute_result",
          "data": {
            "text/plain": [
              "0.581175836030205"
            ]
          },
          "metadata": {},
          "execution_count": 210
        }
      ]
    },
    {
      "cell_type": "code",
      "source": [
        "hand_20_df[hand_20_df['Action'] == \"HIT\"]"
      ],
      "metadata": {
        "colab": {
          "base_uri": "https://localhost:8080/",
          "height": 419
        },
        "id": "Sad5LJjh2dnd",
        "outputId": "38012c27-97ae-466a-c0a4-4f92a617ce23"
      },
      "execution_count": 211,
      "outputs": [
        {
          "output_type": "execute_result",
          "data": {
            "text/plain": [
              "            Episode  Dealer  Current Hand  Num Hands  Hand  Has Ace  \\\n",
              "840865  12099973405       4             0          1    10        1   \n",
              "843330  12099974790       4             0          1    10        1   \n",
              "843372  12099974816       4             0          1    10        1   \n",
              "844479  12099975432       1             0          1    10        1   \n",
              "846443  12099976556       4             0          1    10        1   \n",
              "...             ...     ...           ...        ...   ...      ...   \n",
              "886331  12099998936       4             0          1    10        1   \n",
              "886501  12099999030       1             0          1    10        1   \n",
              "886761  12099999178       1             0          2    10        1   \n",
              "887601  12099999640       1             0          1    10        1   \n",
              "887740  12099999722       1             0          1    10        1   \n",
              "\n",
              "        Can Split  Has Hit  Bet Size  Insurance Action  Reward  \\\n",
              "840865          0        0         1       0.00    HIT     0.0   \n",
              "843330          0        0         1       0.00    HIT     0.0   \n",
              "843372          0        0         1       0.00    HIT     0.0   \n",
              "844479          0        0         1       0.25    HIT     0.0   \n",
              "846443          0        0         1       0.00    HIT     0.0   \n",
              "...           ...      ...       ...        ...    ...     ...   \n",
              "886331          0        0         1       0.00    HIT     0.0   \n",
              "886501          0        0         1       0.25    HIT     0.0   \n",
              "886761          0        0         1       0.25    HIT     0.0   \n",
              "887601          0        0         1       0.25    HIT     0.0   \n",
              "887740          0        0         1       0.25    HIT     0.0   \n",
              "\n",
              "        Episode Net Reward  Max Hand  \n",
              "840865                 NaN        20  \n",
              "843330                 NaN        20  \n",
              "843372                 NaN        20  \n",
              "844479                 NaN        20  \n",
              "846443                 NaN        20  \n",
              "...                    ...       ...  \n",
              "886331                 NaN        20  \n",
              "886501                 NaN        20  \n",
              "886761                 NaN        20  \n",
              "887601                 NaN        20  \n",
              "887740                 NaN        20  \n",
              "\n",
              "[67 rows x 14 columns]"
            ],
            "text/html": [
              "\n",
              "  <div id=\"df-0cbbddf3-8de3-44ef-9bb9-f35217616699\" class=\"colab-df-container\">\n",
              "    <div>\n",
              "<style scoped>\n",
              "    .dataframe tbody tr th:only-of-type {\n",
              "        vertical-align: middle;\n",
              "    }\n",
              "\n",
              "    .dataframe tbody tr th {\n",
              "        vertical-align: top;\n",
              "    }\n",
              "\n",
              "    .dataframe thead th {\n",
              "        text-align: right;\n",
              "    }\n",
              "</style>\n",
              "<table border=\"1\" class=\"dataframe\">\n",
              "  <thead>\n",
              "    <tr style=\"text-align: right;\">\n",
              "      <th></th>\n",
              "      <th>Episode</th>\n",
              "      <th>Dealer</th>\n",
              "      <th>Current Hand</th>\n",
              "      <th>Num Hands</th>\n",
              "      <th>Hand</th>\n",
              "      <th>Has Ace</th>\n",
              "      <th>Can Split</th>\n",
              "      <th>Has Hit</th>\n",
              "      <th>Bet Size</th>\n",
              "      <th>Insurance</th>\n",
              "      <th>Action</th>\n",
              "      <th>Reward</th>\n",
              "      <th>Episode Net Reward</th>\n",
              "      <th>Max Hand</th>\n",
              "    </tr>\n",
              "  </thead>\n",
              "  <tbody>\n",
              "    <tr>\n",
              "      <th>840865</th>\n",
              "      <td>12099973405</td>\n",
              "      <td>4</td>\n",
              "      <td>0</td>\n",
              "      <td>1</td>\n",
              "      <td>10</td>\n",
              "      <td>1</td>\n",
              "      <td>0</td>\n",
              "      <td>0</td>\n",
              "      <td>1</td>\n",
              "      <td>0.00</td>\n",
              "      <td>HIT</td>\n",
              "      <td>0.0</td>\n",
              "      <td>NaN</td>\n",
              "      <td>20</td>\n",
              "    </tr>\n",
              "    <tr>\n",
              "      <th>843330</th>\n",
              "      <td>12099974790</td>\n",
              "      <td>4</td>\n",
              "      <td>0</td>\n",
              "      <td>1</td>\n",
              "      <td>10</td>\n",
              "      <td>1</td>\n",
              "      <td>0</td>\n",
              "      <td>0</td>\n",
              "      <td>1</td>\n",
              "      <td>0.00</td>\n",
              "      <td>HIT</td>\n",
              "      <td>0.0</td>\n",
              "      <td>NaN</td>\n",
              "      <td>20</td>\n",
              "    </tr>\n",
              "    <tr>\n",
              "      <th>843372</th>\n",
              "      <td>12099974816</td>\n",
              "      <td>4</td>\n",
              "      <td>0</td>\n",
              "      <td>1</td>\n",
              "      <td>10</td>\n",
              "      <td>1</td>\n",
              "      <td>0</td>\n",
              "      <td>0</td>\n",
              "      <td>1</td>\n",
              "      <td>0.00</td>\n",
              "      <td>HIT</td>\n",
              "      <td>0.0</td>\n",
              "      <td>NaN</td>\n",
              "      <td>20</td>\n",
              "    </tr>\n",
              "    <tr>\n",
              "      <th>844479</th>\n",
              "      <td>12099975432</td>\n",
              "      <td>1</td>\n",
              "      <td>0</td>\n",
              "      <td>1</td>\n",
              "      <td>10</td>\n",
              "      <td>1</td>\n",
              "      <td>0</td>\n",
              "      <td>0</td>\n",
              "      <td>1</td>\n",
              "      <td>0.25</td>\n",
              "      <td>HIT</td>\n",
              "      <td>0.0</td>\n",
              "      <td>NaN</td>\n",
              "      <td>20</td>\n",
              "    </tr>\n",
              "    <tr>\n",
              "      <th>846443</th>\n",
              "      <td>12099976556</td>\n",
              "      <td>4</td>\n",
              "      <td>0</td>\n",
              "      <td>1</td>\n",
              "      <td>10</td>\n",
              "      <td>1</td>\n",
              "      <td>0</td>\n",
              "      <td>0</td>\n",
              "      <td>1</td>\n",
              "      <td>0.00</td>\n",
              "      <td>HIT</td>\n",
              "      <td>0.0</td>\n",
              "      <td>NaN</td>\n",
              "      <td>20</td>\n",
              "    </tr>\n",
              "    <tr>\n",
              "      <th>...</th>\n",
              "      <td>...</td>\n",
              "      <td>...</td>\n",
              "      <td>...</td>\n",
              "      <td>...</td>\n",
              "      <td>...</td>\n",
              "      <td>...</td>\n",
              "      <td>...</td>\n",
              "      <td>...</td>\n",
              "      <td>...</td>\n",
              "      <td>...</td>\n",
              "      <td>...</td>\n",
              "      <td>...</td>\n",
              "      <td>...</td>\n",
              "      <td>...</td>\n",
              "    </tr>\n",
              "    <tr>\n",
              "      <th>886331</th>\n",
              "      <td>12099998936</td>\n",
              "      <td>4</td>\n",
              "      <td>0</td>\n",
              "      <td>1</td>\n",
              "      <td>10</td>\n",
              "      <td>1</td>\n",
              "      <td>0</td>\n",
              "      <td>0</td>\n",
              "      <td>1</td>\n",
              "      <td>0.00</td>\n",
              "      <td>HIT</td>\n",
              "      <td>0.0</td>\n",
              "      <td>NaN</td>\n",
              "      <td>20</td>\n",
              "    </tr>\n",
              "    <tr>\n",
              "      <th>886501</th>\n",
              "      <td>12099999030</td>\n",
              "      <td>1</td>\n",
              "      <td>0</td>\n",
              "      <td>1</td>\n",
              "      <td>10</td>\n",
              "      <td>1</td>\n",
              "      <td>0</td>\n",
              "      <td>0</td>\n",
              "      <td>1</td>\n",
              "      <td>0.25</td>\n",
              "      <td>HIT</td>\n",
              "      <td>0.0</td>\n",
              "      <td>NaN</td>\n",
              "      <td>20</td>\n",
              "    </tr>\n",
              "    <tr>\n",
              "      <th>886761</th>\n",
              "      <td>12099999178</td>\n",
              "      <td>1</td>\n",
              "      <td>0</td>\n",
              "      <td>2</td>\n",
              "      <td>10</td>\n",
              "      <td>1</td>\n",
              "      <td>0</td>\n",
              "      <td>0</td>\n",
              "      <td>1</td>\n",
              "      <td>0.25</td>\n",
              "      <td>HIT</td>\n",
              "      <td>0.0</td>\n",
              "      <td>NaN</td>\n",
              "      <td>20</td>\n",
              "    </tr>\n",
              "    <tr>\n",
              "      <th>887601</th>\n",
              "      <td>12099999640</td>\n",
              "      <td>1</td>\n",
              "      <td>0</td>\n",
              "      <td>1</td>\n",
              "      <td>10</td>\n",
              "      <td>1</td>\n",
              "      <td>0</td>\n",
              "      <td>0</td>\n",
              "      <td>1</td>\n",
              "      <td>0.25</td>\n",
              "      <td>HIT</td>\n",
              "      <td>0.0</td>\n",
              "      <td>NaN</td>\n",
              "      <td>20</td>\n",
              "    </tr>\n",
              "    <tr>\n",
              "      <th>887740</th>\n",
              "      <td>12099999722</td>\n",
              "      <td>1</td>\n",
              "      <td>0</td>\n",
              "      <td>1</td>\n",
              "      <td>10</td>\n",
              "      <td>1</td>\n",
              "      <td>0</td>\n",
              "      <td>0</td>\n",
              "      <td>1</td>\n",
              "      <td>0.25</td>\n",
              "      <td>HIT</td>\n",
              "      <td>0.0</td>\n",
              "      <td>NaN</td>\n",
              "      <td>20</td>\n",
              "    </tr>\n",
              "  </tbody>\n",
              "</table>\n",
              "<p>67 rows × 14 columns</p>\n",
              "</div>\n",
              "    <div class=\"colab-df-buttons\">\n",
              "\n",
              "  <div class=\"colab-df-container\">\n",
              "    <button class=\"colab-df-convert\" onclick=\"convertToInteractive('df-0cbbddf3-8de3-44ef-9bb9-f35217616699')\"\n",
              "            title=\"Convert this dataframe to an interactive table.\"\n",
              "            style=\"display:none;\">\n",
              "\n",
              "  <svg xmlns=\"http://www.w3.org/2000/svg\" height=\"24px\" viewBox=\"0 -960 960 960\">\n",
              "    <path d=\"M120-120v-720h720v720H120Zm60-500h600v-160H180v160Zm220 220h160v-160H400v160Zm0 220h160v-160H400v160ZM180-400h160v-160H180v160Zm440 0h160v-160H620v160ZM180-180h160v-160H180v160Zm440 0h160v-160H620v160Z\"/>\n",
              "  </svg>\n",
              "    </button>\n",
              "\n",
              "  <style>\n",
              "    .colab-df-container {\n",
              "      display:flex;\n",
              "      gap: 12px;\n",
              "    }\n",
              "\n",
              "    .colab-df-convert {\n",
              "      background-color: #E8F0FE;\n",
              "      border: none;\n",
              "      border-radius: 50%;\n",
              "      cursor: pointer;\n",
              "      display: none;\n",
              "      fill: #1967D2;\n",
              "      height: 32px;\n",
              "      padding: 0 0 0 0;\n",
              "      width: 32px;\n",
              "    }\n",
              "\n",
              "    .colab-df-convert:hover {\n",
              "      background-color: #E2EBFA;\n",
              "      box-shadow: 0px 1px 2px rgba(60, 64, 67, 0.3), 0px 1px 3px 1px rgba(60, 64, 67, 0.15);\n",
              "      fill: #174EA6;\n",
              "    }\n",
              "\n",
              "    .colab-df-buttons div {\n",
              "      margin-bottom: 4px;\n",
              "    }\n",
              "\n",
              "    [theme=dark] .colab-df-convert {\n",
              "      background-color: #3B4455;\n",
              "      fill: #D2E3FC;\n",
              "    }\n",
              "\n",
              "    [theme=dark] .colab-df-convert:hover {\n",
              "      background-color: #434B5C;\n",
              "      box-shadow: 0px 1px 3px 1px rgba(0, 0, 0, 0.15);\n",
              "      filter: drop-shadow(0px 1px 2px rgba(0, 0, 0, 0.3));\n",
              "      fill: #FFFFFF;\n",
              "    }\n",
              "  </style>\n",
              "\n",
              "    <script>\n",
              "      const buttonEl =\n",
              "        document.querySelector('#df-0cbbddf3-8de3-44ef-9bb9-f35217616699 button.colab-df-convert');\n",
              "      buttonEl.style.display =\n",
              "        google.colab.kernel.accessAllowed ? 'block' : 'none';\n",
              "\n",
              "      async function convertToInteractive(key) {\n",
              "        const element = document.querySelector('#df-0cbbddf3-8de3-44ef-9bb9-f35217616699');\n",
              "        const dataTable =\n",
              "          await google.colab.kernel.invokeFunction('convertToInteractive',\n",
              "                                                    [key], {});\n",
              "        if (!dataTable) return;\n",
              "\n",
              "        const docLinkHtml = 'Like what you see? Visit the ' +\n",
              "          '<a target=\"_blank\" href=https://colab.research.google.com/notebooks/data_table.ipynb>data table notebook</a>'\n",
              "          + ' to learn more about interactive tables.';\n",
              "        element.innerHTML = '';\n",
              "        dataTable['output_type'] = 'display_data';\n",
              "        await google.colab.output.renderOutput(dataTable, element);\n",
              "        const docLink = document.createElement('div');\n",
              "        docLink.innerHTML = docLinkHtml;\n",
              "        element.appendChild(docLink);\n",
              "      }\n",
              "    </script>\n",
              "  </div>\n",
              "\n",
              "\n",
              "<div id=\"df-b26e81a5-fb3c-45cf-9234-eebb23646f18\">\n",
              "  <button class=\"colab-df-quickchart\" onclick=\"quickchart('df-b26e81a5-fb3c-45cf-9234-eebb23646f18')\"\n",
              "            title=\"Suggest charts\"\n",
              "            style=\"display:none;\">\n",
              "\n",
              "<svg xmlns=\"http://www.w3.org/2000/svg\" height=\"24px\"viewBox=\"0 0 24 24\"\n",
              "     width=\"24px\">\n",
              "    <g>\n",
              "        <path d=\"M19 3H5c-1.1 0-2 .9-2 2v14c0 1.1.9 2 2 2h14c1.1 0 2-.9 2-2V5c0-1.1-.9-2-2-2zM9 17H7v-7h2v7zm4 0h-2V7h2v10zm4 0h-2v-4h2v4z\"/>\n",
              "    </g>\n",
              "</svg>\n",
              "  </button>\n",
              "\n",
              "<style>\n",
              "  .colab-df-quickchart {\n",
              "      --bg-color: #E8F0FE;\n",
              "      --fill-color: #1967D2;\n",
              "      --hover-bg-color: #E2EBFA;\n",
              "      --hover-fill-color: #174EA6;\n",
              "      --disabled-fill-color: #AAA;\n",
              "      --disabled-bg-color: #DDD;\n",
              "  }\n",
              "\n",
              "  [theme=dark] .colab-df-quickchart {\n",
              "      --bg-color: #3B4455;\n",
              "      --fill-color: #D2E3FC;\n",
              "      --hover-bg-color: #434B5C;\n",
              "      --hover-fill-color: #FFFFFF;\n",
              "      --disabled-bg-color: #3B4455;\n",
              "      --disabled-fill-color: #666;\n",
              "  }\n",
              "\n",
              "  .colab-df-quickchart {\n",
              "    background-color: var(--bg-color);\n",
              "    border: none;\n",
              "    border-radius: 50%;\n",
              "    cursor: pointer;\n",
              "    display: none;\n",
              "    fill: var(--fill-color);\n",
              "    height: 32px;\n",
              "    padding: 0;\n",
              "    width: 32px;\n",
              "  }\n",
              "\n",
              "  .colab-df-quickchart:hover {\n",
              "    background-color: var(--hover-bg-color);\n",
              "    box-shadow: 0 1px 2px rgba(60, 64, 67, 0.3), 0 1px 3px 1px rgba(60, 64, 67, 0.15);\n",
              "    fill: var(--button-hover-fill-color);\n",
              "  }\n",
              "\n",
              "  .colab-df-quickchart-complete:disabled,\n",
              "  .colab-df-quickchart-complete:disabled:hover {\n",
              "    background-color: var(--disabled-bg-color);\n",
              "    fill: var(--disabled-fill-color);\n",
              "    box-shadow: none;\n",
              "  }\n",
              "\n",
              "  .colab-df-spinner {\n",
              "    border: 2px solid var(--fill-color);\n",
              "    border-color: transparent;\n",
              "    border-bottom-color: var(--fill-color);\n",
              "    animation:\n",
              "      spin 1s steps(1) infinite;\n",
              "  }\n",
              "\n",
              "  @keyframes spin {\n",
              "    0% {\n",
              "      border-color: transparent;\n",
              "      border-bottom-color: var(--fill-color);\n",
              "      border-left-color: var(--fill-color);\n",
              "    }\n",
              "    20% {\n",
              "      border-color: transparent;\n",
              "      border-left-color: var(--fill-color);\n",
              "      border-top-color: var(--fill-color);\n",
              "    }\n",
              "    30% {\n",
              "      border-color: transparent;\n",
              "      border-left-color: var(--fill-color);\n",
              "      border-top-color: var(--fill-color);\n",
              "      border-right-color: var(--fill-color);\n",
              "    }\n",
              "    40% {\n",
              "      border-color: transparent;\n",
              "      border-right-color: var(--fill-color);\n",
              "      border-top-color: var(--fill-color);\n",
              "    }\n",
              "    60% {\n",
              "      border-color: transparent;\n",
              "      border-right-color: var(--fill-color);\n",
              "    }\n",
              "    80% {\n",
              "      border-color: transparent;\n",
              "      border-right-color: var(--fill-color);\n",
              "      border-bottom-color: var(--fill-color);\n",
              "    }\n",
              "    90% {\n",
              "      border-color: transparent;\n",
              "      border-bottom-color: var(--fill-color);\n",
              "    }\n",
              "  }\n",
              "</style>\n",
              "\n",
              "  <script>\n",
              "    async function quickchart(key) {\n",
              "      const quickchartButtonEl =\n",
              "        document.querySelector('#' + key + ' button');\n",
              "      quickchartButtonEl.disabled = true;  // To prevent multiple clicks.\n",
              "      quickchartButtonEl.classList.add('colab-df-spinner');\n",
              "      try {\n",
              "        const charts = await google.colab.kernel.invokeFunction(\n",
              "            'suggestCharts', [key], {});\n",
              "      } catch (error) {\n",
              "        console.error('Error during call to suggestCharts:', error);\n",
              "      }\n",
              "      quickchartButtonEl.classList.remove('colab-df-spinner');\n",
              "      quickchartButtonEl.classList.add('colab-df-quickchart-complete');\n",
              "    }\n",
              "    (() => {\n",
              "      let quickchartButtonEl =\n",
              "        document.querySelector('#df-b26e81a5-fb3c-45cf-9234-eebb23646f18 button');\n",
              "      quickchartButtonEl.style.display =\n",
              "        google.colab.kernel.accessAllowed ? 'block' : 'none';\n",
              "    })();\n",
              "  </script>\n",
              "</div>\n",
              "    </div>\n",
              "  </div>\n"
            ]
          },
          "metadata": {},
          "execution_count": 211
        }
      ]
    },
    {
      "cell_type": "markdown",
      "source": [
        "## Basic Strategy Comparison"
      ],
      "metadata": {
        "id": "5e6PBMR0J0Nq"
      }
    },
    {
      "cell_type": "code",
      "source": [
        "# Hard hand evaluation\n",
        "eval_df = raw_df[raw_df['Has Ace'] == 0].tail(10000)\n",
        "hard_action = {}\n",
        "\n",
        "for hero_hand in range(8, 22):\n",
        "  for dealer in range(1, 11):\n",
        "    hard_action[(hero_hand, dealer)] = eval_df[(eval_df[\"Hand\"] == hero_hand) & (eval_df[\"Dealer\"] == dealer)]['Action'].mode().iloc[0]"
      ],
      "metadata": {
        "id": "7PRv53hyJz4E"
      },
      "execution_count": 212,
      "outputs": []
    },
    {
      "cell_type": "code",
      "source": [
        "hard_action"
      ],
      "metadata": {
        "colab": {
          "base_uri": "https://localhost:8080/"
        },
        "id": "B-wzwS61Ks9C",
        "outputId": "3c1d051d-b53b-4a32-abbf-10d67ec99dfa"
      },
      "execution_count": 213,
      "outputs": [
        {
          "output_type": "execute_result",
          "data": {
            "text/plain": [
              "{(8, 1): 'HIT',\n",
              " (8, 2): 'HIT',\n",
              " (8, 3): 'HIT',\n",
              " (8, 4): 'HIT',\n",
              " (8, 5): 'HIT',\n",
              " (8, 6): 'HIT',\n",
              " (8, 7): 'HIT',\n",
              " (8, 8): 'HIT',\n",
              " (8, 9): 'HIT',\n",
              " (8, 10): 'HIT',\n",
              " (9, 1): 'HIT',\n",
              " (9, 2): 'HIT',\n",
              " (9, 3): 'HIT',\n",
              " (9, 4): 'HIT',\n",
              " (9, 5): 'HIT',\n",
              " (9, 6): 'HIT',\n",
              " (9, 7): 'HIT',\n",
              " (9, 8): 'HIT',\n",
              " (9, 9): 'HIT',\n",
              " (9, 10): 'HIT',\n",
              " (10, 1): 'HIT',\n",
              " (10, 2): 'HIT',\n",
              " (10, 3): 'HIT',\n",
              " (10, 4): 'HIT',\n",
              " (10, 5): 'HIT',\n",
              " (10, 6): 'HIT',\n",
              " (10, 7): 'HIT',\n",
              " (10, 8): 'HIT',\n",
              " (10, 9): 'HIT',\n",
              " (10, 10): 'HIT',\n",
              " (11, 1): 'HIT',\n",
              " (11, 2): 'HIT',\n",
              " (11, 3): 'HIT',\n",
              " (11, 4): 'HIT',\n",
              " (11, 5): 'HIT',\n",
              " (11, 6): 'HIT',\n",
              " (11, 7): 'HIT',\n",
              " (11, 8): 'HIT',\n",
              " (11, 9): 'HIT',\n",
              " (11, 10): 'HIT',\n",
              " (12, 1): 'HIT',\n",
              " (12, 2): 'HIT',\n",
              " (12, 3): 'HIT',\n",
              " (12, 4): 'HIT',\n",
              " (12, 5): 'HIT',\n",
              " (12, 6): 'HIT',\n",
              " (12, 7): 'HIT',\n",
              " (12, 8): 'HIT',\n",
              " (12, 9): 'HIT',\n",
              " (12, 10): 'HIT',\n",
              " (13, 1): 'HIT',\n",
              " (13, 2): 'HIT',\n",
              " (13, 3): 'HIT',\n",
              " (13, 4): 'HIT',\n",
              " (13, 5): 'HIT',\n",
              " (13, 6): 'HIT',\n",
              " (13, 7): 'HIT',\n",
              " (13, 8): 'HIT',\n",
              " (13, 9): 'HIT',\n",
              " (13, 10): 'HIT',\n",
              " (14, 1): 'HIT',\n",
              " (14, 2): 'HIT',\n",
              " (14, 3): 'HIT',\n",
              " (14, 4): 'STAND',\n",
              " (14, 5): 'STAND',\n",
              " (14, 6): 'STAND',\n",
              " (14, 7): 'HIT',\n",
              " (14, 8): 'HIT',\n",
              " (14, 9): 'HIT',\n",
              " (14, 10): 'HIT',\n",
              " (15, 1): 'HIT',\n",
              " (15, 2): 'STAND',\n",
              " (15, 3): 'STAND',\n",
              " (15, 4): 'STAND',\n",
              " (15, 5): 'STAND',\n",
              " (15, 6): 'STAND',\n",
              " (15, 7): 'HIT',\n",
              " (15, 8): 'HIT',\n",
              " (15, 9): 'HIT',\n",
              " (15, 10): 'HIT',\n",
              " (16, 1): 'HIT',\n",
              " (16, 2): 'STAND',\n",
              " (16, 3): 'STAND',\n",
              " (16, 4): 'STAND',\n",
              " (16, 5): 'STAND',\n",
              " (16, 6): 'STAND',\n",
              " (16, 7): 'HIT',\n",
              " (16, 8): 'HIT',\n",
              " (16, 9): 'HIT',\n",
              " (16, 10): 'HIT',\n",
              " (17, 1): 'STAND',\n",
              " (17, 2): 'STAND',\n",
              " (17, 3): 'STAND',\n",
              " (17, 4): 'STAND',\n",
              " (17, 5): 'STAND',\n",
              " (17, 6): 'STAND',\n",
              " (17, 7): 'STAND',\n",
              " (17, 8): 'STAND',\n",
              " (17, 9): 'STAND',\n",
              " (17, 10): 'HIT',\n",
              " (18, 1): 'STAND',\n",
              " (18, 2): 'STAND',\n",
              " (18, 3): 'STAND',\n",
              " (18, 4): 'STAND',\n",
              " (18, 5): 'STAND',\n",
              " (18, 6): 'STAND',\n",
              " (18, 7): 'STAND',\n",
              " (18, 8): 'STAND',\n",
              " (18, 9): 'STAND',\n",
              " (18, 10): 'STAND',\n",
              " (19, 1): 'STAND',\n",
              " (19, 2): 'STAND',\n",
              " (19, 3): 'STAND',\n",
              " (19, 4): 'STAND',\n",
              " (19, 5): 'STAND',\n",
              " (19, 6): 'STAND',\n",
              " (19, 7): 'STAND',\n",
              " (19, 8): 'STAND',\n",
              " (19, 9): 'STAND',\n",
              " (19, 10): 'STAND',\n",
              " (20, 1): 'STAND',\n",
              " (20, 2): 'STAND',\n",
              " (20, 3): 'STAND',\n",
              " (20, 4): 'STAND',\n",
              " (20, 5): 'STAND',\n",
              " (20, 6): 'STAND',\n",
              " (20, 7): 'STAND',\n",
              " (20, 8): 'STAND',\n",
              " (20, 9): 'STAND',\n",
              " (20, 10): 'STAND',\n",
              " (21, 1): 'STAND',\n",
              " (21, 2): 'STAND',\n",
              " (21, 3): 'STAND',\n",
              " (21, 4): 'STAND',\n",
              " (21, 5): 'STAND',\n",
              " (21, 6): 'STAND',\n",
              " (21, 7): 'STAND',\n",
              " (21, 8): 'STAND',\n",
              " (21, 9): 'STAND',\n",
              " (21, 10): 'STAND'}"
            ]
          },
          "metadata": {},
          "execution_count": 213
        }
      ]
    },
    {
      "cell_type": "code",
      "source": [
        "# Soft hand evaluation\n",
        "eval_df = raw_df[raw_df['Has Ace'] == 1].tail(10000)\n",
        "soft_action = {}\n",
        "\n",
        "for hero_hand in range(2, 12):\n",
        "  for dealer in range(1, 11):\n",
        "    soft_action[(hero_hand, dealer)] = eval_df[(eval_df[\"Hand\"] == hero_hand) & (eval_df[\"Dealer\"] == dealer)]['Action'].mode().iloc[0]"
      ],
      "metadata": {
        "id": "qCvgP-a2LrSM"
      },
      "execution_count": 214,
      "outputs": []
    },
    {
      "cell_type": "code",
      "source": [
        "soft_action"
      ],
      "metadata": {
        "colab": {
          "base_uri": "https://localhost:8080/"
        },
        "id": "fIzsAnrkMPYz",
        "outputId": "c7168999-13e4-4c8f-87e6-7df5d616d6a3"
      },
      "execution_count": 215,
      "outputs": [
        {
          "output_type": "execute_result",
          "data": {
            "text/plain": [
              "{(2, 1): 'SPLIT',\n",
              " (2, 2): 'SPLIT',\n",
              " (2, 3): 'SPLIT',\n",
              " (2, 4): 'SPLIT',\n",
              " (2, 5): 'SPLIT',\n",
              " (2, 6): 'SPLIT',\n",
              " (2, 7): 'SPLIT',\n",
              " (2, 8): 'SPLIT',\n",
              " (2, 9): 'SPLIT',\n",
              " (2, 10): 'SPLIT',\n",
              " (3, 1): 'HIT',\n",
              " (3, 2): 'HIT',\n",
              " (3, 3): 'HIT',\n",
              " (3, 4): 'HIT',\n",
              " (3, 5): 'HIT',\n",
              " (3, 6): 'HIT',\n",
              " (3, 7): 'HIT',\n",
              " (3, 8): 'HIT',\n",
              " (3, 9): 'HIT',\n",
              " (3, 10): 'HIT',\n",
              " (4, 1): 'HIT',\n",
              " (4, 2): 'HIT',\n",
              " (4, 3): 'HIT',\n",
              " (4, 4): 'HIT',\n",
              " (4, 5): 'HIT',\n",
              " (4, 6): 'HIT',\n",
              " (4, 7): 'HIT',\n",
              " (4, 8): 'HIT',\n",
              " (4, 9): 'HIT',\n",
              " (4, 10): 'HIT',\n",
              " (5, 1): 'HIT',\n",
              " (5, 2): 'HIT',\n",
              " (5, 3): 'HIT',\n",
              " (5, 4): 'HIT',\n",
              " (5, 5): 'HIT',\n",
              " (5, 6): 'HIT',\n",
              " (5, 7): 'HIT',\n",
              " (5, 8): 'HIT',\n",
              " (5, 9): 'HIT',\n",
              " (5, 10): 'HIT',\n",
              " (6, 1): 'HIT',\n",
              " (6, 2): 'HIT',\n",
              " (6, 3): 'HIT',\n",
              " (6, 4): 'HIT',\n",
              " (6, 5): 'HIT',\n",
              " (6, 6): 'HIT',\n",
              " (6, 7): 'HIT',\n",
              " (6, 8): 'HIT',\n",
              " (6, 9): 'HIT',\n",
              " (6, 10): 'HIT',\n",
              " (7, 1): 'HIT',\n",
              " (7, 2): 'HIT',\n",
              " (7, 3): 'HIT',\n",
              " (7, 4): 'HIT',\n",
              " (7, 5): 'HIT',\n",
              " (7, 6): 'HIT',\n",
              " (7, 7): 'HIT',\n",
              " (7, 8): 'HIT',\n",
              " (7, 9): 'HIT',\n",
              " (7, 10): 'HIT',\n",
              " (8, 1): 'HIT',\n",
              " (8, 2): 'HIT',\n",
              " (8, 3): 'HIT',\n",
              " (8, 4): 'HIT',\n",
              " (8, 5): 'HIT',\n",
              " (8, 6): 'HIT',\n",
              " (8, 7): 'HIT',\n",
              " (8, 8): 'HIT',\n",
              " (8, 9): 'HIT',\n",
              " (8, 10): 'HIT',\n",
              " (9, 1): 'HIT',\n",
              " (9, 2): 'HIT',\n",
              " (9, 3): 'HIT',\n",
              " (9, 4): 'HIT',\n",
              " (9, 5): 'HIT',\n",
              " (9, 6): 'HIT',\n",
              " (9, 7): 'STAND',\n",
              " (9, 8): 'STAND',\n",
              " (9, 9): 'STAND',\n",
              " (9, 10): 'HIT',\n",
              " (10, 1): 'HIT',\n",
              " (10, 2): 'STAND',\n",
              " (10, 3): 'STAND',\n",
              " (10, 4): 'STAND',\n",
              " (10, 5): 'STAND',\n",
              " (10, 6): 'STAND',\n",
              " (10, 7): 'STAND',\n",
              " (10, 8): 'STAND',\n",
              " (10, 9): 'STAND',\n",
              " (10, 10): 'STAND',\n",
              " (11, 1): 'STAND',\n",
              " (11, 2): 'STAND',\n",
              " (11, 3): 'STAND',\n",
              " (11, 4): 'STAND',\n",
              " (11, 5): 'STAND',\n",
              " (11, 6): 'STAND',\n",
              " (11, 7): 'STAND',\n",
              " (11, 8): 'STAND',\n",
              " (11, 9): 'STAND',\n",
              " (11, 10): 'STAND'}"
            ]
          },
          "metadata": {},
          "execution_count": 215
        }
      ]
    },
    {
      "cell_type": "code",
      "source": [],
      "metadata": {
        "id": "cziLp4oCMQRh"
      },
      "execution_count": 215,
      "outputs": []
    }
  ]
}